{
 "cells": [
  {
   "cell_type": "markdown",
   "id": "6a8fdff6",
   "metadata": {},
   "source": [
    "# `scikit-learn-whiskers`\n",
    "https://github.com/ayaranitram/scikit-learn-whiskers\n",
    "\n",
    "# import"
   ]
  },
  {
   "cell_type": "code",
   "execution_count": 1,
   "id": "40423f75",
   "metadata": {
    "ExecuteTime": {
     "end_time": "2024-01-01T23:08:04.308208Z",
     "start_time": "2024-01-01T23:08:03.432024Z"
    }
   },
   "outputs": [],
   "source": [
    "from sklearn_whiskers import WhiskerOutliers, StandardOutliers"
   ]
  },
  {
   "cell_type": "code",
   "execution_count": 2,
   "id": "d3d8eae5",
   "metadata": {
    "ExecuteTime": {
     "end_time": "2024-01-01T23:08:04.664306Z",
     "start_time": "2024-01-01T23:08:04.310231Z"
    }
   },
   "outputs": [],
   "source": [
    "import pandas as pd\n",
    "import numpy as np\n",
    "import seaborn as sns\n",
    "import matplotlib.pyplot as plt"
   ]
  },
  {
   "cell_type": "markdown",
   "id": "3fadde05",
   "metadata": {},
   "source": [
    "# reading synthetic data"
   ]
  },
  {
   "cell_type": "code",
   "execution_count": 3,
   "id": "16bf834d",
   "metadata": {
    "ExecuteTime": {
     "end_time": "2024-01-01T23:08:04.679700Z",
     "start_time": "2024-01-01T23:08:04.665969Z"
    }
   },
   "outputs": [],
   "source": [
    "data = pd.read_csv('./test/data/synthetic_data.csv')"
   ]
  },
  {
   "cell_type": "markdown",
   "id": "fd1f7189",
   "metadata": {},
   "source": [
    "## exploring the demo data\n",
    "The data used in this demo has been generated randomly following a gaussian distribution and then a few outlier values has been manually added."
   ]
  },
  {
   "cell_type": "code",
   "execution_count": 4,
   "id": "729cec2b",
   "metadata": {
    "ExecuteTime": {
     "end_time": "2024-01-01T23:08:04.695712Z",
     "start_time": "2024-01-01T23:08:04.681724Z"
    },
    "scrolled": false
   },
   "outputs": [
    {
     "data": {
      "text/html": [
       "<div>\n",
       "<style scoped>\n",
       "    .dataframe tbody tr th:only-of-type {\n",
       "        vertical-align: middle;\n",
       "    }\n",
       "\n",
       "    .dataframe tbody tr th {\n",
       "        vertical-align: top;\n",
       "    }\n",
       "\n",
       "    .dataframe thead th {\n",
       "        text-align: right;\n",
       "    }\n",
       "</style>\n",
       "<table border=\"1\" class=\"dataframe\">\n",
       "  <thead>\n",
       "    <tr style=\"text-align: right;\">\n",
       "      <th></th>\n",
       "      <th>A</th>\n",
       "      <th>B</th>\n",
       "    </tr>\n",
       "  </thead>\n",
       "  <tbody>\n",
       "    <tr>\n",
       "      <th>0</th>\n",
       "      <td>-5.751340</td>\n",
       "      <td>18</td>\n",
       "    </tr>\n",
       "    <tr>\n",
       "      <th>1</th>\n",
       "      <td>0.183419</td>\n",
       "      <td>34</td>\n",
       "    </tr>\n",
       "    <tr>\n",
       "      <th>2</th>\n",
       "      <td>-1.739405</td>\n",
       "      <td>23</td>\n",
       "    </tr>\n",
       "    <tr>\n",
       "      <th>3</th>\n",
       "      <td>-0.407147</td>\n",
       "      <td>12</td>\n",
       "    </tr>\n",
       "    <tr>\n",
       "      <th>4</th>\n",
       "      <td>-0.813476</td>\n",
       "      <td>29</td>\n",
       "    </tr>\n",
       "    <tr>\n",
       "      <th>5</th>\n",
       "      <td>0.601784</td>\n",
       "      <td>25</td>\n",
       "    </tr>\n",
       "    <tr>\n",
       "      <th>6</th>\n",
       "      <td>0.130457</td>\n",
       "      <td>21</td>\n",
       "    </tr>\n",
       "    <tr>\n",
       "      <th>7</th>\n",
       "      <td>0.315318</td>\n",
       "      <td>3</td>\n",
       "    </tr>\n",
       "    <tr>\n",
       "      <th>8</th>\n",
       "      <td>0.716157</td>\n",
       "      <td>29</td>\n",
       "    </tr>\n",
       "    <tr>\n",
       "      <th>9</th>\n",
       "      <td>-0.703382</td>\n",
       "      <td>24</td>\n",
       "    </tr>\n",
       "    <tr>\n",
       "      <th>10</th>\n",
       "      <td>-0.376354</td>\n",
       "      <td>32</td>\n",
       "    </tr>\n",
       "    <tr>\n",
       "      <th>11</th>\n",
       "      <td>0.638981</td>\n",
       "      <td>41</td>\n",
       "    </tr>\n",
       "    <tr>\n",
       "      <th>12</th>\n",
       "      <td>-1.469733</td>\n",
       "      <td>17</td>\n",
       "    </tr>\n",
       "    <tr>\n",
       "      <th>13</th>\n",
       "      <td>-1.788557</td>\n",
       "      <td>23</td>\n",
       "    </tr>\n",
       "    <tr>\n",
       "      <th>14</th>\n",
       "      <td>0.093530</td>\n",
       "      <td>27</td>\n",
       "    </tr>\n",
       "    <tr>\n",
       "      <th>15</th>\n",
       "      <td>-0.947836</td>\n",
       "      <td>30</td>\n",
       "    </tr>\n",
       "    <tr>\n",
       "      <th>16</th>\n",
       "      <td>-0.379213</td>\n",
       "      <td>56</td>\n",
       "    </tr>\n",
       "    <tr>\n",
       "      <th>17</th>\n",
       "      <td>-0.420326</td>\n",
       "      <td>25</td>\n",
       "    </tr>\n",
       "    <tr>\n",
       "      <th>18</th>\n",
       "      <td>0.440307</td>\n",
       "      <td>14</td>\n",
       "    </tr>\n",
       "    <tr>\n",
       "      <th>19</th>\n",
       "      <td>-0.288918</td>\n",
       "      <td>31</td>\n",
       "    </tr>\n",
       "    <tr>\n",
       "      <th>20</th>\n",
       "      <td>-0.606306</td>\n",
       "      <td>20</td>\n",
       "    </tr>\n",
       "    <tr>\n",
       "      <th>21</th>\n",
       "      <td>1.315781</td>\n",
       "      <td>27</td>\n",
       "    </tr>\n",
       "    <tr>\n",
       "      <th>22</th>\n",
       "      <td>-1.779490</td>\n",
       "      <td>29</td>\n",
       "    </tr>\n",
       "    <tr>\n",
       "      <th>23</th>\n",
       "      <td>-0.733635</td>\n",
       "      <td>11</td>\n",
       "    </tr>\n",
       "    <tr>\n",
       "      <th>24</th>\n",
       "      <td>0.338525</td>\n",
       "      <td>25</td>\n",
       "    </tr>\n",
       "    <tr>\n",
       "      <th>25</th>\n",
       "      <td>1.585907</td>\n",
       "      <td>27</td>\n",
       "    </tr>\n",
       "    <tr>\n",
       "      <th>26</th>\n",
       "      <td>9.579174</td>\n",
       "      <td>27</td>\n",
       "    </tr>\n",
       "    <tr>\n",
       "      <th>27</th>\n",
       "      <td>8.476100</td>\n",
       "      <td>17</td>\n",
       "    </tr>\n",
       "    <tr>\n",
       "      <th>28</th>\n",
       "      <td>7.054872</td>\n",
       "      <td>99</td>\n",
       "    </tr>\n",
       "    <tr>\n",
       "      <th>29</th>\n",
       "      <td>-8.178300</td>\n",
       "      <td>-25</td>\n",
       "    </tr>\n",
       "  </tbody>\n",
       "</table>\n",
       "</div>"
      ],
      "text/plain": [
       "           A   B\n",
       "0  -5.751340  18\n",
       "1   0.183419  34\n",
       "2  -1.739405  23\n",
       "3  -0.407147  12\n",
       "4  -0.813476  29\n",
       "5   0.601784  25\n",
       "6   0.130457  21\n",
       "7   0.315318   3\n",
       "8   0.716157  29\n",
       "9  -0.703382  24\n",
       "10 -0.376354  32\n",
       "11  0.638981  41\n",
       "12 -1.469733  17\n",
       "13 -1.788557  23\n",
       "14  0.093530  27\n",
       "15 -0.947836  30\n",
       "16 -0.379213  56\n",
       "17 -0.420326  25\n",
       "18  0.440307  14\n",
       "19 -0.288918  31\n",
       "20 -0.606306  20\n",
       "21  1.315781  27\n",
       "22 -1.779490  29\n",
       "23 -0.733635  11\n",
       "24  0.338525  25\n",
       "25  1.585907  27\n",
       "26  9.579174  27\n",
       "27  8.476100  17\n",
       "28  7.054872  99\n",
       "29 -8.178300 -25"
      ]
     },
     "execution_count": 4,
     "metadata": {},
     "output_type": "execute_result"
    }
   ],
   "source": [
    "data"
   ]
  },
  {
   "cell_type": "code",
   "execution_count": 5,
   "id": "4eaf6deb",
   "metadata": {
    "ExecuteTime": {
     "end_time": "2024-01-01T23:08:04.711514Z",
     "start_time": "2024-01-01T23:08:04.696839Z"
    }
   },
   "outputs": [
    {
     "data": {
      "text/html": [
       "<div>\n",
       "<style scoped>\n",
       "    .dataframe tbody tr th:only-of-type {\n",
       "        vertical-align: middle;\n",
       "    }\n",
       "\n",
       "    .dataframe tbody tr th {\n",
       "        vertical-align: top;\n",
       "    }\n",
       "\n",
       "    .dataframe thead th {\n",
       "        text-align: right;\n",
       "    }\n",
       "</style>\n",
       "<table border=\"1\" class=\"dataframe\">\n",
       "  <thead>\n",
       "    <tr style=\"text-align: right;\">\n",
       "      <th></th>\n",
       "      <th>A</th>\n",
       "      <th>B</th>\n",
       "    </tr>\n",
       "  </thead>\n",
       "  <tbody>\n",
       "    <tr>\n",
       "      <th>count</th>\n",
       "      <td>30.000000</td>\n",
       "      <td>30.000000</td>\n",
       "    </tr>\n",
       "    <tr>\n",
       "      <th>mean</th>\n",
       "      <td>0.169563</td>\n",
       "      <td>25.700000</td>\n",
       "    </tr>\n",
       "    <tr>\n",
       "      <th>std</th>\n",
       "      <td>3.392163</td>\n",
       "      <td>19.145811</td>\n",
       "    </tr>\n",
       "    <tr>\n",
       "      <th>min</th>\n",
       "      <td>-8.178300</td>\n",
       "      <td>-25.000000</td>\n",
       "    </tr>\n",
       "    <tr>\n",
       "      <th>25%</th>\n",
       "      <td>-0.793515</td>\n",
       "      <td>18.500000</td>\n",
       "    </tr>\n",
       "    <tr>\n",
       "      <th>50%</th>\n",
       "      <td>-0.332636</td>\n",
       "      <td>25.000000</td>\n",
       "    </tr>\n",
       "    <tr>\n",
       "      <th>75%</th>\n",
       "      <td>0.561415</td>\n",
       "      <td>29.000000</td>\n",
       "    </tr>\n",
       "    <tr>\n",
       "      <th>max</th>\n",
       "      <td>9.579174</td>\n",
       "      <td>99.000000</td>\n",
       "    </tr>\n",
       "  </tbody>\n",
       "</table>\n",
       "</div>"
      ],
      "text/plain": [
       "               A          B\n",
       "count  30.000000  30.000000\n",
       "mean    0.169563  25.700000\n",
       "std     3.392163  19.145811\n",
       "min    -8.178300 -25.000000\n",
       "25%    -0.793515  18.500000\n",
       "50%    -0.332636  25.000000\n",
       "75%     0.561415  29.000000\n",
       "max     9.579174  99.000000"
      ]
     },
     "execution_count": 5,
     "metadata": {},
     "output_type": "execute_result"
    }
   ],
   "source": [
    "data.describe()"
   ]
  },
  {
   "cell_type": "markdown",
   "id": "b89b80df",
   "metadata": {},
   "source": [
    "## Visualizing the data\n",
    "The boxplots below illustrate the oultier values that is intended to be eliminated from the data:"
   ]
  },
  {
   "cell_type": "code",
   "execution_count": 6,
   "id": "6e541175",
   "metadata": {
    "ExecuteTime": {
     "end_time": "2024-01-01T23:08:04.960659Z",
     "start_time": "2024-01-01T23:08:04.712509Z"
    },
    "scrolled": true
   },
   "outputs": [
    {
     "data": {
      "image/png": "[encoded data removed]",
      "text/plain": [
       "<Figure size 700x300 with 2 Axes>"
      ]
     },
     "metadata": {},
     "output_type": "display_data"
    }
   ],
   "source": [
    "fig, ax = plt.subplots(1, 2, figsize=(7, 3), sharey=True)\n",
    "sns.histplot(data, x='A', bins=15, kde=True, stat='probability', ax=ax[0])\n",
    "sns.histplot(data, x='B', bins=15, kde=True, stat='probability', ax=ax[1])\n",
    "plt.tight_layout()\n",
    "plt.show()"
   ]
  },
  {
   "cell_type": "code",
   "execution_count": 7,
   "id": "947ac226",
   "metadata": {
    "ExecuteTime": {
     "end_time": "2024-01-01T23:08:05.054189Z",
     "start_time": "2024-01-01T23:08:04.961653Z"
    }
   },
   "outputs": [
    {
     "data": {
      "image/png": "[encoded data removed]",
      "text/plain": [
       "<Figure size 1000x100 with 1 Axes>"
      ]
     },
     "metadata": {},
     "output_type": "display_data"
    }
   ],
   "source": [
    "data.boxplot('A', figsize=(10, 1), vert=False)\n",
    "plt.show()"
   ]
  },
  {
   "cell_type": "code",
   "execution_count": 8,
   "id": "7277e8fd",
   "metadata": {
    "ExecuteTime": {
     "end_time": "2024-01-01T23:08:05.131239Z",
     "start_time": "2024-01-01T23:08:05.054691Z"
    },
    "scrolled": true
   },
   "outputs": [
    {
     "data": {
      "image/png": "[encoded data removed]",
      "text/plain": [
       "<Figure size 1000x100 with 1 Axes>"
      ]
     },
     "metadata": {},
     "output_type": "display_data"
    }
   ],
   "source": [
    "data.boxplot('B', figsize=(10, 1), vert=False)\n",
    "plt.show()"
   ]
  },
  {
   "cell_type": "markdown",
   "id": "58aa5ec0",
   "metadata": {},
   "source": [
    "# `WhiskerOutliers` instances\n",
    "## Parameters:\n",
    "Only two parameters for these instances:\n",
    "\n",
    "### `threshold`\n",
    "- `float`, `int` or `array-like` of size 2 indicating different threshold for lower and upper limits.\n",
    "- default=`3.0`\n",
    "- indicate the lenght of the whisker, values below or above the whisker will be considered outliers.\n",
    "\n",
    "### `mark_nan`\n",
    "- `bool`\n",
    "- default=`True`\n",
    "- if set to `True` the original values are returned with the outliers changed to NumPy.NaN\n",
    "\n",
    "### `add_indicator`\n",
    "- `bool`\n",
    "- default=`False`\n",
    "- if set to `True` new column(s) will be append indicating where an observation is an outlier:\n",
    "\n",
    "### `distinct`\n",
    "- `bool`\n",
    "- default=`True`\n",
    "- change the behaviour of `add_indicator`:\n",
    "    - `distinct=True`:\n",
    "        - **-1** for outliers < the minimum whisker, \n",
    "        - **0** for not outliers,\n",
    "        - **1** for outliers > the maximum whisker.\n",
    "    - `distinct=False`:\n",
    "        - **-1** for outliers, \n",
    "        - **1** for not outliers (inliers),"
   ]
  },
  {
   "cell_type": "markdown",
   "id": "0446e5f2",
   "metadata": {},
   "source": [
    "## Attribuites\n",
    "- **threshold**: the threshold, in terms of _inter-quantile range_, used to identifity the outliers.\n",
    "- **mark_nan**: `True` or `False` as requested by the user, to change or not the outliers by _NumPy.NaN_.\n",
    "- **add_indicator**: `True` or `False` as requested by the user, to return or not new column(s) indicating the outlier values.  \n",
    "- **distinct**: `True` or `False` as requested by the user, to change the behaviour of *add_indicator*.\n",
    "- **min_**: The minimum value that is not considered outlier.\n",
    "- **max_**: The maximum value that is not considered outlier."
   ]
  },
  {
   "cell_type": "code",
   "execution_count": 9,
   "id": "63afcbe0",
   "metadata": {
    "ExecuteTime": {
     "end_time": "2024-01-01T23:08:05.146566Z",
     "start_time": "2024-01-01T23:08:05.132208Z"
    }
   },
   "outputs": [],
   "source": [
    "wo = WhiskerOutliers()"
   ]
  },
  {
   "cell_type": "markdown",
   "id": "c8d5d500",
   "metadata": {},
   "source": [
    "## Methods\n",
    "### `fit(X, [y])`\n",
    "Fit the instance on `X`\n",
    "- `X`: pandas Series, DataFrame or array-like (like numpy array).\n",
    "- `y`: ignored, accepted for convention and compatibility.\n",
    "  \n",
    "To calculate and retain in the instance the minimum and maximum values, according the _iqr_ and input `threshold`, that identify the outliers.  \n",
    "\n",
    "How are the _iqr_, _minimum_ and _maximum_ calculated?\n",
    "- The _iqr_ is calculated as the absolute difference between the 3rd quartile and the 1st quartile of the input data `X`.\n",
    "- The _minimum_ is the 1st quartile (quantile 0.25) minus `threshold` times the _iqr_\n",
    "- The _maximum_ is the 3rd quartile (quantile 0.75) plus `threshold` times the _iqr_"
   ]
  },
  {
   "cell_type": "code",
   "execution_count": 10,
   "id": "104863c6",
   "metadata": {
    "ExecuteTime": {
     "end_time": "2024-01-01T23:08:05.161627Z",
     "start_time": "2024-01-01T23:08:05.149551Z"
    }
   },
   "outputs": [
    {
     "data": {
      "text/html": [
       "<style>#sk-container-id-1 {color: black;background-color: white;}#sk-container-id-1 pre{padding: 0;}#sk-container-id-1 div.sk-toggleable {background-color: white;}#sk-container-id-1 label.sk-toggleable__label {cursor: pointer;display: block;width: 100%;margin-bottom: 0;padding: 0.3em;box-sizing: border-box;text-align: center;}#sk-container-id-1 label.sk-toggleable__label-arrow:before {content: \"▸\";float: left;margin-right: 0.25em;color: #696969;}#sk-container-id-1 label.sk-toggleable__label-arrow:hover:before {color: black;}#sk-container-id-1 div.sk-estimator:hover label.sk-toggleable__label-arrow:before {color: black;}#sk-container-id-1 div.sk-toggleable__content {max-height: 0;max-width: 0;overflow: hidden;text-align: left;background-color: #f0f8ff;}#sk-container-id-1 div.sk-toggleable__content pre {margin: 0.2em;color: black;border-radius: 0.25em;background-color: #f0f8ff;}#sk-container-id-1 input.sk-toggleable__control:checked~div.sk-toggleable__content {max-height: 200px;max-width: 100%;overflow: auto;}#sk-container-id-1 input.sk-toggleable__control:checked~label.sk-toggleable__label-arrow:before {content: \"▾\";}#sk-container-id-1 div.sk-estimator input.sk-toggleable__control:checked~label.sk-toggleable__label {background-color: #d4ebff;}#sk-container-id-1 div.sk-label input.sk-toggleable__control:checked~label.sk-toggleable__label {background-color: #d4ebff;}#sk-container-id-1 input.sk-hidden--visually {border: 0;clip: rect(1px 1px 1px 1px);clip: rect(1px, 1px, 1px, 1px);height: 1px;margin: -1px;overflow: hidden;padding: 0;position: absolute;width: 1px;}#sk-container-id-1 div.sk-estimator {font-family: monospace;background-color: #f0f8ff;border: 1px dotted black;border-radius: 0.25em;box-sizing: border-box;margin-bottom: 0.5em;}#sk-container-id-1 div.sk-estimator:hover {background-color: #d4ebff;}#sk-container-id-1 div.sk-parallel-item::after {content: \"\";width: 100%;border-bottom: 1px solid gray;flex-grow: 1;}#sk-container-id-1 div.sk-label:hover label.sk-toggleable__label {background-color: #d4ebff;}#sk-container-id-1 div.sk-serial::before {content: \"\";position: absolute;border-left: 1px solid gray;box-sizing: border-box;top: 0;bottom: 0;left: 50%;z-index: 0;}#sk-container-id-1 div.sk-serial {display: flex;flex-direction: column;align-items: center;background-color: white;padding-right: 0.2em;padding-left: 0.2em;position: relative;}#sk-container-id-1 div.sk-item {position: relative;z-index: 1;}#sk-container-id-1 div.sk-parallel {display: flex;align-items: stretch;justify-content: center;background-color: white;position: relative;}#sk-container-id-1 div.sk-item::before, #sk-container-id-1 div.sk-parallel-item::before {content: \"\";position: absolute;border-left: 1px solid gray;box-sizing: border-box;top: 0;bottom: 0;left: 50%;z-index: -1;}#sk-container-id-1 div.sk-parallel-item {display: flex;flex-direction: column;z-index: 1;position: relative;background-color: white;}#sk-container-id-1 div.sk-parallel-item:first-child::after {align-self: flex-end;width: 50%;}#sk-container-id-1 div.sk-parallel-item:last-child::after {align-self: flex-start;width: 50%;}#sk-container-id-1 div.sk-parallel-item:only-child::after {width: 0;}#sk-container-id-1 div.sk-dashed-wrapped {border: 1px dashed gray;margin: 0 0.4em 0.5em 0.4em;box-sizing: border-box;padding-bottom: 0.4em;background-color: white;}#sk-container-id-1 div.sk-label label {font-family: monospace;font-weight: bold;display: inline-block;line-height: 1.2em;}#sk-container-id-1 div.sk-label-container {text-align: center;}#sk-container-id-1 div.sk-container {/* jupyter's `normalize.less` sets `[hidden] { display: none; }` but bootstrap.min.css set `[hidden] { display: none !important; }` so we also need the `!important` here to be able to override the default hidden behavior on the sphinx rendered scikit-learn.org. See: https://github.com/scikit-learn/scikit-learn/issues/21755 */display: inline-block !important;position: relative;}#sk-container-id-1 div.sk-text-repr-fallback {display: none;}</style><div id=\"sk-container-id-1\" class=\"sk-top-container\"><div class=\"sk-text-repr-fallback\"><pre>WhiskerOutliers()</pre><b>In a Jupyter environment, please rerun this cell to show the HTML representation or trust the notebook. <br />On GitHub, the HTML representation is unable to render, please try loading this page with nbviewer.org.</b></div><div class=\"sk-container\" hidden><div class=\"sk-item\"><div class=\"sk-estimator sk-toggleable\"><input class=\"sk-toggleable__control sk-hidden--visually\" id=\"sk-estimator-id-1\" type=\"checkbox\" checked><label for=\"sk-estimator-id-1\" class=\"sk-toggleable__label sk-toggleable__label-arrow\">WhiskerOutliers</label><div class=\"sk-toggleable__content\"><pre>WhiskerOutliers()</pre></div></div></div></div></div>"
      ],
      "text/plain": [
       "WhiskerOutliers()"
      ]
     },
     "execution_count": 10,
     "metadata": {},
     "output_type": "execute_result"
    }
   ],
   "source": [
    "wo.fit(data)"
   ]
  },
  {
   "cell_type": "markdown",
   "id": "f161a12a",
   "metadata": {},
   "source": [
    "### `transform(X, [y])`\n",
    "Transform the dataset `X`, replacing by `nunpy.nan` the outlier values, according to the limits defined by the `.fit` method."
   ]
  },
  {
   "cell_type": "code",
   "execution_count": 11,
   "id": "970ffbcb",
   "metadata": {
    "ExecuteTime": {
     "end_time": "2024-01-01T23:08:05.177105Z",
     "start_time": "2024-01-01T23:08:05.162623Z"
    }
   },
   "outputs": [],
   "source": [
    "transformed = wo.transform(data)"
   ]
  },
  {
   "cell_type": "code",
   "execution_count": 12,
   "id": "6c3d057f",
   "metadata": {
    "ExecuteTime": {
     "end_time": "2024-01-01T23:08:05.254334Z",
     "start_time": "2024-01-01T23:08:05.179139Z"
    }
   },
   "outputs": [
    {
     "data": {
      "image/png": "[encoded data removed]",
      "text/plain": [
       "<Figure size 1000x100 with 1 Axes>"
      ]
     },
     "metadata": {},
     "output_type": "display_data"
    }
   ],
   "source": [
    "transformed.boxplot('A', figsize=(10, 1), vert=False)\n",
    "plt.show()"
   ]
  },
  {
   "cell_type": "code",
   "execution_count": 13,
   "id": "d9f3c019",
   "metadata": {
    "ExecuteTime": {
     "end_time": "2024-01-01T23:08:05.332165Z",
     "start_time": "2024-01-01T23:08:05.255517Z"
    },
    "scrolled": true
   },
   "outputs": [
    {
     "data": {
      "image/png": "[encoded data removed]",
      "text/plain": [
       "<Figure size 1000x100 with 1 Axes>"
      ]
     },
     "metadata": {},
     "output_type": "display_data"
    }
   ],
   "source": [
    "transformed.boxplot('B', figsize=(10, 1), vert=False)\n",
    "plt.show()"
   ]
  },
  {
   "cell_type": "markdown",
   "id": "809f30a4",
   "metadata": {},
   "source": [
    "### `fit_transform(X, [y])`\n",
    "Fit and apply transformation to `X` and return the transformed data.\n",
    "- `X`: pandas Series, DataFrame or array-like (like numpy array).\n",
    "- `y`: ignored, accepted for convention and compatibility."
   ]
  },
  {
   "cell_type": "code",
   "execution_count": 14,
   "id": "9dfc64cd",
   "metadata": {
    "ExecuteTime": {
     "end_time": "2024-01-01T23:08:05.347688Z",
     "start_time": "2024-01-01T23:08:05.334187Z"
    }
   },
   "outputs": [],
   "source": [
    "wo = WhiskerOutliers()\n",
    "fit_and_transformed = wo.fit_transform(data)"
   ]
  },
  {
   "cell_type": "code",
   "execution_count": 15,
   "id": "042d9663",
   "metadata": {
    "ExecuteTime": {
     "end_time": "2024-01-01T23:08:05.441727Z",
     "start_time": "2024-01-01T23:08:05.348657Z"
    }
   },
   "outputs": [
    {
     "data": {
      "image/png": "[encoded data removed]",
      "text/plain": [
       "<Figure size 1000x100 with 1 Axes>"
      ]
     },
     "metadata": {},
     "output_type": "display_data"
    }
   ],
   "source": [
    "fit_and_transformed.boxplot('A', figsize=(10, 1), vert=False)\n",
    "plt.show()"
   ]
  },
  {
   "cell_type": "code",
   "execution_count": 16,
   "id": "673ce6db",
   "metadata": {
    "ExecuteTime": {
     "end_time": "2024-01-01T23:08:05.534284Z",
     "start_time": "2024-01-01T23:08:05.442699Z"
    }
   },
   "outputs": [
    {
     "data": {
      "image/png": "[encoded data removed]",
      "text/plain": [
       "<Figure size 1000x100 with 1 Axes>"
      ]
     },
     "metadata": {},
     "output_type": "display_data"
    }
   ],
   "source": [
    "fit_and_transformed.boxplot('B', figsize=(10, 1), vert=False)\n",
    "plt.show()"
   ]
  },
  {
   "cell_type": "markdown",
   "id": "4766f5b7",
   "metadata": {},
   "source": [
    "### `get_params()`\n",
    "Get parameters for this estimator.  \n",
    "Returns a dictionary of parameters mapped to their values."
   ]
  },
  {
   "cell_type": "code",
   "execution_count": 17,
   "id": "bf870fb7",
   "metadata": {
    "ExecuteTime": {
     "end_time": "2024-01-01T23:08:05.549516Z",
     "start_time": "2024-01-01T23:08:05.535386Z"
    }
   },
   "outputs": [
    {
     "data": {
      "text/plain": [
       "{'threshold': 1.5, 'add_indicator': False}"
      ]
     },
     "execution_count": 17,
     "metadata": {},
     "output_type": "execute_result"
    }
   ],
   "source": [
    "wo.get_params()"
   ]
  },
  {
   "cell_type": "markdown",
   "id": "8bb37e8f",
   "metadata": {},
   "source": [
    "### `set_params(**params)`\n",
    "Set the parameters of this estimator.\n",
    "- `**params` is a dictionary of the estimator parameters\n",
    "Returns the estimator instance."
   ]
  },
  {
   "cell_type": "code",
   "execution_count": 18,
   "id": "90ecee41",
   "metadata": {
    "ExecuteTime": {
     "end_time": "2024-01-01T23:08:05.579610Z",
     "start_time": "2024-01-01T23:08:05.550513Z"
    }
   },
   "outputs": [
    {
     "data": {
      "text/html": [
       "<div>\n",
       "<style scoped>\n",
       "    .dataframe tbody tr th:only-of-type {\n",
       "        vertical-align: middle;\n",
       "    }\n",
       "\n",
       "    .dataframe tbody tr th {\n",
       "        vertical-align: top;\n",
       "    }\n",
       "\n",
       "    .dataframe thead th {\n",
       "        text-align: right;\n",
       "    }\n",
       "</style>\n",
       "<table border=\"1\" class=\"dataframe\">\n",
       "  <thead>\n",
       "    <tr style=\"text-align: right;\">\n",
       "      <th></th>\n",
       "      <th>A</th>\n",
       "      <th>B</th>\n",
       "      <th>A_outlier</th>\n",
       "      <th>B_outlier</th>\n",
       "    </tr>\n",
       "  </thead>\n",
       "  <tbody>\n",
       "    <tr>\n",
       "      <th>0</th>\n",
       "      <td>NaN</td>\n",
       "      <td>18.0</td>\n",
       "      <td>-1</td>\n",
       "      <td>0</td>\n",
       "    </tr>\n",
       "    <tr>\n",
       "      <th>1</th>\n",
       "      <td>0.183419</td>\n",
       "      <td>34.0</td>\n",
       "      <td>0</td>\n",
       "      <td>0</td>\n",
       "    </tr>\n",
       "    <tr>\n",
       "      <th>2</th>\n",
       "      <td>-1.739405</td>\n",
       "      <td>23.0</td>\n",
       "      <td>0</td>\n",
       "      <td>0</td>\n",
       "    </tr>\n",
       "    <tr>\n",
       "      <th>3</th>\n",
       "      <td>-0.407147</td>\n",
       "      <td>12.0</td>\n",
       "      <td>0</td>\n",
       "      <td>0</td>\n",
       "    </tr>\n",
       "    <tr>\n",
       "      <th>4</th>\n",
       "      <td>-0.813476</td>\n",
       "      <td>29.0</td>\n",
       "      <td>0</td>\n",
       "      <td>0</td>\n",
       "    </tr>\n",
       "    <tr>\n",
       "      <th>5</th>\n",
       "      <td>0.601784</td>\n",
       "      <td>25.0</td>\n",
       "      <td>0</td>\n",
       "      <td>0</td>\n",
       "    </tr>\n",
       "    <tr>\n",
       "      <th>6</th>\n",
       "      <td>0.130457</td>\n",
       "      <td>21.0</td>\n",
       "      <td>0</td>\n",
       "      <td>0</td>\n",
       "    </tr>\n",
       "    <tr>\n",
       "      <th>7</th>\n",
       "      <td>0.315318</td>\n",
       "      <td>NaN</td>\n",
       "      <td>0</td>\n",
       "      <td>-1</td>\n",
       "    </tr>\n",
       "    <tr>\n",
       "      <th>8</th>\n",
       "      <td>0.716157</td>\n",
       "      <td>29.0</td>\n",
       "      <td>0</td>\n",
       "      <td>0</td>\n",
       "    </tr>\n",
       "    <tr>\n",
       "      <th>9</th>\n",
       "      <td>-0.703382</td>\n",
       "      <td>24.0</td>\n",
       "      <td>0</td>\n",
       "      <td>0</td>\n",
       "    </tr>\n",
       "    <tr>\n",
       "      <th>10</th>\n",
       "      <td>-0.376354</td>\n",
       "      <td>32.0</td>\n",
       "      <td>0</td>\n",
       "      <td>0</td>\n",
       "    </tr>\n",
       "    <tr>\n",
       "      <th>11</th>\n",
       "      <td>0.638981</td>\n",
       "      <td>NaN</td>\n",
       "      <td>0</td>\n",
       "      <td>1</td>\n",
       "    </tr>\n",
       "    <tr>\n",
       "      <th>12</th>\n",
       "      <td>-1.469733</td>\n",
       "      <td>17.0</td>\n",
       "      <td>0</td>\n",
       "      <td>0</td>\n",
       "    </tr>\n",
       "    <tr>\n",
       "      <th>13</th>\n",
       "      <td>-1.788557</td>\n",
       "      <td>23.0</td>\n",
       "      <td>0</td>\n",
       "      <td>0</td>\n",
       "    </tr>\n",
       "    <tr>\n",
       "      <th>14</th>\n",
       "      <td>0.093530</td>\n",
       "      <td>27.0</td>\n",
       "      <td>0</td>\n",
       "      <td>0</td>\n",
       "    </tr>\n",
       "    <tr>\n",
       "      <th>15</th>\n",
       "      <td>-0.947836</td>\n",
       "      <td>30.0</td>\n",
       "      <td>0</td>\n",
       "      <td>0</td>\n",
       "    </tr>\n",
       "    <tr>\n",
       "      <th>16</th>\n",
       "      <td>-0.379213</td>\n",
       "      <td>NaN</td>\n",
       "      <td>0</td>\n",
       "      <td>1</td>\n",
       "    </tr>\n",
       "    <tr>\n",
       "      <th>17</th>\n",
       "      <td>-0.420326</td>\n",
       "      <td>25.0</td>\n",
       "      <td>0</td>\n",
       "      <td>0</td>\n",
       "    </tr>\n",
       "    <tr>\n",
       "      <th>18</th>\n",
       "      <td>0.440307</td>\n",
       "      <td>14.0</td>\n",
       "      <td>0</td>\n",
       "      <td>0</td>\n",
       "    </tr>\n",
       "    <tr>\n",
       "      <th>19</th>\n",
       "      <td>-0.288918</td>\n",
       "      <td>31.0</td>\n",
       "      <td>0</td>\n",
       "      <td>0</td>\n",
       "    </tr>\n",
       "    <tr>\n",
       "      <th>20</th>\n",
       "      <td>-0.606306</td>\n",
       "      <td>20.0</td>\n",
       "      <td>0</td>\n",
       "      <td>0</td>\n",
       "    </tr>\n",
       "    <tr>\n",
       "      <th>21</th>\n",
       "      <td>1.315781</td>\n",
       "      <td>27.0</td>\n",
       "      <td>0</td>\n",
       "      <td>0</td>\n",
       "    </tr>\n",
       "    <tr>\n",
       "      <th>22</th>\n",
       "      <td>-1.779490</td>\n",
       "      <td>29.0</td>\n",
       "      <td>0</td>\n",
       "      <td>0</td>\n",
       "    </tr>\n",
       "    <tr>\n",
       "      <th>23</th>\n",
       "      <td>-0.733635</td>\n",
       "      <td>11.0</td>\n",
       "      <td>0</td>\n",
       "      <td>0</td>\n",
       "    </tr>\n",
       "    <tr>\n",
       "      <th>24</th>\n",
       "      <td>0.338525</td>\n",
       "      <td>25.0</td>\n",
       "      <td>0</td>\n",
       "      <td>0</td>\n",
       "    </tr>\n",
       "    <tr>\n",
       "      <th>25</th>\n",
       "      <td>1.585907</td>\n",
       "      <td>27.0</td>\n",
       "      <td>0</td>\n",
       "      <td>0</td>\n",
       "    </tr>\n",
       "    <tr>\n",
       "      <th>26</th>\n",
       "      <td>NaN</td>\n",
       "      <td>27.0</td>\n",
       "      <td>1</td>\n",
       "      <td>0</td>\n",
       "    </tr>\n",
       "    <tr>\n",
       "      <th>27</th>\n",
       "      <td>NaN</td>\n",
       "      <td>17.0</td>\n",
       "      <td>1</td>\n",
       "      <td>0</td>\n",
       "    </tr>\n",
       "    <tr>\n",
       "      <th>28</th>\n",
       "      <td>NaN</td>\n",
       "      <td>NaN</td>\n",
       "      <td>1</td>\n",
       "      <td>1</td>\n",
       "    </tr>\n",
       "    <tr>\n",
       "      <th>29</th>\n",
       "      <td>NaN</td>\n",
       "      <td>NaN</td>\n",
       "      <td>-1</td>\n",
       "      <td>-1</td>\n",
       "    </tr>\n",
       "  </tbody>\n",
       "</table>\n",
       "</div>"
      ],
      "text/plain": [
       "           A     B  A_outlier  B_outlier\n",
       "0        NaN  18.0         -1          0\n",
       "1   0.183419  34.0          0          0\n",
       "2  -1.739405  23.0          0          0\n",
       "3  -0.407147  12.0          0          0\n",
       "4  -0.813476  29.0          0          0\n",
       "5   0.601784  25.0          0          0\n",
       "6   0.130457  21.0          0          0\n",
       "7   0.315318   NaN          0         -1\n",
       "8   0.716157  29.0          0          0\n",
       "9  -0.703382  24.0          0          0\n",
       "10 -0.376354  32.0          0          0\n",
       "11  0.638981   NaN          0          1\n",
       "12 -1.469733  17.0          0          0\n",
       "13 -1.788557  23.0          0          0\n",
       "14  0.093530  27.0          0          0\n",
       "15 -0.947836  30.0          0          0\n",
       "16 -0.379213   NaN          0          1\n",
       "17 -0.420326  25.0          0          0\n",
       "18  0.440307  14.0          0          0\n",
       "19 -0.288918  31.0          0          0\n",
       "20 -0.606306  20.0          0          0\n",
       "21  1.315781  27.0          0          0\n",
       "22 -1.779490  29.0          0          0\n",
       "23 -0.733635  11.0          0          0\n",
       "24  0.338525  25.0          0          0\n",
       "25  1.585907  27.0          0          0\n",
       "26       NaN  27.0          1          0\n",
       "27       NaN  17.0          1          0\n",
       "28       NaN   NaN          1          1\n",
       "29       NaN   NaN         -1         -1"
      ]
     },
     "execution_count": 18,
     "metadata": {},
     "output_type": "execute_result"
    }
   ],
   "source": [
    "WhiskerOutliers(threshold=1.0, add_indicator=True).fit_transform(data)"
   ]
  },
  {
   "cell_type": "code",
   "execution_count": 19,
   "id": "f3ef8fa3",
   "metadata": {
    "ExecuteTime": {
     "end_time": "2024-01-01T23:08:05.595596Z",
     "start_time": "2024-01-01T23:08:05.581577Z"
    }
   },
   "outputs": [
    {
     "data": {
      "text/html": [
       "<div>\n",
       "<style scoped>\n",
       "    .dataframe tbody tr th:only-of-type {\n",
       "        vertical-align: middle;\n",
       "    }\n",
       "\n",
       "    .dataframe tbody tr th {\n",
       "        vertical-align: top;\n",
       "    }\n",
       "\n",
       "    .dataframe thead th {\n",
       "        text-align: right;\n",
       "    }\n",
       "</style>\n",
       "<table border=\"1\" class=\"dataframe\">\n",
       "  <thead>\n",
       "    <tr style=\"text-align: right;\">\n",
       "      <th></th>\n",
       "      <th>A</th>\n",
       "      <th>B</th>\n",
       "      <th>A_outlier</th>\n",
       "      <th>B_outlier</th>\n",
       "    </tr>\n",
       "  </thead>\n",
       "  <tbody>\n",
       "    <tr>\n",
       "      <th>0</th>\n",
       "      <td>NaN</td>\n",
       "      <td>18.0</td>\n",
       "      <td>-1</td>\n",
       "      <td>0</td>\n",
       "    </tr>\n",
       "    <tr>\n",
       "      <th>1</th>\n",
       "      <td>0.183419</td>\n",
       "      <td>34.0</td>\n",
       "      <td>0</td>\n",
       "      <td>0</td>\n",
       "    </tr>\n",
       "    <tr>\n",
       "      <th>2</th>\n",
       "      <td>-1.739405</td>\n",
       "      <td>23.0</td>\n",
       "      <td>0</td>\n",
       "      <td>0</td>\n",
       "    </tr>\n",
       "    <tr>\n",
       "      <th>3</th>\n",
       "      <td>-0.407147</td>\n",
       "      <td>12.0</td>\n",
       "      <td>0</td>\n",
       "      <td>0</td>\n",
       "    </tr>\n",
       "    <tr>\n",
       "      <th>4</th>\n",
       "      <td>-0.813476</td>\n",
       "      <td>29.0</td>\n",
       "      <td>0</td>\n",
       "      <td>0</td>\n",
       "    </tr>\n",
       "    <tr>\n",
       "      <th>5</th>\n",
       "      <td>0.601784</td>\n",
       "      <td>25.0</td>\n",
       "      <td>0</td>\n",
       "      <td>0</td>\n",
       "    </tr>\n",
       "    <tr>\n",
       "      <th>6</th>\n",
       "      <td>0.130457</td>\n",
       "      <td>21.0</td>\n",
       "      <td>0</td>\n",
       "      <td>0</td>\n",
       "    </tr>\n",
       "    <tr>\n",
       "      <th>7</th>\n",
       "      <td>0.315318</td>\n",
       "      <td>NaN</td>\n",
       "      <td>0</td>\n",
       "      <td>-1</td>\n",
       "    </tr>\n",
       "    <tr>\n",
       "      <th>8</th>\n",
       "      <td>0.716157</td>\n",
       "      <td>29.0</td>\n",
       "      <td>0</td>\n",
       "      <td>0</td>\n",
       "    </tr>\n",
       "    <tr>\n",
       "      <th>9</th>\n",
       "      <td>-0.703382</td>\n",
       "      <td>24.0</td>\n",
       "      <td>0</td>\n",
       "      <td>0</td>\n",
       "    </tr>\n",
       "    <tr>\n",
       "      <th>10</th>\n",
       "      <td>-0.376354</td>\n",
       "      <td>32.0</td>\n",
       "      <td>0</td>\n",
       "      <td>0</td>\n",
       "    </tr>\n",
       "    <tr>\n",
       "      <th>11</th>\n",
       "      <td>0.638981</td>\n",
       "      <td>NaN</td>\n",
       "      <td>0</td>\n",
       "      <td>1</td>\n",
       "    </tr>\n",
       "    <tr>\n",
       "      <th>12</th>\n",
       "      <td>-1.469733</td>\n",
       "      <td>17.0</td>\n",
       "      <td>0</td>\n",
       "      <td>0</td>\n",
       "    </tr>\n",
       "    <tr>\n",
       "      <th>13</th>\n",
       "      <td>-1.788557</td>\n",
       "      <td>23.0</td>\n",
       "      <td>0</td>\n",
       "      <td>0</td>\n",
       "    </tr>\n",
       "    <tr>\n",
       "      <th>14</th>\n",
       "      <td>0.093530</td>\n",
       "      <td>27.0</td>\n",
       "      <td>0</td>\n",
       "      <td>0</td>\n",
       "    </tr>\n",
       "    <tr>\n",
       "      <th>15</th>\n",
       "      <td>-0.947836</td>\n",
       "      <td>30.0</td>\n",
       "      <td>0</td>\n",
       "      <td>0</td>\n",
       "    </tr>\n",
       "    <tr>\n",
       "      <th>16</th>\n",
       "      <td>-0.379213</td>\n",
       "      <td>NaN</td>\n",
       "      <td>0</td>\n",
       "      <td>1</td>\n",
       "    </tr>\n",
       "    <tr>\n",
       "      <th>17</th>\n",
       "      <td>-0.420326</td>\n",
       "      <td>25.0</td>\n",
       "      <td>0</td>\n",
       "      <td>0</td>\n",
       "    </tr>\n",
       "    <tr>\n",
       "      <th>18</th>\n",
       "      <td>0.440307</td>\n",
       "      <td>14.0</td>\n",
       "      <td>0</td>\n",
       "      <td>0</td>\n",
       "    </tr>\n",
       "    <tr>\n",
       "      <th>19</th>\n",
       "      <td>-0.288918</td>\n",
       "      <td>31.0</td>\n",
       "      <td>0</td>\n",
       "      <td>0</td>\n",
       "    </tr>\n",
       "    <tr>\n",
       "      <th>20</th>\n",
       "      <td>-0.606306</td>\n",
       "      <td>20.0</td>\n",
       "      <td>0</td>\n",
       "      <td>0</td>\n",
       "    </tr>\n",
       "    <tr>\n",
       "      <th>21</th>\n",
       "      <td>1.315781</td>\n",
       "      <td>27.0</td>\n",
       "      <td>0</td>\n",
       "      <td>0</td>\n",
       "    </tr>\n",
       "    <tr>\n",
       "      <th>22</th>\n",
       "      <td>-1.779490</td>\n",
       "      <td>29.0</td>\n",
       "      <td>0</td>\n",
       "      <td>0</td>\n",
       "    </tr>\n",
       "    <tr>\n",
       "      <th>23</th>\n",
       "      <td>-0.733635</td>\n",
       "      <td>11.0</td>\n",
       "      <td>0</td>\n",
       "      <td>0</td>\n",
       "    </tr>\n",
       "    <tr>\n",
       "      <th>24</th>\n",
       "      <td>0.338525</td>\n",
       "      <td>25.0</td>\n",
       "      <td>0</td>\n",
       "      <td>0</td>\n",
       "    </tr>\n",
       "    <tr>\n",
       "      <th>25</th>\n",
       "      <td>1.585907</td>\n",
       "      <td>27.0</td>\n",
       "      <td>0</td>\n",
       "      <td>0</td>\n",
       "    </tr>\n",
       "    <tr>\n",
       "      <th>26</th>\n",
       "      <td>NaN</td>\n",
       "      <td>27.0</td>\n",
       "      <td>1</td>\n",
       "      <td>0</td>\n",
       "    </tr>\n",
       "    <tr>\n",
       "      <th>27</th>\n",
       "      <td>NaN</td>\n",
       "      <td>17.0</td>\n",
       "      <td>1</td>\n",
       "      <td>0</td>\n",
       "    </tr>\n",
       "    <tr>\n",
       "      <th>28</th>\n",
       "      <td>NaN</td>\n",
       "      <td>NaN</td>\n",
       "      <td>1</td>\n",
       "      <td>1</td>\n",
       "    </tr>\n",
       "    <tr>\n",
       "      <th>29</th>\n",
       "      <td>NaN</td>\n",
       "      <td>NaN</td>\n",
       "      <td>-1</td>\n",
       "      <td>-1</td>\n",
       "    </tr>\n",
       "  </tbody>\n",
       "</table>\n",
       "</div>"
      ],
      "text/plain": [
       "           A     B  A_outlier  B_outlier\n",
       "0        NaN  18.0         -1          0\n",
       "1   0.183419  34.0          0          0\n",
       "2  -1.739405  23.0          0          0\n",
       "3  -0.407147  12.0          0          0\n",
       "4  -0.813476  29.0          0          0\n",
       "5   0.601784  25.0          0          0\n",
       "6   0.130457  21.0          0          0\n",
       "7   0.315318   NaN          0         -1\n",
       "8   0.716157  29.0          0          0\n",
       "9  -0.703382  24.0          0          0\n",
       "10 -0.376354  32.0          0          0\n",
       "11  0.638981   NaN          0          1\n",
       "12 -1.469733  17.0          0          0\n",
       "13 -1.788557  23.0          0          0\n",
       "14  0.093530  27.0          0          0\n",
       "15 -0.947836  30.0          0          0\n",
       "16 -0.379213   NaN          0          1\n",
       "17 -0.420326  25.0          0          0\n",
       "18  0.440307  14.0          0          0\n",
       "19 -0.288918  31.0          0          0\n",
       "20 -0.606306  20.0          0          0\n",
       "21  1.315781  27.0          0          0\n",
       "22 -1.779490  29.0          0          0\n",
       "23 -0.733635  11.0          0          0\n",
       "24  0.338525  25.0          0          0\n",
       "25  1.585907  27.0          0          0\n",
       "26       NaN  27.0          1          0\n",
       "27       NaN  17.0          1          0\n",
       "28       NaN   NaN          1          1\n",
       "29       NaN   NaN         -1         -1"
      ]
     },
     "execution_count": 19,
     "metadata": {},
     "output_type": "execute_result"
    }
   ],
   "source": [
    "WhiskerOutliers().set_params(**{'threshold': 1.0, 'add_indicator': True}).fit_transform(data)"
   ]
  },
  {
   "cell_type": "markdown",
   "id": "6b775695",
   "metadata": {},
   "source": [
    "## `fit` and `transform` with non-default parameters\n",
    "### `add_indicator=True`\n",
    "In this example the `threshold` and `add_indicator` parameters has been changed from their default values:"
   ]
  },
  {
   "cell_type": "code",
   "execution_count": 20,
   "id": "ffc3d14e",
   "metadata": {
    "ExecuteTime": {
     "end_time": "2024-01-01T23:08:05.611345Z",
     "start_time": "2024-01-01T23:08:05.596671Z"
    }
   },
   "outputs": [],
   "source": [
    "wo = WhiskerOutliers(threshold=1.5, add_indicator=True)"
   ]
  },
  {
   "cell_type": "code",
   "execution_count": 21,
   "id": "31e7c82d",
   "metadata": {
    "ExecuteTime": {
     "end_time": "2024-01-01T23:08:05.626337Z",
     "start_time": "2024-01-01T23:08:05.612343Z"
    }
   },
   "outputs": [
    {
     "data": {
      "text/html": [
       "<style>#sk-container-id-2 {color: black;background-color: white;}#sk-container-id-2 pre{padding: 0;}#sk-container-id-2 div.sk-toggleable {background-color: white;}#sk-container-id-2 label.sk-toggleable__label {cursor: pointer;display: block;width: 100%;margin-bottom: 0;padding: 0.3em;box-sizing: border-box;text-align: center;}#sk-container-id-2 label.sk-toggleable__label-arrow:before {content: \"▸\";float: left;margin-right: 0.25em;color: #696969;}#sk-container-id-2 label.sk-toggleable__label-arrow:hover:before {color: black;}#sk-container-id-2 div.sk-estimator:hover label.sk-toggleable__label-arrow:before {color: black;}#sk-container-id-2 div.sk-toggleable__content {max-height: 0;max-width: 0;overflow: hidden;text-align: left;background-color: #f0f8ff;}#sk-container-id-2 div.sk-toggleable__content pre {margin: 0.2em;color: black;border-radius: 0.25em;background-color: #f0f8ff;}#sk-container-id-2 input.sk-toggleable__control:checked~div.sk-toggleable__content {max-height: 200px;max-width: 100%;overflow: auto;}#sk-container-id-2 input.sk-toggleable__control:checked~label.sk-toggleable__label-arrow:before {content: \"▾\";}#sk-container-id-2 div.sk-estimator input.sk-toggleable__control:checked~label.sk-toggleable__label {background-color: #d4ebff;}#sk-container-id-2 div.sk-label input.sk-toggleable__control:checked~label.sk-toggleable__label {background-color: #d4ebff;}#sk-container-id-2 input.sk-hidden--visually {border: 0;clip: rect(1px 1px 1px 1px);clip: rect(1px, 1px, 1px, 1px);height: 1px;margin: -1px;overflow: hidden;padding: 0;position: absolute;width: 1px;}#sk-container-id-2 div.sk-estimator {font-family: monospace;background-color: #f0f8ff;border: 1px dotted black;border-radius: 0.25em;box-sizing: border-box;margin-bottom: 0.5em;}#sk-container-id-2 div.sk-estimator:hover {background-color: #d4ebff;}#sk-container-id-2 div.sk-parallel-item::after {content: \"\";width: 100%;border-bottom: 1px solid gray;flex-grow: 1;}#sk-container-id-2 div.sk-label:hover label.sk-toggleable__label {background-color: #d4ebff;}#sk-container-id-2 div.sk-serial::before {content: \"\";position: absolute;border-left: 1px solid gray;box-sizing: border-box;top: 0;bottom: 0;left: 50%;z-index: 0;}#sk-container-id-2 div.sk-serial {display: flex;flex-direction: column;align-items: center;background-color: white;padding-right: 0.2em;padding-left: 0.2em;position: relative;}#sk-container-id-2 div.sk-item {position: relative;z-index: 1;}#sk-container-id-2 div.sk-parallel {display: flex;align-items: stretch;justify-content: center;background-color: white;position: relative;}#sk-container-id-2 div.sk-item::before, #sk-container-id-2 div.sk-parallel-item::before {content: \"\";position: absolute;border-left: 1px solid gray;box-sizing: border-box;top: 0;bottom: 0;left: 50%;z-index: -1;}#sk-container-id-2 div.sk-parallel-item {display: flex;flex-direction: column;z-index: 1;position: relative;background-color: white;}#sk-container-id-2 div.sk-parallel-item:first-child::after {align-self: flex-end;width: 50%;}#sk-container-id-2 div.sk-parallel-item:last-child::after {align-self: flex-start;width: 50%;}#sk-container-id-2 div.sk-parallel-item:only-child::after {width: 0;}#sk-container-id-2 div.sk-dashed-wrapped {border: 1px dashed gray;margin: 0 0.4em 0.5em 0.4em;box-sizing: border-box;padding-bottom: 0.4em;background-color: white;}#sk-container-id-2 div.sk-label label {font-family: monospace;font-weight: bold;display: inline-block;line-height: 1.2em;}#sk-container-id-2 div.sk-label-container {text-align: center;}#sk-container-id-2 div.sk-container {/* jupyter's `normalize.less` sets `[hidden] { display: none; }` but bootstrap.min.css set `[hidden] { display: none !important; }` so we also need the `!important` here to be able to override the default hidden behavior on the sphinx rendered scikit-learn.org. See: https://github.com/scikit-learn/scikit-learn/issues/21755 */display: inline-block !important;position: relative;}#sk-container-id-2 div.sk-text-repr-fallback {display: none;}</style><div id=\"sk-container-id-2\" class=\"sk-top-container\"><div class=\"sk-text-repr-fallback\"><pre>WhiskerOutliers(add_indicator=True)</pre><b>In a Jupyter environment, please rerun this cell to show the HTML representation or trust the notebook. <br />On GitHub, the HTML representation is unable to render, please try loading this page with nbviewer.org.</b></div><div class=\"sk-container\" hidden><div class=\"sk-item\"><div class=\"sk-estimator sk-toggleable\"><input class=\"sk-toggleable__control sk-hidden--visually\" id=\"sk-estimator-id-2\" type=\"checkbox\" checked><label for=\"sk-estimator-id-2\" class=\"sk-toggleable__label sk-toggleable__label-arrow\">WhiskerOutliers</label><div class=\"sk-toggleable__content\"><pre>WhiskerOutliers(add_indicator=True)</pre></div></div></div></div></div>"
      ],
      "text/plain": [
       "WhiskerOutliers(add_indicator=True)"
      ]
     },
     "execution_count": 21,
     "metadata": {},
     "output_type": "execute_result"
    }
   ],
   "source": [
    "wo.fit(data)"
   ]
  },
  {
   "cell_type": "code",
   "execution_count": 22,
   "id": "7b11c2ce",
   "metadata": {
    "ExecuteTime": {
     "end_time": "2024-01-01T23:08:05.641682Z",
     "start_time": "2024-01-01T23:08:05.627514Z"
    }
   },
   "outputs": [],
   "source": [
    "transformed = wo.transform(data)"
   ]
  },
  {
   "cell_type": "code",
   "execution_count": 23,
   "id": "2f193266",
   "metadata": {
    "ExecuteTime": {
     "end_time": "2024-01-01T23:08:05.719841Z",
     "start_time": "2024-01-01T23:08:05.642671Z"
    }
   },
   "outputs": [
    {
     "data": {
      "image/png": "[encoded data removed]",
      "text/plain": [
       "<Figure size 1000x100 with 1 Axes>"
      ]
     },
     "metadata": {},
     "output_type": "display_data"
    }
   ],
   "source": [
    "transformed.boxplot('A', figsize=(10, 1), vert=False)\n",
    "plt.show()"
   ]
  },
  {
   "cell_type": "code",
   "execution_count": 24,
   "id": "ebdae10a",
   "metadata": {
    "ExecuteTime": {
     "end_time": "2024-01-01T23:08:05.796851Z",
     "start_time": "2024-01-01T23:08:05.720838Z"
    },
    "scrolled": true
   },
   "outputs": [
    {
     "data": {
      "image/png": "[encoded data removed]",
      "text/plain": [
       "<Figure size 1000x100 with 1 Axes>"
      ]
     },
     "metadata": {},
     "output_type": "display_data"
    }
   ],
   "source": [
    "transformed.boxplot('B', figsize=(10, 1), vert=False)\n",
    "plt.show()"
   ]
  },
  {
   "cell_type": "markdown",
   "id": "f63ad6ce",
   "metadata": {},
   "source": [
    "With the paramenter **`add_indicator`=True** new column(s) with the suffix *_outlier* is(are) appended to the transformed dataset:"
   ]
  },
  {
   "cell_type": "code",
   "execution_count": 25,
   "id": "1f196435",
   "metadata": {
    "ExecuteTime": {
     "end_time": "2024-01-01T23:08:05.812555Z",
     "start_time": "2024-01-01T23:08:05.797821Z"
    }
   },
   "outputs": [
    {
     "data": {
      "text/html": [
       "<div>\n",
       "<style scoped>\n",
       "    .dataframe tbody tr th:only-of-type {\n",
       "        vertical-align: middle;\n",
       "    }\n",
       "\n",
       "    .dataframe tbody tr th {\n",
       "        vertical-align: top;\n",
       "    }\n",
       "\n",
       "    .dataframe thead th {\n",
       "        text-align: right;\n",
       "    }\n",
       "</style>\n",
       "<table border=\"1\" class=\"dataframe\">\n",
       "  <thead>\n",
       "    <tr style=\"text-align: right;\">\n",
       "      <th></th>\n",
       "      <th>A</th>\n",
       "      <th>B</th>\n",
       "      <th>A_outlier</th>\n",
       "      <th>B_outlier</th>\n",
       "    </tr>\n",
       "  </thead>\n",
       "  <tbody>\n",
       "    <tr>\n",
       "      <th>0</th>\n",
       "      <td>NaN</td>\n",
       "      <td>18.0</td>\n",
       "      <td>-1</td>\n",
       "      <td>0</td>\n",
       "    </tr>\n",
       "    <tr>\n",
       "      <th>1</th>\n",
       "      <td>0.183419</td>\n",
       "      <td>34.0</td>\n",
       "      <td>0</td>\n",
       "      <td>0</td>\n",
       "    </tr>\n",
       "    <tr>\n",
       "      <th>2</th>\n",
       "      <td>-1.739405</td>\n",
       "      <td>23.0</td>\n",
       "      <td>0</td>\n",
       "      <td>0</td>\n",
       "    </tr>\n",
       "    <tr>\n",
       "      <th>3</th>\n",
       "      <td>-0.407147</td>\n",
       "      <td>12.0</td>\n",
       "      <td>0</td>\n",
       "      <td>0</td>\n",
       "    </tr>\n",
       "    <tr>\n",
       "      <th>4</th>\n",
       "      <td>-0.813476</td>\n",
       "      <td>29.0</td>\n",
       "      <td>0</td>\n",
       "      <td>0</td>\n",
       "    </tr>\n",
       "    <tr>\n",
       "      <th>5</th>\n",
       "      <td>0.601784</td>\n",
       "      <td>25.0</td>\n",
       "      <td>0</td>\n",
       "      <td>0</td>\n",
       "    </tr>\n",
       "    <tr>\n",
       "      <th>6</th>\n",
       "      <td>0.130457</td>\n",
       "      <td>21.0</td>\n",
       "      <td>0</td>\n",
       "      <td>0</td>\n",
       "    </tr>\n",
       "    <tr>\n",
       "      <th>7</th>\n",
       "      <td>0.315318</td>\n",
       "      <td>3.0</td>\n",
       "      <td>0</td>\n",
       "      <td>0</td>\n",
       "    </tr>\n",
       "    <tr>\n",
       "      <th>8</th>\n",
       "      <td>0.716157</td>\n",
       "      <td>29.0</td>\n",
       "      <td>0</td>\n",
       "      <td>0</td>\n",
       "    </tr>\n",
       "    <tr>\n",
       "      <th>9</th>\n",
       "      <td>-0.703382</td>\n",
       "      <td>24.0</td>\n",
       "      <td>0</td>\n",
       "      <td>0</td>\n",
       "    </tr>\n",
       "    <tr>\n",
       "      <th>10</th>\n",
       "      <td>-0.376354</td>\n",
       "      <td>32.0</td>\n",
       "      <td>0</td>\n",
       "      <td>0</td>\n",
       "    </tr>\n",
       "    <tr>\n",
       "      <th>11</th>\n",
       "      <td>0.638981</td>\n",
       "      <td>41.0</td>\n",
       "      <td>0</td>\n",
       "      <td>0</td>\n",
       "    </tr>\n",
       "    <tr>\n",
       "      <th>12</th>\n",
       "      <td>-1.469733</td>\n",
       "      <td>17.0</td>\n",
       "      <td>0</td>\n",
       "      <td>0</td>\n",
       "    </tr>\n",
       "    <tr>\n",
       "      <th>13</th>\n",
       "      <td>-1.788557</td>\n",
       "      <td>23.0</td>\n",
       "      <td>0</td>\n",
       "      <td>0</td>\n",
       "    </tr>\n",
       "    <tr>\n",
       "      <th>14</th>\n",
       "      <td>0.093530</td>\n",
       "      <td>27.0</td>\n",
       "      <td>0</td>\n",
       "      <td>0</td>\n",
       "    </tr>\n",
       "    <tr>\n",
       "      <th>15</th>\n",
       "      <td>-0.947836</td>\n",
       "      <td>30.0</td>\n",
       "      <td>0</td>\n",
       "      <td>0</td>\n",
       "    </tr>\n",
       "    <tr>\n",
       "      <th>16</th>\n",
       "      <td>-0.379213</td>\n",
       "      <td>NaN</td>\n",
       "      <td>0</td>\n",
       "      <td>1</td>\n",
       "    </tr>\n",
       "    <tr>\n",
       "      <th>17</th>\n",
       "      <td>-0.420326</td>\n",
       "      <td>25.0</td>\n",
       "      <td>0</td>\n",
       "      <td>0</td>\n",
       "    </tr>\n",
       "    <tr>\n",
       "      <th>18</th>\n",
       "      <td>0.440307</td>\n",
       "      <td>14.0</td>\n",
       "      <td>0</td>\n",
       "      <td>0</td>\n",
       "    </tr>\n",
       "    <tr>\n",
       "      <th>19</th>\n",
       "      <td>-0.288918</td>\n",
       "      <td>31.0</td>\n",
       "      <td>0</td>\n",
       "      <td>0</td>\n",
       "    </tr>\n",
       "    <tr>\n",
       "      <th>20</th>\n",
       "      <td>-0.606306</td>\n",
       "      <td>20.0</td>\n",
       "      <td>0</td>\n",
       "      <td>0</td>\n",
       "    </tr>\n",
       "    <tr>\n",
       "      <th>21</th>\n",
       "      <td>1.315781</td>\n",
       "      <td>27.0</td>\n",
       "      <td>0</td>\n",
       "      <td>0</td>\n",
       "    </tr>\n",
       "    <tr>\n",
       "      <th>22</th>\n",
       "      <td>-1.779490</td>\n",
       "      <td>29.0</td>\n",
       "      <td>0</td>\n",
       "      <td>0</td>\n",
       "    </tr>\n",
       "    <tr>\n",
       "      <th>23</th>\n",
       "      <td>-0.733635</td>\n",
       "      <td>11.0</td>\n",
       "      <td>0</td>\n",
       "      <td>0</td>\n",
       "    </tr>\n",
       "    <tr>\n",
       "      <th>24</th>\n",
       "      <td>0.338525</td>\n",
       "      <td>25.0</td>\n",
       "      <td>0</td>\n",
       "      <td>0</td>\n",
       "    </tr>\n",
       "    <tr>\n",
       "      <th>25</th>\n",
       "      <td>1.585907</td>\n",
       "      <td>27.0</td>\n",
       "      <td>0</td>\n",
       "      <td>0</td>\n",
       "    </tr>\n",
       "    <tr>\n",
       "      <th>26</th>\n",
       "      <td>NaN</td>\n",
       "      <td>27.0</td>\n",
       "      <td>1</td>\n",
       "      <td>0</td>\n",
       "    </tr>\n",
       "    <tr>\n",
       "      <th>27</th>\n",
       "      <td>NaN</td>\n",
       "      <td>17.0</td>\n",
       "      <td>1</td>\n",
       "      <td>0</td>\n",
       "    </tr>\n",
       "    <tr>\n",
       "      <th>28</th>\n",
       "      <td>NaN</td>\n",
       "      <td>NaN</td>\n",
       "      <td>1</td>\n",
       "      <td>1</td>\n",
       "    </tr>\n",
       "    <tr>\n",
       "      <th>29</th>\n",
       "      <td>NaN</td>\n",
       "      <td>NaN</td>\n",
       "      <td>-1</td>\n",
       "      <td>-1</td>\n",
       "    </tr>\n",
       "  </tbody>\n",
       "</table>\n",
       "</div>"
      ],
      "text/plain": [
       "           A     B  A_outlier  B_outlier\n",
       "0        NaN  18.0         -1          0\n",
       "1   0.183419  34.0          0          0\n",
       "2  -1.739405  23.0          0          0\n",
       "3  -0.407147  12.0          0          0\n",
       "4  -0.813476  29.0          0          0\n",
       "5   0.601784  25.0          0          0\n",
       "6   0.130457  21.0          0          0\n",
       "7   0.315318   3.0          0          0\n",
       "8   0.716157  29.0          0          0\n",
       "9  -0.703382  24.0          0          0\n",
       "10 -0.376354  32.0          0          0\n",
       "11  0.638981  41.0          0          0\n",
       "12 -1.469733  17.0          0          0\n",
       "13 -1.788557  23.0          0          0\n",
       "14  0.093530  27.0          0          0\n",
       "15 -0.947836  30.0          0          0\n",
       "16 -0.379213   NaN          0          1\n",
       "17 -0.420326  25.0          0          0\n",
       "18  0.440307  14.0          0          0\n",
       "19 -0.288918  31.0          0          0\n",
       "20 -0.606306  20.0          0          0\n",
       "21  1.315781  27.0          0          0\n",
       "22 -1.779490  29.0          0          0\n",
       "23 -0.733635  11.0          0          0\n",
       "24  0.338525  25.0          0          0\n",
       "25  1.585907  27.0          0          0\n",
       "26       NaN  27.0          1          0\n",
       "27       NaN  17.0          1          0\n",
       "28       NaN   NaN          1          1\n",
       "29       NaN   NaN         -1         -1"
      ]
     },
     "execution_count": 25,
     "metadata": {},
     "output_type": "execute_result"
    }
   ],
   "source": [
    "transformed"
   ]
  },
  {
   "cell_type": "markdown",
   "id": "523b5025",
   "metadata": {},
   "source": [
    "These new indicator columns can be used to retain information about the removed values on machine learning pipelines or to identify the outlier values for plotting or other analysis:"
   ]
  },
  {
   "cell_type": "code",
   "execution_count": 26,
   "id": "521e64c2",
   "metadata": {
    "ExecuteTime": {
     "end_time": "2024-01-01T23:08:05.968521Z",
     "start_time": "2024-01-01T23:08:05.813555Z"
    }
   },
   "outputs": [
    {
     "data": {
      "image/png": "[encoded data removed]",
      "text/plain": [
       "<Figure size 1000x100 with 1 Axes>"
      ]
     },
     "metadata": {},
     "output_type": "display_data"
    }
   ],
   "source": [
    "plt.figure(figsize=(10, 1))\n",
    "ax = sns.stripplot(data, x=\"A\", size=4, hue=transformed.A_outlier, palette=sns.color_palette(n_colors=3))\n",
    "sns.move_legend(ax, \"upper left\", bbox_to_anchor=(1, 1.15))\n",
    "plt.show()"
   ]
  },
  {
   "cell_type": "markdown",
   "id": "e57d6ae0",
   "metadata": {},
   "source": [
    "### `add_indicator=True` and `distinct=False`\n",
    "In this example the `threshold`, `add_indicator` and `distinct` parameters has been changed from their default values:"
   ]
  },
  {
   "cell_type": "code",
   "execution_count": 27,
   "id": "0c2b9b2e",
   "metadata": {
    "ExecuteTime": {
     "end_time": "2024-01-01T23:08:05.984184Z",
     "start_time": "2024-01-01T23:08:05.969514Z"
    }
   },
   "outputs": [],
   "source": [
    "wo = WhiskerOutliers(threshold=1.5, add_indicator=True, distinct=False)"
   ]
  },
  {
   "cell_type": "code",
   "execution_count": 28,
   "id": "71321f72",
   "metadata": {
    "ExecuteTime": {
     "end_time": "2024-01-01T23:08:05.999890Z",
     "start_time": "2024-01-01T23:08:05.990320Z"
    }
   },
   "outputs": [
    {
     "data": {
      "text/html": [
       "<style>#sk-container-id-3 {color: black;background-color: white;}#sk-container-id-3 pre{padding: 0;}#sk-container-id-3 div.sk-toggleable {background-color: white;}#sk-container-id-3 label.sk-toggleable__label {cursor: pointer;display: block;width: 100%;margin-bottom: 0;padding: 0.3em;box-sizing: border-box;text-align: center;}#sk-container-id-3 label.sk-toggleable__label-arrow:before {content: \"▸\";float: left;margin-right: 0.25em;color: #696969;}#sk-container-id-3 label.sk-toggleable__label-arrow:hover:before {color: black;}#sk-container-id-3 div.sk-estimator:hover label.sk-toggleable__label-arrow:before {color: black;}#sk-container-id-3 div.sk-toggleable__content {max-height: 0;max-width: 0;overflow: hidden;text-align: left;background-color: #f0f8ff;}#sk-container-id-3 div.sk-toggleable__content pre {margin: 0.2em;color: black;border-radius: 0.25em;background-color: #f0f8ff;}#sk-container-id-3 input.sk-toggleable__control:checked~div.sk-toggleable__content {max-height: 200px;max-width: 100%;overflow: auto;}#sk-container-id-3 input.sk-toggleable__control:checked~label.sk-toggleable__label-arrow:before {content: \"▾\";}#sk-container-id-3 div.sk-estimator input.sk-toggleable__control:checked~label.sk-toggleable__label {background-color: #d4ebff;}#sk-container-id-3 div.sk-label input.sk-toggleable__control:checked~label.sk-toggleable__label {background-color: #d4ebff;}#sk-container-id-3 input.sk-hidden--visually {border: 0;clip: rect(1px 1px 1px 1px);clip: rect(1px, 1px, 1px, 1px);height: 1px;margin: -1px;overflow: hidden;padding: 0;position: absolute;width: 1px;}#sk-container-id-3 div.sk-estimator {font-family: monospace;background-color: #f0f8ff;border: 1px dotted black;border-radius: 0.25em;box-sizing: border-box;margin-bottom: 0.5em;}#sk-container-id-3 div.sk-estimator:hover {background-color: #d4ebff;}#sk-container-id-3 div.sk-parallel-item::after {content: \"\";width: 100%;border-bottom: 1px solid gray;flex-grow: 1;}#sk-container-id-3 div.sk-label:hover label.sk-toggleable__label {background-color: #d4ebff;}#sk-container-id-3 div.sk-serial::before {content: \"\";position: absolute;border-left: 1px solid gray;box-sizing: border-box;top: 0;bottom: 0;left: 50%;z-index: 0;}#sk-container-id-3 div.sk-serial {display: flex;flex-direction: column;align-items: center;background-color: white;padding-right: 0.2em;padding-left: 0.2em;position: relative;}#sk-container-id-3 div.sk-item {position: relative;z-index: 1;}#sk-container-id-3 div.sk-parallel {display: flex;align-items: stretch;justify-content: center;background-color: white;position: relative;}#sk-container-id-3 div.sk-item::before, #sk-container-id-3 div.sk-parallel-item::before {content: \"\";position: absolute;border-left: 1px solid gray;box-sizing: border-box;top: 0;bottom: 0;left: 50%;z-index: -1;}#sk-container-id-3 div.sk-parallel-item {display: flex;flex-direction: column;z-index: 1;position: relative;background-color: white;}#sk-container-id-3 div.sk-parallel-item:first-child::after {align-self: flex-end;width: 50%;}#sk-container-id-3 div.sk-parallel-item:last-child::after {align-self: flex-start;width: 50%;}#sk-container-id-3 div.sk-parallel-item:only-child::after {width: 0;}#sk-container-id-3 div.sk-dashed-wrapped {border: 1px dashed gray;margin: 0 0.4em 0.5em 0.4em;box-sizing: border-box;padding-bottom: 0.4em;background-color: white;}#sk-container-id-3 div.sk-label label {font-family: monospace;font-weight: bold;display: inline-block;line-height: 1.2em;}#sk-container-id-3 div.sk-label-container {text-align: center;}#sk-container-id-3 div.sk-container {/* jupyter's `normalize.less` sets `[hidden] { display: none; }` but bootstrap.min.css set `[hidden] { display: none !important; }` so we also need the `!important` here to be able to override the default hidden behavior on the sphinx rendered scikit-learn.org. See: https://github.com/scikit-learn/scikit-learn/issues/21755 */display: inline-block !important;position: relative;}#sk-container-id-3 div.sk-text-repr-fallback {display: none;}</style><div id=\"sk-container-id-3\" class=\"sk-top-container\"><div class=\"sk-text-repr-fallback\"><pre>WhiskerOutliers(add_indicator=True)</pre><b>In a Jupyter environment, please rerun this cell to show the HTML representation or trust the notebook. <br />On GitHub, the HTML representation is unable to render, please try loading this page with nbviewer.org.</b></div><div class=\"sk-container\" hidden><div class=\"sk-item\"><div class=\"sk-estimator sk-toggleable\"><input class=\"sk-toggleable__control sk-hidden--visually\" id=\"sk-estimator-id-3\" type=\"checkbox\" checked><label for=\"sk-estimator-id-3\" class=\"sk-toggleable__label sk-toggleable__label-arrow\">WhiskerOutliers</label><div class=\"sk-toggleable__content\"><pre>WhiskerOutliers(add_indicator=True)</pre></div></div></div></div></div>"
      ],
      "text/plain": [
       "WhiskerOutliers(add_indicator=True)"
      ]
     },
     "execution_count": 28,
     "metadata": {},
     "output_type": "execute_result"
    }
   ],
   "source": [
    "wo.fit(data)"
   ]
  },
  {
   "cell_type": "code",
   "execution_count": 29,
   "id": "3c71164f",
   "metadata": {
    "ExecuteTime": {
     "end_time": "2024-01-01T23:08:06.015311Z",
     "start_time": "2024-01-01T23:08:06.001884Z"
    }
   },
   "outputs": [],
   "source": [
    "transformed = wo.transform(data)"
   ]
  },
  {
   "cell_type": "code",
   "execution_count": 30,
   "id": "e2abfcc7",
   "metadata": {
    "ExecuteTime": {
     "end_time": "2024-01-01T23:08:06.092772Z",
     "start_time": "2024-01-01T23:08:06.016623Z"
    }
   },
   "outputs": [
    {
     "data": {
      "image/png": "[encoded data removed]",
      "text/plain": [
       "<Figure size 1000x100 with 1 Axes>"
      ]
     },
     "metadata": {},
     "output_type": "display_data"
    }
   ],
   "source": [
    "transformed.boxplot('A', figsize=(10, 1), vert=False)\n",
    "plt.show()"
   ]
  },
  {
   "cell_type": "code",
   "execution_count": 31,
   "id": "2b88d0a7",
   "metadata": {
    "ExecuteTime": {
     "end_time": "2024-01-01T23:08:06.185666Z",
     "start_time": "2024-01-01T23:08:06.094280Z"
    },
    "scrolled": true
   },
   "outputs": [
    {
     "data": {
      "image/png": "[encoded data removed]",
      "text/plain": [
       "<Figure size 1000x100 with 1 Axes>"
      ]
     },
     "metadata": {},
     "output_type": "display_data"
    }
   ],
   "source": [
    "transformed.boxplot('B', figsize=(10, 1), vert=False)\n",
    "plt.show()"
   ]
  },
  {
   "cell_type": "markdown",
   "id": "dc6a0482",
   "metadata": {},
   "source": [
    "With the paramenter **`add_indicator`=True** new column(s) with the suffix *_outlier* is(are) appended to the transformed dataset:"
   ]
  },
  {
   "cell_type": "code",
   "execution_count": 32,
   "id": "6d696e53",
   "metadata": {
    "ExecuteTime": {
     "end_time": "2024-01-01T23:08:06.201310Z",
     "start_time": "2024-01-01T23:08:06.186803Z"
    }
   },
   "outputs": [
    {
     "data": {
      "text/html": [
       "<div>\n",
       "<style scoped>\n",
       "    .dataframe tbody tr th:only-of-type {\n",
       "        vertical-align: middle;\n",
       "    }\n",
       "\n",
       "    .dataframe tbody tr th {\n",
       "        vertical-align: top;\n",
       "    }\n",
       "\n",
       "    .dataframe thead th {\n",
       "        text-align: right;\n",
       "    }\n",
       "</style>\n",
       "<table border=\"1\" class=\"dataframe\">\n",
       "  <thead>\n",
       "    <tr style=\"text-align: right;\">\n",
       "      <th></th>\n",
       "      <th>A</th>\n",
       "      <th>B</th>\n",
       "      <th>A_outlier</th>\n",
       "      <th>B_outlier</th>\n",
       "    </tr>\n",
       "  </thead>\n",
       "  <tbody>\n",
       "    <tr>\n",
       "      <th>0</th>\n",
       "      <td>NaN</td>\n",
       "      <td>18.0</td>\n",
       "      <td>-1</td>\n",
       "      <td>1</td>\n",
       "    </tr>\n",
       "    <tr>\n",
       "      <th>1</th>\n",
       "      <td>0.183419</td>\n",
       "      <td>34.0</td>\n",
       "      <td>1</td>\n",
       "      <td>1</td>\n",
       "    </tr>\n",
       "    <tr>\n",
       "      <th>2</th>\n",
       "      <td>-1.739405</td>\n",
       "      <td>23.0</td>\n",
       "      <td>1</td>\n",
       "      <td>1</td>\n",
       "    </tr>\n",
       "    <tr>\n",
       "      <th>3</th>\n",
       "      <td>-0.407147</td>\n",
       "      <td>12.0</td>\n",
       "      <td>1</td>\n",
       "      <td>1</td>\n",
       "    </tr>\n",
       "    <tr>\n",
       "      <th>4</th>\n",
       "      <td>-0.813476</td>\n",
       "      <td>29.0</td>\n",
       "      <td>1</td>\n",
       "      <td>1</td>\n",
       "    </tr>\n",
       "    <tr>\n",
       "      <th>5</th>\n",
       "      <td>0.601784</td>\n",
       "      <td>25.0</td>\n",
       "      <td>1</td>\n",
       "      <td>1</td>\n",
       "    </tr>\n",
       "    <tr>\n",
       "      <th>6</th>\n",
       "      <td>0.130457</td>\n",
       "      <td>21.0</td>\n",
       "      <td>1</td>\n",
       "      <td>1</td>\n",
       "    </tr>\n",
       "    <tr>\n",
       "      <th>7</th>\n",
       "      <td>0.315318</td>\n",
       "      <td>3.0</td>\n",
       "      <td>1</td>\n",
       "      <td>1</td>\n",
       "    </tr>\n",
       "    <tr>\n",
       "      <th>8</th>\n",
       "      <td>0.716157</td>\n",
       "      <td>29.0</td>\n",
       "      <td>1</td>\n",
       "      <td>1</td>\n",
       "    </tr>\n",
       "    <tr>\n",
       "      <th>9</th>\n",
       "      <td>-0.703382</td>\n",
       "      <td>24.0</td>\n",
       "      <td>1</td>\n",
       "      <td>1</td>\n",
       "    </tr>\n",
       "    <tr>\n",
       "      <th>10</th>\n",
       "      <td>-0.376354</td>\n",
       "      <td>32.0</td>\n",
       "      <td>1</td>\n",
       "      <td>1</td>\n",
       "    </tr>\n",
       "    <tr>\n",
       "      <th>11</th>\n",
       "      <td>0.638981</td>\n",
       "      <td>41.0</td>\n",
       "      <td>1</td>\n",
       "      <td>1</td>\n",
       "    </tr>\n",
       "    <tr>\n",
       "      <th>12</th>\n",
       "      <td>-1.469733</td>\n",
       "      <td>17.0</td>\n",
       "      <td>1</td>\n",
       "      <td>1</td>\n",
       "    </tr>\n",
       "    <tr>\n",
       "      <th>13</th>\n",
       "      <td>-1.788557</td>\n",
       "      <td>23.0</td>\n",
       "      <td>1</td>\n",
       "      <td>1</td>\n",
       "    </tr>\n",
       "    <tr>\n",
       "      <th>14</th>\n",
       "      <td>0.093530</td>\n",
       "      <td>27.0</td>\n",
       "      <td>1</td>\n",
       "      <td>1</td>\n",
       "    </tr>\n",
       "    <tr>\n",
       "      <th>15</th>\n",
       "      <td>-0.947836</td>\n",
       "      <td>30.0</td>\n",
       "      <td>1</td>\n",
       "      <td>1</td>\n",
       "    </tr>\n",
       "    <tr>\n",
       "      <th>16</th>\n",
       "      <td>-0.379213</td>\n",
       "      <td>NaN</td>\n",
       "      <td>1</td>\n",
       "      <td>-1</td>\n",
       "    </tr>\n",
       "    <tr>\n",
       "      <th>17</th>\n",
       "      <td>-0.420326</td>\n",
       "      <td>25.0</td>\n",
       "      <td>1</td>\n",
       "      <td>1</td>\n",
       "    </tr>\n",
       "    <tr>\n",
       "      <th>18</th>\n",
       "      <td>0.440307</td>\n",
       "      <td>14.0</td>\n",
       "      <td>1</td>\n",
       "      <td>1</td>\n",
       "    </tr>\n",
       "    <tr>\n",
       "      <th>19</th>\n",
       "      <td>-0.288918</td>\n",
       "      <td>31.0</td>\n",
       "      <td>1</td>\n",
       "      <td>1</td>\n",
       "    </tr>\n",
       "    <tr>\n",
       "      <th>20</th>\n",
       "      <td>-0.606306</td>\n",
       "      <td>20.0</td>\n",
       "      <td>1</td>\n",
       "      <td>1</td>\n",
       "    </tr>\n",
       "    <tr>\n",
       "      <th>21</th>\n",
       "      <td>1.315781</td>\n",
       "      <td>27.0</td>\n",
       "      <td>1</td>\n",
       "      <td>1</td>\n",
       "    </tr>\n",
       "    <tr>\n",
       "      <th>22</th>\n",
       "      <td>-1.779490</td>\n",
       "      <td>29.0</td>\n",
       "      <td>1</td>\n",
       "      <td>1</td>\n",
       "    </tr>\n",
       "    <tr>\n",
       "      <th>23</th>\n",
       "      <td>-0.733635</td>\n",
       "      <td>11.0</td>\n",
       "      <td>1</td>\n",
       "      <td>1</td>\n",
       "    </tr>\n",
       "    <tr>\n",
       "      <th>24</th>\n",
       "      <td>0.338525</td>\n",
       "      <td>25.0</td>\n",
       "      <td>1</td>\n",
       "      <td>1</td>\n",
       "    </tr>\n",
       "    <tr>\n",
       "      <th>25</th>\n",
       "      <td>1.585907</td>\n",
       "      <td>27.0</td>\n",
       "      <td>1</td>\n",
       "      <td>1</td>\n",
       "    </tr>\n",
       "    <tr>\n",
       "      <th>26</th>\n",
       "      <td>NaN</td>\n",
       "      <td>27.0</td>\n",
       "      <td>-1</td>\n",
       "      <td>1</td>\n",
       "    </tr>\n",
       "    <tr>\n",
       "      <th>27</th>\n",
       "      <td>NaN</td>\n",
       "      <td>17.0</td>\n",
       "      <td>-1</td>\n",
       "      <td>1</td>\n",
       "    </tr>\n",
       "    <tr>\n",
       "      <th>28</th>\n",
       "      <td>NaN</td>\n",
       "      <td>NaN</td>\n",
       "      <td>-1</td>\n",
       "      <td>-1</td>\n",
       "    </tr>\n",
       "    <tr>\n",
       "      <th>29</th>\n",
       "      <td>NaN</td>\n",
       "      <td>NaN</td>\n",
       "      <td>-1</td>\n",
       "      <td>-1</td>\n",
       "    </tr>\n",
       "  </tbody>\n",
       "</table>\n",
       "</div>"
      ],
      "text/plain": [
       "           A     B  A_outlier  B_outlier\n",
       "0        NaN  18.0         -1          1\n",
       "1   0.183419  34.0          1          1\n",
       "2  -1.739405  23.0          1          1\n",
       "3  -0.407147  12.0          1          1\n",
       "4  -0.813476  29.0          1          1\n",
       "5   0.601784  25.0          1          1\n",
       "6   0.130457  21.0          1          1\n",
       "7   0.315318   3.0          1          1\n",
       "8   0.716157  29.0          1          1\n",
       "9  -0.703382  24.0          1          1\n",
       "10 -0.376354  32.0          1          1\n",
       "11  0.638981  41.0          1          1\n",
       "12 -1.469733  17.0          1          1\n",
       "13 -1.788557  23.0          1          1\n",
       "14  0.093530  27.0          1          1\n",
       "15 -0.947836  30.0          1          1\n",
       "16 -0.379213   NaN          1         -1\n",
       "17 -0.420326  25.0          1          1\n",
       "18  0.440307  14.0          1          1\n",
       "19 -0.288918  31.0          1          1\n",
       "20 -0.606306  20.0          1          1\n",
       "21  1.315781  27.0          1          1\n",
       "22 -1.779490  29.0          1          1\n",
       "23 -0.733635  11.0          1          1\n",
       "24  0.338525  25.0          1          1\n",
       "25  1.585907  27.0          1          1\n",
       "26       NaN  27.0         -1          1\n",
       "27       NaN  17.0         -1          1\n",
       "28       NaN   NaN         -1         -1\n",
       "29       NaN   NaN         -1         -1"
      ]
     },
     "execution_count": 32,
     "metadata": {},
     "output_type": "execute_result"
    }
   ],
   "source": [
    "transformed"
   ]
  },
  {
   "cell_type": "markdown",
   "id": "624f551f",
   "metadata": {},
   "source": [
    "### `mark_nan=False` and `add_indicator=True`\n",
    "In this example the `threshold`, `mark_nan` and `add_indicator` has been changed from their default values:"
   ]
  },
  {
   "cell_type": "code",
   "execution_count": 33,
   "id": "94e0ab63",
   "metadata": {
    "ExecuteTime": {
     "end_time": "2024-01-01T23:08:06.216660Z",
     "start_time": "2024-01-01T23:08:06.202307Z"
    }
   },
   "outputs": [],
   "source": [
    "wo = WhiskerOutliers(threshold=1.5, mark_nan=False, add_indicator=True)"
   ]
  },
  {
   "cell_type": "code",
   "execution_count": 34,
   "id": "047ad209",
   "metadata": {
    "ExecuteTime": {
     "end_time": "2024-01-01T23:08:06.232651Z",
     "start_time": "2024-01-01T23:08:06.217660Z"
    }
   },
   "outputs": [
    {
     "data": {
      "text/html": [
       "<style>#sk-container-id-4 {color: black;background-color: white;}#sk-container-id-4 pre{padding: 0;}#sk-container-id-4 div.sk-toggleable {background-color: white;}#sk-container-id-4 label.sk-toggleable__label {cursor: pointer;display: block;width: 100%;margin-bottom: 0;padding: 0.3em;box-sizing: border-box;text-align: center;}#sk-container-id-4 label.sk-toggleable__label-arrow:before {content: \"▸\";float: left;margin-right: 0.25em;color: #696969;}#sk-container-id-4 label.sk-toggleable__label-arrow:hover:before {color: black;}#sk-container-id-4 div.sk-estimator:hover label.sk-toggleable__label-arrow:before {color: black;}#sk-container-id-4 div.sk-toggleable__content {max-height: 0;max-width: 0;overflow: hidden;text-align: left;background-color: #f0f8ff;}#sk-container-id-4 div.sk-toggleable__content pre {margin: 0.2em;color: black;border-radius: 0.25em;background-color: #f0f8ff;}#sk-container-id-4 input.sk-toggleable__control:checked~div.sk-toggleable__content {max-height: 200px;max-width: 100%;overflow: auto;}#sk-container-id-4 input.sk-toggleable__control:checked~label.sk-toggleable__label-arrow:before {content: \"▾\";}#sk-container-id-4 div.sk-estimator input.sk-toggleable__control:checked~label.sk-toggleable__label {background-color: #d4ebff;}#sk-container-id-4 div.sk-label input.sk-toggleable__control:checked~label.sk-toggleable__label {background-color: #d4ebff;}#sk-container-id-4 input.sk-hidden--visually {border: 0;clip: rect(1px 1px 1px 1px);clip: rect(1px, 1px, 1px, 1px);height: 1px;margin: -1px;overflow: hidden;padding: 0;position: absolute;width: 1px;}#sk-container-id-4 div.sk-estimator {font-family: monospace;background-color: #f0f8ff;border: 1px dotted black;border-radius: 0.25em;box-sizing: border-box;margin-bottom: 0.5em;}#sk-container-id-4 div.sk-estimator:hover {background-color: #d4ebff;}#sk-container-id-4 div.sk-parallel-item::after {content: \"\";width: 100%;border-bottom: 1px solid gray;flex-grow: 1;}#sk-container-id-4 div.sk-label:hover label.sk-toggleable__label {background-color: #d4ebff;}#sk-container-id-4 div.sk-serial::before {content: \"\";position: absolute;border-left: 1px solid gray;box-sizing: border-box;top: 0;bottom: 0;left: 50%;z-index: 0;}#sk-container-id-4 div.sk-serial {display: flex;flex-direction: column;align-items: center;background-color: white;padding-right: 0.2em;padding-left: 0.2em;position: relative;}#sk-container-id-4 div.sk-item {position: relative;z-index: 1;}#sk-container-id-4 div.sk-parallel {display: flex;align-items: stretch;justify-content: center;background-color: white;position: relative;}#sk-container-id-4 div.sk-item::before, #sk-container-id-4 div.sk-parallel-item::before {content: \"\";position: absolute;border-left: 1px solid gray;box-sizing: border-box;top: 0;bottom: 0;left: 50%;z-index: -1;}#sk-container-id-4 div.sk-parallel-item {display: flex;flex-direction: column;z-index: 1;position: relative;background-color: white;}#sk-container-id-4 div.sk-parallel-item:first-child::after {align-self: flex-end;width: 50%;}#sk-container-id-4 div.sk-parallel-item:last-child::after {align-self: flex-start;width: 50%;}#sk-container-id-4 div.sk-parallel-item:only-child::after {width: 0;}#sk-container-id-4 div.sk-dashed-wrapped {border: 1px dashed gray;margin: 0 0.4em 0.5em 0.4em;box-sizing: border-box;padding-bottom: 0.4em;background-color: white;}#sk-container-id-4 div.sk-label label {font-family: monospace;font-weight: bold;display: inline-block;line-height: 1.2em;}#sk-container-id-4 div.sk-label-container {text-align: center;}#sk-container-id-4 div.sk-container {/* jupyter's `normalize.less` sets `[hidden] { display: none; }` but bootstrap.min.css set `[hidden] { display: none !important; }` so we also need the `!important` here to be able to override the default hidden behavior on the sphinx rendered scikit-learn.org. See: https://github.com/scikit-learn/scikit-learn/issues/21755 */display: inline-block !important;position: relative;}#sk-container-id-4 div.sk-text-repr-fallback {display: none;}</style><div id=\"sk-container-id-4\" class=\"sk-top-container\"><div class=\"sk-text-repr-fallback\"><pre>WhiskerOutliers(add_indicator=True)</pre><b>In a Jupyter environment, please rerun this cell to show the HTML representation or trust the notebook. <br />On GitHub, the HTML representation is unable to render, please try loading this page with nbviewer.org.</b></div><div class=\"sk-container\" hidden><div class=\"sk-item\"><div class=\"sk-estimator sk-toggleable\"><input class=\"sk-toggleable__control sk-hidden--visually\" id=\"sk-estimator-id-4\" type=\"checkbox\" checked><label for=\"sk-estimator-id-4\" class=\"sk-toggleable__label sk-toggleable__label-arrow\">WhiskerOutliers</label><div class=\"sk-toggleable__content\"><pre>WhiskerOutliers(add_indicator=True)</pre></div></div></div></div></div>"
      ],
      "text/plain": [
       "WhiskerOutliers(add_indicator=True)"
      ]
     },
     "execution_count": 34,
     "metadata": {},
     "output_type": "execute_result"
    }
   ],
   "source": [
    "wo.fit(data)"
   ]
  },
  {
   "cell_type": "code",
   "execution_count": 35,
   "id": "41fb503d",
   "metadata": {
    "ExecuteTime": {
     "end_time": "2024-01-01T23:08:06.248266Z",
     "start_time": "2024-01-01T23:08:06.234158Z"
    }
   },
   "outputs": [],
   "source": [
    "transformed = wo.transform(data)"
   ]
  },
  {
   "cell_type": "markdown",
   "id": "84c4f3b5",
   "metadata": {},
   "source": [
    "With the paramenter **`mark_nan`=False** and **`add_indicator`=True** only the outlier indicators is returned in the dataset:"
   ]
  },
  {
   "cell_type": "code",
   "execution_count": 36,
   "id": "842d5e31",
   "metadata": {
    "ExecuteTime": {
     "end_time": "2024-01-01T23:08:06.264165Z",
     "start_time": "2024-01-01T23:08:06.249264Z"
    }
   },
   "outputs": [
    {
     "data": {
      "text/html": [
       "<div>\n",
       "<style scoped>\n",
       "    .dataframe tbody tr th:only-of-type {\n",
       "        vertical-align: middle;\n",
       "    }\n",
       "\n",
       "    .dataframe tbody tr th {\n",
       "        vertical-align: top;\n",
       "    }\n",
       "\n",
       "    .dataframe thead th {\n",
       "        text-align: right;\n",
       "    }\n",
       "</style>\n",
       "<table border=\"1\" class=\"dataframe\">\n",
       "  <thead>\n",
       "    <tr style=\"text-align: right;\">\n",
       "      <th></th>\n",
       "      <th>A</th>\n",
       "      <th>B</th>\n",
       "    </tr>\n",
       "  </thead>\n",
       "  <tbody>\n",
       "    <tr>\n",
       "      <th>0</th>\n",
       "      <td>-1</td>\n",
       "      <td>0</td>\n",
       "    </tr>\n",
       "    <tr>\n",
       "      <th>1</th>\n",
       "      <td>0</td>\n",
       "      <td>0</td>\n",
       "    </tr>\n",
       "    <tr>\n",
       "      <th>2</th>\n",
       "      <td>0</td>\n",
       "      <td>0</td>\n",
       "    </tr>\n",
       "    <tr>\n",
       "      <th>3</th>\n",
       "      <td>0</td>\n",
       "      <td>0</td>\n",
       "    </tr>\n",
       "    <tr>\n",
       "      <th>4</th>\n",
       "      <td>0</td>\n",
       "      <td>0</td>\n",
       "    </tr>\n",
       "    <tr>\n",
       "      <th>5</th>\n",
       "      <td>0</td>\n",
       "      <td>0</td>\n",
       "    </tr>\n",
       "    <tr>\n",
       "      <th>6</th>\n",
       "      <td>0</td>\n",
       "      <td>0</td>\n",
       "    </tr>\n",
       "    <tr>\n",
       "      <th>7</th>\n",
       "      <td>0</td>\n",
       "      <td>0</td>\n",
       "    </tr>\n",
       "    <tr>\n",
       "      <th>8</th>\n",
       "      <td>0</td>\n",
       "      <td>0</td>\n",
       "    </tr>\n",
       "    <tr>\n",
       "      <th>9</th>\n",
       "      <td>0</td>\n",
       "      <td>0</td>\n",
       "    </tr>\n",
       "    <tr>\n",
       "      <th>10</th>\n",
       "      <td>0</td>\n",
       "      <td>0</td>\n",
       "    </tr>\n",
       "    <tr>\n",
       "      <th>11</th>\n",
       "      <td>0</td>\n",
       "      <td>0</td>\n",
       "    </tr>\n",
       "    <tr>\n",
       "      <th>12</th>\n",
       "      <td>0</td>\n",
       "      <td>0</td>\n",
       "    </tr>\n",
       "    <tr>\n",
       "      <th>13</th>\n",
       "      <td>0</td>\n",
       "      <td>0</td>\n",
       "    </tr>\n",
       "    <tr>\n",
       "      <th>14</th>\n",
       "      <td>0</td>\n",
       "      <td>0</td>\n",
       "    </tr>\n",
       "    <tr>\n",
       "      <th>15</th>\n",
       "      <td>0</td>\n",
       "      <td>0</td>\n",
       "    </tr>\n",
       "    <tr>\n",
       "      <th>16</th>\n",
       "      <td>0</td>\n",
       "      <td>1</td>\n",
       "    </tr>\n",
       "    <tr>\n",
       "      <th>17</th>\n",
       "      <td>0</td>\n",
       "      <td>0</td>\n",
       "    </tr>\n",
       "    <tr>\n",
       "      <th>18</th>\n",
       "      <td>0</td>\n",
       "      <td>0</td>\n",
       "    </tr>\n",
       "    <tr>\n",
       "      <th>19</th>\n",
       "      <td>0</td>\n",
       "      <td>0</td>\n",
       "    </tr>\n",
       "    <tr>\n",
       "      <th>20</th>\n",
       "      <td>0</td>\n",
       "      <td>0</td>\n",
       "    </tr>\n",
       "    <tr>\n",
       "      <th>21</th>\n",
       "      <td>0</td>\n",
       "      <td>0</td>\n",
       "    </tr>\n",
       "    <tr>\n",
       "      <th>22</th>\n",
       "      <td>0</td>\n",
       "      <td>0</td>\n",
       "    </tr>\n",
       "    <tr>\n",
       "      <th>23</th>\n",
       "      <td>0</td>\n",
       "      <td>0</td>\n",
       "    </tr>\n",
       "    <tr>\n",
       "      <th>24</th>\n",
       "      <td>0</td>\n",
       "      <td>0</td>\n",
       "    </tr>\n",
       "    <tr>\n",
       "      <th>25</th>\n",
       "      <td>0</td>\n",
       "      <td>0</td>\n",
       "    </tr>\n",
       "    <tr>\n",
       "      <th>26</th>\n",
       "      <td>1</td>\n",
       "      <td>0</td>\n",
       "    </tr>\n",
       "    <tr>\n",
       "      <th>27</th>\n",
       "      <td>1</td>\n",
       "      <td>0</td>\n",
       "    </tr>\n",
       "    <tr>\n",
       "      <th>28</th>\n",
       "      <td>1</td>\n",
       "      <td>1</td>\n",
       "    </tr>\n",
       "    <tr>\n",
       "      <th>29</th>\n",
       "      <td>-1</td>\n",
       "      <td>-1</td>\n",
       "    </tr>\n",
       "  </tbody>\n",
       "</table>\n",
       "</div>"
      ],
      "text/plain": [
       "    A  B\n",
       "0  -1  0\n",
       "1   0  0\n",
       "2   0  0\n",
       "3   0  0\n",
       "4   0  0\n",
       "5   0  0\n",
       "6   0  0\n",
       "7   0  0\n",
       "8   0  0\n",
       "9   0  0\n",
       "10  0  0\n",
       "11  0  0\n",
       "12  0  0\n",
       "13  0  0\n",
       "14  0  0\n",
       "15  0  0\n",
       "16  0  1\n",
       "17  0  0\n",
       "18  0  0\n",
       "19  0  0\n",
       "20  0  0\n",
       "21  0  0\n",
       "22  0  0\n",
       "23  0  0\n",
       "24  0  0\n",
       "25  0  0\n",
       "26  1  0\n",
       "27  1  0\n",
       "28  1  1\n",
       "29 -1 -1"
      ]
     },
     "execution_count": 36,
     "metadata": {},
     "output_type": "execute_result"
    }
   ],
   "source": [
    "transformed"
   ]
  },
  {
   "cell_type": "markdown",
   "id": "f1d8d391",
   "metadata": {},
   "source": [
    "# `StandardOutliers` instances\n",
    "\n",
    "## Parameters:\n",
    "Only two parameters for these instances:  \n",
    "\n",
    "### `threshold`  \n",
    "- `float`, `int` or `array-like` of size 2 indicating different threshold for lower and upper limits.  \n",
    "- default=`3.0`  \n",
    "- indicate the lenght of the whisker, values below or above the whisker will be considered outliers.  \n",
    "  \n",
    "### `mark_nan`\n",
    "- `bool`\n",
    "- default=`True`\n",
    "- if set to `True` the original values are returned with the outliers changed to NumPy.NaN\n",
    "\n",
    "### `add_indicator`\n",
    "- `bool`\n",
    "- default=`False`\n",
    "- if set to `True` new column(s) will be append indicating where an observation is an outlier:\n",
    "\n",
    "### `distinct`\n",
    "- `bool`\n",
    "- default=`True`\n",
    "- change the behaviour of `add_indicator`:\n",
    "    - `distinct=True`:\n",
    "        - **-1** for outliers < the minimum whisker, \n",
    "        - **0** for not outliers,\n",
    "        - **1** for outliers > the maximum whisker.\n",
    "    - `distinct=False`:\n",
    "        - **-1** for outliers, \n",
    "        - **1** for not outliers (inliers),"
   ]
  },
  {
   "cell_type": "markdown",
   "id": "f9404f23",
   "metadata": {},
   "source": [
    "## Attribuites\n",
    "- **threshold**: the threshold, in terms of _inter-quantile range_, used to identifity the outliers.\n",
    "- **mark_nan**: `True` or `False` as requested by the user, to change or not the outliers by _NumPy.NaN_.\n",
    "- **add_indicator**: `True` or `False` as requested by the user, to return or not new column(s) indicating the outlier values.  \n",
    "- **distinct**: `True` or `False` as requested by the user, to change the behaviour of *add_indicator*.\n",
    "- **min_**: The minimum value that is not considered outlier.\n",
    "- **max_**: The maximum value that is not considered outlier."
   ]
  },
  {
   "cell_type": "code",
   "execution_count": 37,
   "id": "c2d215b4",
   "metadata": {
    "ExecuteTime": {
     "end_time": "2024-01-01T23:08:06.279618Z",
     "start_time": "2024-01-01T23:08:06.265205Z"
    }
   },
   "outputs": [],
   "source": [
    "wo = WhiskerOutliers()"
   ]
  },
  {
   "cell_type": "markdown",
   "id": "4e4991ec",
   "metadata": {},
   "source": [
    "## Methods\n",
    "### `fit(X, [y])`\n",
    "Fit the instance on `X`\n",
    "- `X`: pandas Series, DataFrame or array-like (like numpy array).\n",
    "- `y`: ignored, accepted for convention and compatibility.\n",
    "  \n",
    "To calculate and retain in the instance the minimum and maximum values, according the _iqr_ and input `threshold`, that identify the outliers.  \n",
    "\n",
    "How are the _iqr_, _minimum_ and _maximum_ calculated?\n",
    "- The _iqr_ is calculated as the absolute difference between the 3rd quartile and the 1st quartile of the input data `X`.\n",
    "- The _minimum_ is the 1st quartile (quantile 0.25) minus `threshold` times the _iqr_\n",
    "- The _maximum_ is the 3rd quartile (quantile 0.75) plus `threshold` times the _iqr_"
   ]
  },
  {
   "cell_type": "code",
   "execution_count": 38,
   "id": "fe10f3a1",
   "metadata": {
    "ExecuteTime": {
     "end_time": "2024-01-01T23:08:06.295661Z",
     "start_time": "2024-01-01T23:08:06.281613Z"
    }
   },
   "outputs": [
    {
     "data": {
      "text/html": [
       "<style>#sk-container-id-5 {color: black;background-color: white;}#sk-container-id-5 pre{padding: 0;}#sk-container-id-5 div.sk-toggleable {background-color: white;}#sk-container-id-5 label.sk-toggleable__label {cursor: pointer;display: block;width: 100%;margin-bottom: 0;padding: 0.3em;box-sizing: border-box;text-align: center;}#sk-container-id-5 label.sk-toggleable__label-arrow:before {content: \"▸\";float: left;margin-right: 0.25em;color: #696969;}#sk-container-id-5 label.sk-toggleable__label-arrow:hover:before {color: black;}#sk-container-id-5 div.sk-estimator:hover label.sk-toggleable__label-arrow:before {color: black;}#sk-container-id-5 div.sk-toggleable__content {max-height: 0;max-width: 0;overflow: hidden;text-align: left;background-color: #f0f8ff;}#sk-container-id-5 div.sk-toggleable__content pre {margin: 0.2em;color: black;border-radius: 0.25em;background-color: #f0f8ff;}#sk-container-id-5 input.sk-toggleable__control:checked~div.sk-toggleable__content {max-height: 200px;max-width: 100%;overflow: auto;}#sk-container-id-5 input.sk-toggleable__control:checked~label.sk-toggleable__label-arrow:before {content: \"▾\";}#sk-container-id-5 div.sk-estimator input.sk-toggleable__control:checked~label.sk-toggleable__label {background-color: #d4ebff;}#sk-container-id-5 div.sk-label input.sk-toggleable__control:checked~label.sk-toggleable__label {background-color: #d4ebff;}#sk-container-id-5 input.sk-hidden--visually {border: 0;clip: rect(1px 1px 1px 1px);clip: rect(1px, 1px, 1px, 1px);height: 1px;margin: -1px;overflow: hidden;padding: 0;position: absolute;width: 1px;}#sk-container-id-5 div.sk-estimator {font-family: monospace;background-color: #f0f8ff;border: 1px dotted black;border-radius: 0.25em;box-sizing: border-box;margin-bottom: 0.5em;}#sk-container-id-5 div.sk-estimator:hover {background-color: #d4ebff;}#sk-container-id-5 div.sk-parallel-item::after {content: \"\";width: 100%;border-bottom: 1px solid gray;flex-grow: 1;}#sk-container-id-5 div.sk-label:hover label.sk-toggleable__label {background-color: #d4ebff;}#sk-container-id-5 div.sk-serial::before {content: \"\";position: absolute;border-left: 1px solid gray;box-sizing: border-box;top: 0;bottom: 0;left: 50%;z-index: 0;}#sk-container-id-5 div.sk-serial {display: flex;flex-direction: column;align-items: center;background-color: white;padding-right: 0.2em;padding-left: 0.2em;position: relative;}#sk-container-id-5 div.sk-item {position: relative;z-index: 1;}#sk-container-id-5 div.sk-parallel {display: flex;align-items: stretch;justify-content: center;background-color: white;position: relative;}#sk-container-id-5 div.sk-item::before, #sk-container-id-5 div.sk-parallel-item::before {content: \"\";position: absolute;border-left: 1px solid gray;box-sizing: border-box;top: 0;bottom: 0;left: 50%;z-index: -1;}#sk-container-id-5 div.sk-parallel-item {display: flex;flex-direction: column;z-index: 1;position: relative;background-color: white;}#sk-container-id-5 div.sk-parallel-item:first-child::after {align-self: flex-end;width: 50%;}#sk-container-id-5 div.sk-parallel-item:last-child::after {align-self: flex-start;width: 50%;}#sk-container-id-5 div.sk-parallel-item:only-child::after {width: 0;}#sk-container-id-5 div.sk-dashed-wrapped {border: 1px dashed gray;margin: 0 0.4em 0.5em 0.4em;box-sizing: border-box;padding-bottom: 0.4em;background-color: white;}#sk-container-id-5 div.sk-label label {font-family: monospace;font-weight: bold;display: inline-block;line-height: 1.2em;}#sk-container-id-5 div.sk-label-container {text-align: center;}#sk-container-id-5 div.sk-container {/* jupyter's `normalize.less` sets `[hidden] { display: none; }` but bootstrap.min.css set `[hidden] { display: none !important; }` so we also need the `!important` here to be able to override the default hidden behavior on the sphinx rendered scikit-learn.org. See: https://github.com/scikit-learn/scikit-learn/issues/21755 */display: inline-block !important;position: relative;}#sk-container-id-5 div.sk-text-repr-fallback {display: none;}</style><div id=\"sk-container-id-5\" class=\"sk-top-container\"><div class=\"sk-text-repr-fallback\"><pre>WhiskerOutliers()</pre><b>In a Jupyter environment, please rerun this cell to show the HTML representation or trust the notebook. <br />On GitHub, the HTML representation is unable to render, please try loading this page with nbviewer.org.</b></div><div class=\"sk-container\" hidden><div class=\"sk-item\"><div class=\"sk-estimator sk-toggleable\"><input class=\"sk-toggleable__control sk-hidden--visually\" id=\"sk-estimator-id-5\" type=\"checkbox\" checked><label for=\"sk-estimator-id-5\" class=\"sk-toggleable__label sk-toggleable__label-arrow\">WhiskerOutliers</label><div class=\"sk-toggleable__content\"><pre>WhiskerOutliers()</pre></div></div></div></div></div>"
      ],
      "text/plain": [
       "WhiskerOutliers()"
      ]
     },
     "execution_count": 38,
     "metadata": {},
     "output_type": "execute_result"
    }
   ],
   "source": [
    "wo.fit(data)"
   ]
  },
  {
   "cell_type": "markdown",
   "id": "b9d83e16",
   "metadata": {},
   "source": [
    "### `transform(X, [y])`\n",
    "Transform the dataset `X`, replacing by `nunpy.nan` the outlier values, according to the limits defined by the `.fit` method."
   ]
  },
  {
   "cell_type": "code",
   "execution_count": 39,
   "id": "a5b59c0d",
   "metadata": {
    "ExecuteTime": {
     "end_time": "2024-01-01T23:08:06.311445Z",
     "start_time": "2024-01-01T23:08:06.296784Z"
    }
   },
   "outputs": [],
   "source": [
    "transformed = wo.transform(data)"
   ]
  },
  {
   "cell_type": "code",
   "execution_count": 40,
   "id": "c72f178f",
   "metadata": {
    "ExecuteTime": {
     "end_time": "2024-01-01T23:08:06.388430Z",
     "start_time": "2024-01-01T23:08:06.312442Z"
    }
   },
   "outputs": [
    {
     "data": {
      "image/png": "[encoded data removed]",
      "text/plain": [
       "<Figure size 1000x100 with 1 Axes>"
      ]
     },
     "metadata": {},
     "output_type": "display_data"
    }
   ],
   "source": [
    "transformed.boxplot('A', figsize=(10, 1), vert=False)\n",
    "plt.show()"
   ]
  },
  {
   "cell_type": "code",
   "execution_count": 41,
   "id": "58980bb7",
   "metadata": {
    "ExecuteTime": {
     "end_time": "2024-01-01T23:08:06.466444Z",
     "start_time": "2024-01-01T23:08:06.389428Z"
    },
    "scrolled": true
   },
   "outputs": [
    {
     "data": {
      "image/png": "[encoded data removed]",
      "text/plain": [
       "<Figure size 1000x100 with 1 Axes>"
      ]
     },
     "metadata": {},
     "output_type": "display_data"
    }
   ],
   "source": [
    "transformed.boxplot('B', figsize=(10, 1), vert=False)\n",
    "plt.show()"
   ]
  },
  {
   "cell_type": "markdown",
   "id": "3b94501b",
   "metadata": {},
   "source": [
    "### `fit_transform(X, [y])`\n",
    "Fit and apply transformation to `X` and return the transformed data.\n",
    "- `X`: pandas Series, DataFrame or array-like (like numpy array).\n",
    "- `y`: ignored, accepted for convention and compatibility."
   ]
  },
  {
   "cell_type": "code",
   "execution_count": 42,
   "id": "3d8d4573",
   "metadata": {
    "ExecuteTime": {
     "end_time": "2024-01-01T23:08:06.481938Z",
     "start_time": "2024-01-01T23:08:06.467443Z"
    }
   },
   "outputs": [],
   "source": [
    "wo = WhiskerOutliers()\n",
    "fit_and_transformed = wo.fit_transform(data)"
   ]
  },
  {
   "cell_type": "code",
   "execution_count": 43,
   "id": "313d6b8c",
   "metadata": {
    "ExecuteTime": {
     "end_time": "2024-01-01T23:08:06.559698Z",
     "start_time": "2024-01-01T23:08:06.482943Z"
    }
   },
   "outputs": [
    {
     "data": {
      "image/png": "[encoded data removed]",
      "text/plain": [
       "<Figure size 1000x100 with 1 Axes>"
      ]
     },
     "metadata": {},
     "output_type": "display_data"
    }
   ],
   "source": [
    "fit_and_transformed.boxplot('A', figsize=(10, 1), vert=False)\n",
    "plt.show()"
   ]
  },
  {
   "cell_type": "code",
   "execution_count": 44,
   "id": "34e50fe6",
   "metadata": {
    "ExecuteTime": {
     "end_time": "2024-01-01T23:08:06.697673Z",
     "start_time": "2024-01-01T23:08:06.561693Z"
    }
   },
   "outputs": [
    {
     "data": {
      "image/png": "[encoded data removed]",
      "text/plain": [
       "<Figure size 1000x100 with 1 Axes>"
      ]
     },
     "metadata": {},
     "output_type": "display_data"
    }
   ],
   "source": [
    "fit_and_transformed.boxplot('B', figsize=(10, 1), vert=False)\n",
    "plt.show()"
   ]
  },
  {
   "cell_type": "markdown",
   "id": "1ca0aade",
   "metadata": {},
   "source": [
    "### `get_params()`\n",
    "Get parameters for this estimator.  \n",
    "Returns a dictionary of parameters mapped to their values."
   ]
  },
  {
   "cell_type": "code",
   "execution_count": 45,
   "id": "36985bcc",
   "metadata": {
    "ExecuteTime": {
     "end_time": "2024-01-01T23:08:06.713300Z",
     "start_time": "2024-01-01T23:08:06.698698Z"
    }
   },
   "outputs": [
    {
     "data": {
      "text/plain": [
       "{'threshold': 1.5, 'add_indicator': False}"
      ]
     },
     "execution_count": 45,
     "metadata": {},
     "output_type": "execute_result"
    }
   ],
   "source": [
    "wo.get_params()"
   ]
  },
  {
   "cell_type": "markdown",
   "id": "05d3f6f2",
   "metadata": {},
   "source": [
    "### `set_params(**params)`\n",
    "Set the parameters of this estimator.\n",
    "- `**params` is a dictionary of the estimator parameters\n",
    "Returns the estimator instance."
   ]
  },
  {
   "cell_type": "code",
   "execution_count": 46,
   "id": "a246b484",
   "metadata": {
    "ExecuteTime": {
     "end_time": "2024-01-01T23:08:06.744261Z",
     "start_time": "2024-01-01T23:08:06.714293Z"
    }
   },
   "outputs": [
    {
     "data": {
      "text/html": [
       "<div>\n",
       "<style scoped>\n",
       "    .dataframe tbody tr th:only-of-type {\n",
       "        vertical-align: middle;\n",
       "    }\n",
       "\n",
       "    .dataframe tbody tr th {\n",
       "        vertical-align: top;\n",
       "    }\n",
       "\n",
       "    .dataframe thead th {\n",
       "        text-align: right;\n",
       "    }\n",
       "</style>\n",
       "<table border=\"1\" class=\"dataframe\">\n",
       "  <thead>\n",
       "    <tr style=\"text-align: right;\">\n",
       "      <th></th>\n",
       "      <th>A</th>\n",
       "      <th>B</th>\n",
       "      <th>A_outlier</th>\n",
       "      <th>B_outlier</th>\n",
       "    </tr>\n",
       "  </thead>\n",
       "  <tbody>\n",
       "    <tr>\n",
       "      <th>0</th>\n",
       "      <td>NaN</td>\n",
       "      <td>18.0</td>\n",
       "      <td>-1</td>\n",
       "      <td>0</td>\n",
       "    </tr>\n",
       "    <tr>\n",
       "      <th>1</th>\n",
       "      <td>0.183419</td>\n",
       "      <td>34.0</td>\n",
       "      <td>0</td>\n",
       "      <td>0</td>\n",
       "    </tr>\n",
       "    <tr>\n",
       "      <th>2</th>\n",
       "      <td>-1.739405</td>\n",
       "      <td>23.0</td>\n",
       "      <td>0</td>\n",
       "      <td>0</td>\n",
       "    </tr>\n",
       "    <tr>\n",
       "      <th>3</th>\n",
       "      <td>-0.407147</td>\n",
       "      <td>12.0</td>\n",
       "      <td>0</td>\n",
       "      <td>0</td>\n",
       "    </tr>\n",
       "    <tr>\n",
       "      <th>4</th>\n",
       "      <td>-0.813476</td>\n",
       "      <td>29.0</td>\n",
       "      <td>0</td>\n",
       "      <td>0</td>\n",
       "    </tr>\n",
       "    <tr>\n",
       "      <th>5</th>\n",
       "      <td>0.601784</td>\n",
       "      <td>25.0</td>\n",
       "      <td>0</td>\n",
       "      <td>0</td>\n",
       "    </tr>\n",
       "    <tr>\n",
       "      <th>6</th>\n",
       "      <td>0.130457</td>\n",
       "      <td>21.0</td>\n",
       "      <td>0</td>\n",
       "      <td>0</td>\n",
       "    </tr>\n",
       "    <tr>\n",
       "      <th>7</th>\n",
       "      <td>0.315318</td>\n",
       "      <td>NaN</td>\n",
       "      <td>0</td>\n",
       "      <td>-1</td>\n",
       "    </tr>\n",
       "    <tr>\n",
       "      <th>8</th>\n",
       "      <td>0.716157</td>\n",
       "      <td>29.0</td>\n",
       "      <td>0</td>\n",
       "      <td>0</td>\n",
       "    </tr>\n",
       "    <tr>\n",
       "      <th>9</th>\n",
       "      <td>-0.703382</td>\n",
       "      <td>24.0</td>\n",
       "      <td>0</td>\n",
       "      <td>0</td>\n",
       "    </tr>\n",
       "    <tr>\n",
       "      <th>10</th>\n",
       "      <td>-0.376354</td>\n",
       "      <td>32.0</td>\n",
       "      <td>0</td>\n",
       "      <td>0</td>\n",
       "    </tr>\n",
       "    <tr>\n",
       "      <th>11</th>\n",
       "      <td>0.638981</td>\n",
       "      <td>NaN</td>\n",
       "      <td>0</td>\n",
       "      <td>1</td>\n",
       "    </tr>\n",
       "    <tr>\n",
       "      <th>12</th>\n",
       "      <td>-1.469733</td>\n",
       "      <td>17.0</td>\n",
       "      <td>0</td>\n",
       "      <td>0</td>\n",
       "    </tr>\n",
       "    <tr>\n",
       "      <th>13</th>\n",
       "      <td>-1.788557</td>\n",
       "      <td>23.0</td>\n",
       "      <td>0</td>\n",
       "      <td>0</td>\n",
       "    </tr>\n",
       "    <tr>\n",
       "      <th>14</th>\n",
       "      <td>0.093530</td>\n",
       "      <td>27.0</td>\n",
       "      <td>0</td>\n",
       "      <td>0</td>\n",
       "    </tr>\n",
       "    <tr>\n",
       "      <th>15</th>\n",
       "      <td>-0.947836</td>\n",
       "      <td>30.0</td>\n",
       "      <td>0</td>\n",
       "      <td>0</td>\n",
       "    </tr>\n",
       "    <tr>\n",
       "      <th>16</th>\n",
       "      <td>-0.379213</td>\n",
       "      <td>NaN</td>\n",
       "      <td>0</td>\n",
       "      <td>1</td>\n",
       "    </tr>\n",
       "    <tr>\n",
       "      <th>17</th>\n",
       "      <td>-0.420326</td>\n",
       "      <td>25.0</td>\n",
       "      <td>0</td>\n",
       "      <td>0</td>\n",
       "    </tr>\n",
       "    <tr>\n",
       "      <th>18</th>\n",
       "      <td>0.440307</td>\n",
       "      <td>14.0</td>\n",
       "      <td>0</td>\n",
       "      <td>0</td>\n",
       "    </tr>\n",
       "    <tr>\n",
       "      <th>19</th>\n",
       "      <td>-0.288918</td>\n",
       "      <td>31.0</td>\n",
       "      <td>0</td>\n",
       "      <td>0</td>\n",
       "    </tr>\n",
       "    <tr>\n",
       "      <th>20</th>\n",
       "      <td>-0.606306</td>\n",
       "      <td>20.0</td>\n",
       "      <td>0</td>\n",
       "      <td>0</td>\n",
       "    </tr>\n",
       "    <tr>\n",
       "      <th>21</th>\n",
       "      <td>1.315781</td>\n",
       "      <td>27.0</td>\n",
       "      <td>0</td>\n",
       "      <td>0</td>\n",
       "    </tr>\n",
       "    <tr>\n",
       "      <th>22</th>\n",
       "      <td>-1.779490</td>\n",
       "      <td>29.0</td>\n",
       "      <td>0</td>\n",
       "      <td>0</td>\n",
       "    </tr>\n",
       "    <tr>\n",
       "      <th>23</th>\n",
       "      <td>-0.733635</td>\n",
       "      <td>11.0</td>\n",
       "      <td>0</td>\n",
       "      <td>0</td>\n",
       "    </tr>\n",
       "    <tr>\n",
       "      <th>24</th>\n",
       "      <td>0.338525</td>\n",
       "      <td>25.0</td>\n",
       "      <td>0</td>\n",
       "      <td>0</td>\n",
       "    </tr>\n",
       "    <tr>\n",
       "      <th>25</th>\n",
       "      <td>1.585907</td>\n",
       "      <td>27.0</td>\n",
       "      <td>0</td>\n",
       "      <td>0</td>\n",
       "    </tr>\n",
       "    <tr>\n",
       "      <th>26</th>\n",
       "      <td>NaN</td>\n",
       "      <td>27.0</td>\n",
       "      <td>1</td>\n",
       "      <td>0</td>\n",
       "    </tr>\n",
       "    <tr>\n",
       "      <th>27</th>\n",
       "      <td>NaN</td>\n",
       "      <td>17.0</td>\n",
       "      <td>1</td>\n",
       "      <td>0</td>\n",
       "    </tr>\n",
       "    <tr>\n",
       "      <th>28</th>\n",
       "      <td>NaN</td>\n",
       "      <td>NaN</td>\n",
       "      <td>1</td>\n",
       "      <td>1</td>\n",
       "    </tr>\n",
       "    <tr>\n",
       "      <th>29</th>\n",
       "      <td>NaN</td>\n",
       "      <td>NaN</td>\n",
       "      <td>-1</td>\n",
       "      <td>-1</td>\n",
       "    </tr>\n",
       "  </tbody>\n",
       "</table>\n",
       "</div>"
      ],
      "text/plain": [
       "           A     B  A_outlier  B_outlier\n",
       "0        NaN  18.0         -1          0\n",
       "1   0.183419  34.0          0          0\n",
       "2  -1.739405  23.0          0          0\n",
       "3  -0.407147  12.0          0          0\n",
       "4  -0.813476  29.0          0          0\n",
       "5   0.601784  25.0          0          0\n",
       "6   0.130457  21.0          0          0\n",
       "7   0.315318   NaN          0         -1\n",
       "8   0.716157  29.0          0          0\n",
       "9  -0.703382  24.0          0          0\n",
       "10 -0.376354  32.0          0          0\n",
       "11  0.638981   NaN          0          1\n",
       "12 -1.469733  17.0          0          0\n",
       "13 -1.788557  23.0          0          0\n",
       "14  0.093530  27.0          0          0\n",
       "15 -0.947836  30.0          0          0\n",
       "16 -0.379213   NaN          0          1\n",
       "17 -0.420326  25.0          0          0\n",
       "18  0.440307  14.0          0          0\n",
       "19 -0.288918  31.0          0          0\n",
       "20 -0.606306  20.0          0          0\n",
       "21  1.315781  27.0          0          0\n",
       "22 -1.779490  29.0          0          0\n",
       "23 -0.733635  11.0          0          0\n",
       "24  0.338525  25.0          0          0\n",
       "25  1.585907  27.0          0          0\n",
       "26       NaN  27.0          1          0\n",
       "27       NaN  17.0          1          0\n",
       "28       NaN   NaN          1          1\n",
       "29       NaN   NaN         -1         -1"
      ]
     },
     "execution_count": 46,
     "metadata": {},
     "output_type": "execute_result"
    }
   ],
   "source": [
    "WhiskerOutliers(threshold=1.0, add_indicator=True).fit_transform(data)"
   ]
  },
  {
   "cell_type": "code",
   "execution_count": 47,
   "id": "d69fb599",
   "metadata": {
    "ExecuteTime": {
     "end_time": "2024-01-01T23:08:06.774619Z",
     "start_time": "2024-01-01T23:08:06.745787Z"
    }
   },
   "outputs": [
    {
     "data": {
      "text/html": [
       "<div>\n",
       "<style scoped>\n",
       "    .dataframe tbody tr th:only-of-type {\n",
       "        vertical-align: middle;\n",
       "    }\n",
       "\n",
       "    .dataframe tbody tr th {\n",
       "        vertical-align: top;\n",
       "    }\n",
       "\n",
       "    .dataframe thead th {\n",
       "        text-align: right;\n",
       "    }\n",
       "</style>\n",
       "<table border=\"1\" class=\"dataframe\">\n",
       "  <thead>\n",
       "    <tr style=\"text-align: right;\">\n",
       "      <th></th>\n",
       "      <th>A</th>\n",
       "      <th>B</th>\n",
       "      <th>A_outlier</th>\n",
       "      <th>B_outlier</th>\n",
       "    </tr>\n",
       "  </thead>\n",
       "  <tbody>\n",
       "    <tr>\n",
       "      <th>0</th>\n",
       "      <td>NaN</td>\n",
       "      <td>18.0</td>\n",
       "      <td>-1</td>\n",
       "      <td>0</td>\n",
       "    </tr>\n",
       "    <tr>\n",
       "      <th>1</th>\n",
       "      <td>0.183419</td>\n",
       "      <td>34.0</td>\n",
       "      <td>0</td>\n",
       "      <td>0</td>\n",
       "    </tr>\n",
       "    <tr>\n",
       "      <th>2</th>\n",
       "      <td>-1.739405</td>\n",
       "      <td>23.0</td>\n",
       "      <td>0</td>\n",
       "      <td>0</td>\n",
       "    </tr>\n",
       "    <tr>\n",
       "      <th>3</th>\n",
       "      <td>-0.407147</td>\n",
       "      <td>12.0</td>\n",
       "      <td>0</td>\n",
       "      <td>0</td>\n",
       "    </tr>\n",
       "    <tr>\n",
       "      <th>4</th>\n",
       "      <td>-0.813476</td>\n",
       "      <td>29.0</td>\n",
       "      <td>0</td>\n",
       "      <td>0</td>\n",
       "    </tr>\n",
       "    <tr>\n",
       "      <th>5</th>\n",
       "      <td>0.601784</td>\n",
       "      <td>25.0</td>\n",
       "      <td>0</td>\n",
       "      <td>0</td>\n",
       "    </tr>\n",
       "    <tr>\n",
       "      <th>6</th>\n",
       "      <td>0.130457</td>\n",
       "      <td>21.0</td>\n",
       "      <td>0</td>\n",
       "      <td>0</td>\n",
       "    </tr>\n",
       "    <tr>\n",
       "      <th>7</th>\n",
       "      <td>0.315318</td>\n",
       "      <td>NaN</td>\n",
       "      <td>0</td>\n",
       "      <td>-1</td>\n",
       "    </tr>\n",
       "    <tr>\n",
       "      <th>8</th>\n",
       "      <td>0.716157</td>\n",
       "      <td>29.0</td>\n",
       "      <td>0</td>\n",
       "      <td>0</td>\n",
       "    </tr>\n",
       "    <tr>\n",
       "      <th>9</th>\n",
       "      <td>-0.703382</td>\n",
       "      <td>24.0</td>\n",
       "      <td>0</td>\n",
       "      <td>0</td>\n",
       "    </tr>\n",
       "    <tr>\n",
       "      <th>10</th>\n",
       "      <td>-0.376354</td>\n",
       "      <td>32.0</td>\n",
       "      <td>0</td>\n",
       "      <td>0</td>\n",
       "    </tr>\n",
       "    <tr>\n",
       "      <th>11</th>\n",
       "      <td>0.638981</td>\n",
       "      <td>NaN</td>\n",
       "      <td>0</td>\n",
       "      <td>1</td>\n",
       "    </tr>\n",
       "    <tr>\n",
       "      <th>12</th>\n",
       "      <td>-1.469733</td>\n",
       "      <td>17.0</td>\n",
       "      <td>0</td>\n",
       "      <td>0</td>\n",
       "    </tr>\n",
       "    <tr>\n",
       "      <th>13</th>\n",
       "      <td>-1.788557</td>\n",
       "      <td>23.0</td>\n",
       "      <td>0</td>\n",
       "      <td>0</td>\n",
       "    </tr>\n",
       "    <tr>\n",
       "      <th>14</th>\n",
       "      <td>0.093530</td>\n",
       "      <td>27.0</td>\n",
       "      <td>0</td>\n",
       "      <td>0</td>\n",
       "    </tr>\n",
       "    <tr>\n",
       "      <th>15</th>\n",
       "      <td>-0.947836</td>\n",
       "      <td>30.0</td>\n",
       "      <td>0</td>\n",
       "      <td>0</td>\n",
       "    </tr>\n",
       "    <tr>\n",
       "      <th>16</th>\n",
       "      <td>-0.379213</td>\n",
       "      <td>NaN</td>\n",
       "      <td>0</td>\n",
       "      <td>1</td>\n",
       "    </tr>\n",
       "    <tr>\n",
       "      <th>17</th>\n",
       "      <td>-0.420326</td>\n",
       "      <td>25.0</td>\n",
       "      <td>0</td>\n",
       "      <td>0</td>\n",
       "    </tr>\n",
       "    <tr>\n",
       "      <th>18</th>\n",
       "      <td>0.440307</td>\n",
       "      <td>14.0</td>\n",
       "      <td>0</td>\n",
       "      <td>0</td>\n",
       "    </tr>\n",
       "    <tr>\n",
       "      <th>19</th>\n",
       "      <td>-0.288918</td>\n",
       "      <td>31.0</td>\n",
       "      <td>0</td>\n",
       "      <td>0</td>\n",
       "    </tr>\n",
       "    <tr>\n",
       "      <th>20</th>\n",
       "      <td>-0.606306</td>\n",
       "      <td>20.0</td>\n",
       "      <td>0</td>\n",
       "      <td>0</td>\n",
       "    </tr>\n",
       "    <tr>\n",
       "      <th>21</th>\n",
       "      <td>1.315781</td>\n",
       "      <td>27.0</td>\n",
       "      <td>0</td>\n",
       "      <td>0</td>\n",
       "    </tr>\n",
       "    <tr>\n",
       "      <th>22</th>\n",
       "      <td>-1.779490</td>\n",
       "      <td>29.0</td>\n",
       "      <td>0</td>\n",
       "      <td>0</td>\n",
       "    </tr>\n",
       "    <tr>\n",
       "      <th>23</th>\n",
       "      <td>-0.733635</td>\n",
       "      <td>11.0</td>\n",
       "      <td>0</td>\n",
       "      <td>0</td>\n",
       "    </tr>\n",
       "    <tr>\n",
       "      <th>24</th>\n",
       "      <td>0.338525</td>\n",
       "      <td>25.0</td>\n",
       "      <td>0</td>\n",
       "      <td>0</td>\n",
       "    </tr>\n",
       "    <tr>\n",
       "      <th>25</th>\n",
       "      <td>1.585907</td>\n",
       "      <td>27.0</td>\n",
       "      <td>0</td>\n",
       "      <td>0</td>\n",
       "    </tr>\n",
       "    <tr>\n",
       "      <th>26</th>\n",
       "      <td>NaN</td>\n",
       "      <td>27.0</td>\n",
       "      <td>1</td>\n",
       "      <td>0</td>\n",
       "    </tr>\n",
       "    <tr>\n",
       "      <th>27</th>\n",
       "      <td>NaN</td>\n",
       "      <td>17.0</td>\n",
       "      <td>1</td>\n",
       "      <td>0</td>\n",
       "    </tr>\n",
       "    <tr>\n",
       "      <th>28</th>\n",
       "      <td>NaN</td>\n",
       "      <td>NaN</td>\n",
       "      <td>1</td>\n",
       "      <td>1</td>\n",
       "    </tr>\n",
       "    <tr>\n",
       "      <th>29</th>\n",
       "      <td>NaN</td>\n",
       "      <td>NaN</td>\n",
       "      <td>-1</td>\n",
       "      <td>-1</td>\n",
       "    </tr>\n",
       "  </tbody>\n",
       "</table>\n",
       "</div>"
      ],
      "text/plain": [
       "           A     B  A_outlier  B_outlier\n",
       "0        NaN  18.0         -1          0\n",
       "1   0.183419  34.0          0          0\n",
       "2  -1.739405  23.0          0          0\n",
       "3  -0.407147  12.0          0          0\n",
       "4  -0.813476  29.0          0          0\n",
       "5   0.601784  25.0          0          0\n",
       "6   0.130457  21.0          0          0\n",
       "7   0.315318   NaN          0         -1\n",
       "8   0.716157  29.0          0          0\n",
       "9  -0.703382  24.0          0          0\n",
       "10 -0.376354  32.0          0          0\n",
       "11  0.638981   NaN          0          1\n",
       "12 -1.469733  17.0          0          0\n",
       "13 -1.788557  23.0          0          0\n",
       "14  0.093530  27.0          0          0\n",
       "15 -0.947836  30.0          0          0\n",
       "16 -0.379213   NaN          0          1\n",
       "17 -0.420326  25.0          0          0\n",
       "18  0.440307  14.0          0          0\n",
       "19 -0.288918  31.0          0          0\n",
       "20 -0.606306  20.0          0          0\n",
       "21  1.315781  27.0          0          0\n",
       "22 -1.779490  29.0          0          0\n",
       "23 -0.733635  11.0          0          0\n",
       "24  0.338525  25.0          0          0\n",
       "25  1.585907  27.0          0          0\n",
       "26       NaN  27.0          1          0\n",
       "27       NaN  17.0          1          0\n",
       "28       NaN   NaN          1          1\n",
       "29       NaN   NaN         -1         -1"
      ]
     },
     "execution_count": 47,
     "metadata": {},
     "output_type": "execute_result"
    }
   ],
   "source": [
    "WhiskerOutliers().set_params(**{'threshold': 1.0, 'add_indicator': True}).fit_transform(data)"
   ]
  },
  {
   "cell_type": "markdown",
   "id": "17e63f76",
   "metadata": {},
   "source": [
    "## `fit` and `transform` with non-default parameters\n",
    "In this example the `threshold`and `add_indicator` parameters has been changed from their default values:"
   ]
  },
  {
   "cell_type": "code",
   "execution_count": 48,
   "id": "2dba2753",
   "metadata": {
    "ExecuteTime": {
     "end_time": "2024-01-01T23:08:06.790400Z",
     "start_time": "2024-01-01T23:08:06.775851Z"
    }
   },
   "outputs": [],
   "source": [
    "wo = WhiskerOutliers(threshold=1.5, add_indicator=True)"
   ]
  },
  {
   "cell_type": "code",
   "execution_count": 49,
   "id": "a69df30e",
   "metadata": {
    "ExecuteTime": {
     "end_time": "2024-01-01T23:08:06.805179Z",
     "start_time": "2024-01-01T23:08:06.791421Z"
    }
   },
   "outputs": [
    {
     "data": {
      "text/html": [
       "<style>#sk-container-id-6 {color: black;background-color: white;}#sk-container-id-6 pre{padding: 0;}#sk-container-id-6 div.sk-toggleable {background-color: white;}#sk-container-id-6 label.sk-toggleable__label {cursor: pointer;display: block;width: 100%;margin-bottom: 0;padding: 0.3em;box-sizing: border-box;text-align: center;}#sk-container-id-6 label.sk-toggleable__label-arrow:before {content: \"▸\";float: left;margin-right: 0.25em;color: #696969;}#sk-container-id-6 label.sk-toggleable__label-arrow:hover:before {color: black;}#sk-container-id-6 div.sk-estimator:hover label.sk-toggleable__label-arrow:before {color: black;}#sk-container-id-6 div.sk-toggleable__content {max-height: 0;max-width: 0;overflow: hidden;text-align: left;background-color: #f0f8ff;}#sk-container-id-6 div.sk-toggleable__content pre {margin: 0.2em;color: black;border-radius: 0.25em;background-color: #f0f8ff;}#sk-container-id-6 input.sk-toggleable__control:checked~div.sk-toggleable__content {max-height: 200px;max-width: 100%;overflow: auto;}#sk-container-id-6 input.sk-toggleable__control:checked~label.sk-toggleable__label-arrow:before {content: \"▾\";}#sk-container-id-6 div.sk-estimator input.sk-toggleable__control:checked~label.sk-toggleable__label {background-color: #d4ebff;}#sk-container-id-6 div.sk-label input.sk-toggleable__control:checked~label.sk-toggleable__label {background-color: #d4ebff;}#sk-container-id-6 input.sk-hidden--visually {border: 0;clip: rect(1px 1px 1px 1px);clip: rect(1px, 1px, 1px, 1px);height: 1px;margin: -1px;overflow: hidden;padding: 0;position: absolute;width: 1px;}#sk-container-id-6 div.sk-estimator {font-family: monospace;background-color: #f0f8ff;border: 1px dotted black;border-radius: 0.25em;box-sizing: border-box;margin-bottom: 0.5em;}#sk-container-id-6 div.sk-estimator:hover {background-color: #d4ebff;}#sk-container-id-6 div.sk-parallel-item::after {content: \"\";width: 100%;border-bottom: 1px solid gray;flex-grow: 1;}#sk-container-id-6 div.sk-label:hover label.sk-toggleable__label {background-color: #d4ebff;}#sk-container-id-6 div.sk-serial::before {content: \"\";position: absolute;border-left: 1px solid gray;box-sizing: border-box;top: 0;bottom: 0;left: 50%;z-index: 0;}#sk-container-id-6 div.sk-serial {display: flex;flex-direction: column;align-items: center;background-color: white;padding-right: 0.2em;padding-left: 0.2em;position: relative;}#sk-container-id-6 div.sk-item {position: relative;z-index: 1;}#sk-container-id-6 div.sk-parallel {display: flex;align-items: stretch;justify-content: center;background-color: white;position: relative;}#sk-container-id-6 div.sk-item::before, #sk-container-id-6 div.sk-parallel-item::before {content: \"\";position: absolute;border-left: 1px solid gray;box-sizing: border-box;top: 0;bottom: 0;left: 50%;z-index: -1;}#sk-container-id-6 div.sk-parallel-item {display: flex;flex-direction: column;z-index: 1;position: relative;background-color: white;}#sk-container-id-6 div.sk-parallel-item:first-child::after {align-self: flex-end;width: 50%;}#sk-container-id-6 div.sk-parallel-item:last-child::after {align-self: flex-start;width: 50%;}#sk-container-id-6 div.sk-parallel-item:only-child::after {width: 0;}#sk-container-id-6 div.sk-dashed-wrapped {border: 1px dashed gray;margin: 0 0.4em 0.5em 0.4em;box-sizing: border-box;padding-bottom: 0.4em;background-color: white;}#sk-container-id-6 div.sk-label label {font-family: monospace;font-weight: bold;display: inline-block;line-height: 1.2em;}#sk-container-id-6 div.sk-label-container {text-align: center;}#sk-container-id-6 div.sk-container {/* jupyter's `normalize.less` sets `[hidden] { display: none; }` but bootstrap.min.css set `[hidden] { display: none !important; }` so we also need the `!important` here to be able to override the default hidden behavior on the sphinx rendered scikit-learn.org. See: https://github.com/scikit-learn/scikit-learn/issues/21755 */display: inline-block !important;position: relative;}#sk-container-id-6 div.sk-text-repr-fallback {display: none;}</style><div id=\"sk-container-id-6\" class=\"sk-top-container\"><div class=\"sk-text-repr-fallback\"><pre>WhiskerOutliers(add_indicator=True)</pre><b>In a Jupyter environment, please rerun this cell to show the HTML representation or trust the notebook. <br />On GitHub, the HTML representation is unable to render, please try loading this page with nbviewer.org.</b></div><div class=\"sk-container\" hidden><div class=\"sk-item\"><div class=\"sk-estimator sk-toggleable\"><input class=\"sk-toggleable__control sk-hidden--visually\" id=\"sk-estimator-id-6\" type=\"checkbox\" checked><label for=\"sk-estimator-id-6\" class=\"sk-toggleable__label sk-toggleable__label-arrow\">WhiskerOutliers</label><div class=\"sk-toggleable__content\"><pre>WhiskerOutliers(add_indicator=True)</pre></div></div></div></div></div>"
      ],
      "text/plain": [
       "WhiskerOutliers(add_indicator=True)"
      ]
     },
     "execution_count": 49,
     "metadata": {},
     "output_type": "execute_result"
    }
   ],
   "source": [
    "wo.fit(data)"
   ]
  },
  {
   "cell_type": "code",
   "execution_count": 50,
   "id": "2fa2082d",
   "metadata": {
    "ExecuteTime": {
     "end_time": "2024-01-01T23:08:06.820864Z",
     "start_time": "2024-01-01T23:08:06.806272Z"
    }
   },
   "outputs": [],
   "source": [
    "transformed = wo.transform(data)"
   ]
  },
  {
   "cell_type": "code",
   "execution_count": 51,
   "id": "881f3c10",
   "metadata": {
    "ExecuteTime": {
     "end_time": "2024-01-01T23:08:06.915150Z",
     "start_time": "2024-01-01T23:08:06.821826Z"
    }
   },
   "outputs": [
    {
     "data": {
      "image/png": "[encoded data removed]",
      "text/plain": [
       "<Figure size 1000x100 with 1 Axes>"
      ]
     },
     "metadata": {},
     "output_type": "display_data"
    }
   ],
   "source": [
    "transformed.boxplot('A', figsize=(10, 1), vert=False)\n",
    "plt.show()"
   ]
  },
  {
   "cell_type": "code",
   "execution_count": 52,
   "id": "f4d31861",
   "metadata": {
    "ExecuteTime": {
     "end_time": "2024-01-01T23:08:06.992613Z",
     "start_time": "2024-01-01T23:08:06.916354Z"
    },
    "scrolled": true
   },
   "outputs": [
    {
     "data": {
      "image/png": "[encoded data removed]",
      "text/plain": [
       "<Figure size 1000x100 with 1 Axes>"
      ]
     },
     "metadata": {},
     "output_type": "display_data"
    }
   ],
   "source": [
    "transformed.boxplot('B', figsize=(10, 1), vert=False)\n",
    "plt.show()"
   ]
  },
  {
   "cell_type": "markdown",
   "id": "f05b7fe7",
   "metadata": {},
   "source": [
    "With the paramenter **`add_indicator`=True** new column(s) with the suffix *_outlier* is(are) appended to the transformed dataset:"
   ]
  },
  {
   "cell_type": "code",
   "execution_count": 53,
   "id": "c9fff115",
   "metadata": {
    "ExecuteTime": {
     "end_time": "2024-01-01T23:08:07.007833Z",
     "start_time": "2024-01-01T23:08:06.994118Z"
    }
   },
   "outputs": [
    {
     "data": {
      "text/html": [
       "<div>\n",
       "<style scoped>\n",
       "    .dataframe tbody tr th:only-of-type {\n",
       "        vertical-align: middle;\n",
       "    }\n",
       "\n",
       "    .dataframe tbody tr th {\n",
       "        vertical-align: top;\n",
       "    }\n",
       "\n",
       "    .dataframe thead th {\n",
       "        text-align: right;\n",
       "    }\n",
       "</style>\n",
       "<table border=\"1\" class=\"dataframe\">\n",
       "  <thead>\n",
       "    <tr style=\"text-align: right;\">\n",
       "      <th></th>\n",
       "      <th>A</th>\n",
       "      <th>B</th>\n",
       "      <th>A_outlier</th>\n",
       "      <th>B_outlier</th>\n",
       "    </tr>\n",
       "  </thead>\n",
       "  <tbody>\n",
       "    <tr>\n",
       "      <th>0</th>\n",
       "      <td>NaN</td>\n",
       "      <td>18.0</td>\n",
       "      <td>-1</td>\n",
       "      <td>0</td>\n",
       "    </tr>\n",
       "    <tr>\n",
       "      <th>1</th>\n",
       "      <td>0.183419</td>\n",
       "      <td>34.0</td>\n",
       "      <td>0</td>\n",
       "      <td>0</td>\n",
       "    </tr>\n",
       "    <tr>\n",
       "      <th>2</th>\n",
       "      <td>-1.739405</td>\n",
       "      <td>23.0</td>\n",
       "      <td>0</td>\n",
       "      <td>0</td>\n",
       "    </tr>\n",
       "    <tr>\n",
       "      <th>3</th>\n",
       "      <td>-0.407147</td>\n",
       "      <td>12.0</td>\n",
       "      <td>0</td>\n",
       "      <td>0</td>\n",
       "    </tr>\n",
       "    <tr>\n",
       "      <th>4</th>\n",
       "      <td>-0.813476</td>\n",
       "      <td>29.0</td>\n",
       "      <td>0</td>\n",
       "      <td>0</td>\n",
       "    </tr>\n",
       "    <tr>\n",
       "      <th>5</th>\n",
       "      <td>0.601784</td>\n",
       "      <td>25.0</td>\n",
       "      <td>0</td>\n",
       "      <td>0</td>\n",
       "    </tr>\n",
       "    <tr>\n",
       "      <th>6</th>\n",
       "      <td>0.130457</td>\n",
       "      <td>21.0</td>\n",
       "      <td>0</td>\n",
       "      <td>0</td>\n",
       "    </tr>\n",
       "    <tr>\n",
       "      <th>7</th>\n",
       "      <td>0.315318</td>\n",
       "      <td>3.0</td>\n",
       "      <td>0</td>\n",
       "      <td>0</td>\n",
       "    </tr>\n",
       "    <tr>\n",
       "      <th>8</th>\n",
       "      <td>0.716157</td>\n",
       "      <td>29.0</td>\n",
       "      <td>0</td>\n",
       "      <td>0</td>\n",
       "    </tr>\n",
       "    <tr>\n",
       "      <th>9</th>\n",
       "      <td>-0.703382</td>\n",
       "      <td>24.0</td>\n",
       "      <td>0</td>\n",
       "      <td>0</td>\n",
       "    </tr>\n",
       "    <tr>\n",
       "      <th>10</th>\n",
       "      <td>-0.376354</td>\n",
       "      <td>32.0</td>\n",
       "      <td>0</td>\n",
       "      <td>0</td>\n",
       "    </tr>\n",
       "    <tr>\n",
       "      <th>11</th>\n",
       "      <td>0.638981</td>\n",
       "      <td>41.0</td>\n",
       "      <td>0</td>\n",
       "      <td>0</td>\n",
       "    </tr>\n",
       "    <tr>\n",
       "      <th>12</th>\n",
       "      <td>-1.469733</td>\n",
       "      <td>17.0</td>\n",
       "      <td>0</td>\n",
       "      <td>0</td>\n",
       "    </tr>\n",
       "    <tr>\n",
       "      <th>13</th>\n",
       "      <td>-1.788557</td>\n",
       "      <td>23.0</td>\n",
       "      <td>0</td>\n",
       "      <td>0</td>\n",
       "    </tr>\n",
       "    <tr>\n",
       "      <th>14</th>\n",
       "      <td>0.093530</td>\n",
       "      <td>27.0</td>\n",
       "      <td>0</td>\n",
       "      <td>0</td>\n",
       "    </tr>\n",
       "    <tr>\n",
       "      <th>15</th>\n",
       "      <td>-0.947836</td>\n",
       "      <td>30.0</td>\n",
       "      <td>0</td>\n",
       "      <td>0</td>\n",
       "    </tr>\n",
       "    <tr>\n",
       "      <th>16</th>\n",
       "      <td>-0.379213</td>\n",
       "      <td>NaN</td>\n",
       "      <td>0</td>\n",
       "      <td>1</td>\n",
       "    </tr>\n",
       "    <tr>\n",
       "      <th>17</th>\n",
       "      <td>-0.420326</td>\n",
       "      <td>25.0</td>\n",
       "      <td>0</td>\n",
       "      <td>0</td>\n",
       "    </tr>\n",
       "    <tr>\n",
       "      <th>18</th>\n",
       "      <td>0.440307</td>\n",
       "      <td>14.0</td>\n",
       "      <td>0</td>\n",
       "      <td>0</td>\n",
       "    </tr>\n",
       "    <tr>\n",
       "      <th>19</th>\n",
       "      <td>-0.288918</td>\n",
       "      <td>31.0</td>\n",
       "      <td>0</td>\n",
       "      <td>0</td>\n",
       "    </tr>\n",
       "    <tr>\n",
       "      <th>20</th>\n",
       "      <td>-0.606306</td>\n",
       "      <td>20.0</td>\n",
       "      <td>0</td>\n",
       "      <td>0</td>\n",
       "    </tr>\n",
       "    <tr>\n",
       "      <th>21</th>\n",
       "      <td>1.315781</td>\n",
       "      <td>27.0</td>\n",
       "      <td>0</td>\n",
       "      <td>0</td>\n",
       "    </tr>\n",
       "    <tr>\n",
       "      <th>22</th>\n",
       "      <td>-1.779490</td>\n",
       "      <td>29.0</td>\n",
       "      <td>0</td>\n",
       "      <td>0</td>\n",
       "    </tr>\n",
       "    <tr>\n",
       "      <th>23</th>\n",
       "      <td>-0.733635</td>\n",
       "      <td>11.0</td>\n",
       "      <td>0</td>\n",
       "      <td>0</td>\n",
       "    </tr>\n",
       "    <tr>\n",
       "      <th>24</th>\n",
       "      <td>0.338525</td>\n",
       "      <td>25.0</td>\n",
       "      <td>0</td>\n",
       "      <td>0</td>\n",
       "    </tr>\n",
       "    <tr>\n",
       "      <th>25</th>\n",
       "      <td>1.585907</td>\n",
       "      <td>27.0</td>\n",
       "      <td>0</td>\n",
       "      <td>0</td>\n",
       "    </tr>\n",
       "    <tr>\n",
       "      <th>26</th>\n",
       "      <td>NaN</td>\n",
       "      <td>27.0</td>\n",
       "      <td>1</td>\n",
       "      <td>0</td>\n",
       "    </tr>\n",
       "    <tr>\n",
       "      <th>27</th>\n",
       "      <td>NaN</td>\n",
       "      <td>17.0</td>\n",
       "      <td>1</td>\n",
       "      <td>0</td>\n",
       "    </tr>\n",
       "    <tr>\n",
       "      <th>28</th>\n",
       "      <td>NaN</td>\n",
       "      <td>NaN</td>\n",
       "      <td>1</td>\n",
       "      <td>1</td>\n",
       "    </tr>\n",
       "    <tr>\n",
       "      <th>29</th>\n",
       "      <td>NaN</td>\n",
       "      <td>NaN</td>\n",
       "      <td>-1</td>\n",
       "      <td>-1</td>\n",
       "    </tr>\n",
       "  </tbody>\n",
       "</table>\n",
       "</div>"
      ],
      "text/plain": [
       "           A     B  A_outlier  B_outlier\n",
       "0        NaN  18.0         -1          0\n",
       "1   0.183419  34.0          0          0\n",
       "2  -1.739405  23.0          0          0\n",
       "3  -0.407147  12.0          0          0\n",
       "4  -0.813476  29.0          0          0\n",
       "5   0.601784  25.0          0          0\n",
       "6   0.130457  21.0          0          0\n",
       "7   0.315318   3.0          0          0\n",
       "8   0.716157  29.0          0          0\n",
       "9  -0.703382  24.0          0          0\n",
       "10 -0.376354  32.0          0          0\n",
       "11  0.638981  41.0          0          0\n",
       "12 -1.469733  17.0          0          0\n",
       "13 -1.788557  23.0          0          0\n",
       "14  0.093530  27.0          0          0\n",
       "15 -0.947836  30.0          0          0\n",
       "16 -0.379213   NaN          0          1\n",
       "17 -0.420326  25.0          0          0\n",
       "18  0.440307  14.0          0          0\n",
       "19 -0.288918  31.0          0          0\n",
       "20 -0.606306  20.0          0          0\n",
       "21  1.315781  27.0          0          0\n",
       "22 -1.779490  29.0          0          0\n",
       "23 -0.733635  11.0          0          0\n",
       "24  0.338525  25.0          0          0\n",
       "25  1.585907  27.0          0          0\n",
       "26       NaN  27.0          1          0\n",
       "27       NaN  17.0          1          0\n",
       "28       NaN   NaN          1          1\n",
       "29       NaN   NaN         -1         -1"
      ]
     },
     "execution_count": 53,
     "metadata": {},
     "output_type": "execute_result"
    }
   ],
   "source": [
    "transformed"
   ]
  },
  {
   "cell_type": "markdown",
   "id": "ca1fc063",
   "metadata": {},
   "source": [
    "These new indicator columns can be used to retain information about the removed values on machine learning pipelines or to identify the outlier values for plotting or other analysis:"
   ]
  },
  {
   "cell_type": "code",
   "execution_count": 54,
   "id": "0e21c0a5",
   "metadata": {
    "ExecuteTime": {
     "end_time": "2024-01-01T23:08:07.162198Z",
     "start_time": "2024-01-01T23:08:07.009829Z"
    }
   },
   "outputs": [
    {
     "data": {
      "image/png": "[encoded data removed]",
      "text/plain": [
       "<Figure size 1000x100 with 1 Axes>"
      ]
     },
     "metadata": {},
     "output_type": "display_data"
    }
   ],
   "source": [
    "plt.figure(figsize=(10, 1))\n",
    "ax = sns.stripplot(data, x=\"A\", size=4, hue=transformed.A_outlier, palette=sns.color_palette(n_colors=3))\n",
    "sns.move_legend(ax, \"upper left\", bbox_to_anchor=(1, 1.15))\n",
    "plt.show()"
   ]
  },
  {
   "cell_type": "markdown",
   "id": "7b89a66c",
   "metadata": {},
   "source": [
    "# Testing and demostrations\n",
    "The previous examples were run using a pandas.DataFrame as input data, the following lines are intented to test the functionalities using padas.Series and numpy.array:\n",
    "  \n",
    "## using pandas.Series as input\n",
    "### with `add_indicator=False` as per default"
   ]
  },
  {
   "cell_type": "code",
   "execution_count": 55,
   "id": "bb6bc0ad",
   "metadata": {
    "ExecuteTime": {
     "end_time": "2024-01-01T23:08:07.177629Z",
     "start_time": "2024-01-01T23:08:07.164090Z"
    }
   },
   "outputs": [],
   "source": [
    "column_A = data['A']"
   ]
  },
  {
   "cell_type": "code",
   "execution_count": 56,
   "id": "a8df6f56",
   "metadata": {
    "ExecuteTime": {
     "end_time": "2024-01-01T23:08:07.192916Z",
     "start_time": "2024-01-01T23:08:07.178643Z"
    }
   },
   "outputs": [
    {
     "data": {
      "text/plain": [
       "0          NaN\n",
       "1     0.183419\n",
       "2    -1.739405\n",
       "3    -0.407147\n",
       "4    -0.813476\n",
       "5     0.601784\n",
       "6     0.130457\n",
       "7     0.315318\n",
       "8     0.716157\n",
       "9    -0.703382\n",
       "10   -0.376354\n",
       "11    0.638981\n",
       "12   -1.469733\n",
       "13   -1.788557\n",
       "14    0.093530\n",
       "15   -0.947836\n",
       "16   -0.379213\n",
       "17   -0.420326\n",
       "18    0.440307\n",
       "19   -0.288918\n",
       "20   -0.606306\n",
       "21    1.315781\n",
       "22   -1.779490\n",
       "23   -0.733635\n",
       "24    0.338525\n",
       "25    1.585907\n",
       "26         NaN\n",
       "27         NaN\n",
       "28         NaN\n",
       "29         NaN\n",
       "Name: A, dtype: float64"
      ]
     },
     "execution_count": 56,
     "metadata": {},
     "output_type": "execute_result"
    }
   ],
   "source": [
    "WhiskerOutliers().fit_transform(column_A)"
   ]
  },
  {
   "cell_type": "markdown",
   "id": "b890db95",
   "metadata": {},
   "source": [
    "### with `add_indicator=True`"
   ]
  },
  {
   "cell_type": "code",
   "execution_count": 57,
   "id": "6247ac81",
   "metadata": {
    "ExecuteTime": {
     "end_time": "2024-01-01T23:08:07.208301Z",
     "start_time": "2024-01-01T23:08:07.194441Z"
    }
   },
   "outputs": [
    {
     "data": {
      "text/html": [
       "<div>\n",
       "<style scoped>\n",
       "    .dataframe tbody tr th:only-of-type {\n",
       "        vertical-align: middle;\n",
       "    }\n",
       "\n",
       "    .dataframe tbody tr th {\n",
       "        vertical-align: top;\n",
       "    }\n",
       "\n",
       "    .dataframe thead th {\n",
       "        text-align: right;\n",
       "    }\n",
       "</style>\n",
       "<table border=\"1\" class=\"dataframe\">\n",
       "  <thead>\n",
       "    <tr style=\"text-align: right;\">\n",
       "      <th></th>\n",
       "      <th>A</th>\n",
       "      <th>A_outlier</th>\n",
       "    </tr>\n",
       "  </thead>\n",
       "  <tbody>\n",
       "    <tr>\n",
       "      <th>0</th>\n",
       "      <td>NaN</td>\n",
       "      <td>-1</td>\n",
       "    </tr>\n",
       "    <tr>\n",
       "      <th>1</th>\n",
       "      <td>0.183419</td>\n",
       "      <td>0</td>\n",
       "    </tr>\n",
       "    <tr>\n",
       "      <th>2</th>\n",
       "      <td>-1.739405</td>\n",
       "      <td>0</td>\n",
       "    </tr>\n",
       "    <tr>\n",
       "      <th>3</th>\n",
       "      <td>-0.407147</td>\n",
       "      <td>0</td>\n",
       "    </tr>\n",
       "    <tr>\n",
       "      <th>4</th>\n",
       "      <td>-0.813476</td>\n",
       "      <td>0</td>\n",
       "    </tr>\n",
       "    <tr>\n",
       "      <th>5</th>\n",
       "      <td>0.601784</td>\n",
       "      <td>0</td>\n",
       "    </tr>\n",
       "    <tr>\n",
       "      <th>6</th>\n",
       "      <td>0.130457</td>\n",
       "      <td>0</td>\n",
       "    </tr>\n",
       "    <tr>\n",
       "      <th>7</th>\n",
       "      <td>0.315318</td>\n",
       "      <td>0</td>\n",
       "    </tr>\n",
       "    <tr>\n",
       "      <th>8</th>\n",
       "      <td>0.716157</td>\n",
       "      <td>0</td>\n",
       "    </tr>\n",
       "    <tr>\n",
       "      <th>9</th>\n",
       "      <td>-0.703382</td>\n",
       "      <td>0</td>\n",
       "    </tr>\n",
       "    <tr>\n",
       "      <th>10</th>\n",
       "      <td>-0.376354</td>\n",
       "      <td>0</td>\n",
       "    </tr>\n",
       "    <tr>\n",
       "      <th>11</th>\n",
       "      <td>0.638981</td>\n",
       "      <td>0</td>\n",
       "    </tr>\n",
       "    <tr>\n",
       "      <th>12</th>\n",
       "      <td>-1.469733</td>\n",
       "      <td>0</td>\n",
       "    </tr>\n",
       "    <tr>\n",
       "      <th>13</th>\n",
       "      <td>-1.788557</td>\n",
       "      <td>0</td>\n",
       "    </tr>\n",
       "    <tr>\n",
       "      <th>14</th>\n",
       "      <td>0.093530</td>\n",
       "      <td>0</td>\n",
       "    </tr>\n",
       "    <tr>\n",
       "      <th>15</th>\n",
       "      <td>-0.947836</td>\n",
       "      <td>0</td>\n",
       "    </tr>\n",
       "    <tr>\n",
       "      <th>16</th>\n",
       "      <td>-0.379213</td>\n",
       "      <td>0</td>\n",
       "    </tr>\n",
       "    <tr>\n",
       "      <th>17</th>\n",
       "      <td>-0.420326</td>\n",
       "      <td>0</td>\n",
       "    </tr>\n",
       "    <tr>\n",
       "      <th>18</th>\n",
       "      <td>0.440307</td>\n",
       "      <td>0</td>\n",
       "    </tr>\n",
       "    <tr>\n",
       "      <th>19</th>\n",
       "      <td>-0.288918</td>\n",
       "      <td>0</td>\n",
       "    </tr>\n",
       "    <tr>\n",
       "      <th>20</th>\n",
       "      <td>-0.606306</td>\n",
       "      <td>0</td>\n",
       "    </tr>\n",
       "    <tr>\n",
       "      <th>21</th>\n",
       "      <td>1.315781</td>\n",
       "      <td>0</td>\n",
       "    </tr>\n",
       "    <tr>\n",
       "      <th>22</th>\n",
       "      <td>-1.779490</td>\n",
       "      <td>0</td>\n",
       "    </tr>\n",
       "    <tr>\n",
       "      <th>23</th>\n",
       "      <td>-0.733635</td>\n",
       "      <td>0</td>\n",
       "    </tr>\n",
       "    <tr>\n",
       "      <th>24</th>\n",
       "      <td>0.338525</td>\n",
       "      <td>0</td>\n",
       "    </tr>\n",
       "    <tr>\n",
       "      <th>25</th>\n",
       "      <td>1.585907</td>\n",
       "      <td>0</td>\n",
       "    </tr>\n",
       "    <tr>\n",
       "      <th>26</th>\n",
       "      <td>NaN</td>\n",
       "      <td>1</td>\n",
       "    </tr>\n",
       "    <tr>\n",
       "      <th>27</th>\n",
       "      <td>NaN</td>\n",
       "      <td>1</td>\n",
       "    </tr>\n",
       "    <tr>\n",
       "      <th>28</th>\n",
       "      <td>NaN</td>\n",
       "      <td>1</td>\n",
       "    </tr>\n",
       "    <tr>\n",
       "      <th>29</th>\n",
       "      <td>NaN</td>\n",
       "      <td>-1</td>\n",
       "    </tr>\n",
       "  </tbody>\n",
       "</table>\n",
       "</div>"
      ],
      "text/plain": [
       "           A  A_outlier\n",
       "0        NaN         -1\n",
       "1   0.183419          0\n",
       "2  -1.739405          0\n",
       "3  -0.407147          0\n",
       "4  -0.813476          0\n",
       "5   0.601784          0\n",
       "6   0.130457          0\n",
       "7   0.315318          0\n",
       "8   0.716157          0\n",
       "9  -0.703382          0\n",
       "10 -0.376354          0\n",
       "11  0.638981          0\n",
       "12 -1.469733          0\n",
       "13 -1.788557          0\n",
       "14  0.093530          0\n",
       "15 -0.947836          0\n",
       "16 -0.379213          0\n",
       "17 -0.420326          0\n",
       "18  0.440307          0\n",
       "19 -0.288918          0\n",
       "20 -0.606306          0\n",
       "21  1.315781          0\n",
       "22 -1.779490          0\n",
       "23 -0.733635          0\n",
       "24  0.338525          0\n",
       "25  1.585907          0\n",
       "26       NaN          1\n",
       "27       NaN          1\n",
       "28       NaN          1\n",
       "29       NaN         -1"
      ]
     },
     "execution_count": 57,
     "metadata": {},
     "output_type": "execute_result"
    }
   ],
   "source": [
    "WhiskerOutliers(add_indicator=True).fit_transform(column_A)"
   ]
  },
  {
   "cell_type": "markdown",
   "id": "1b1719c7",
   "metadata": {},
   "source": [
    "## using numpy.array as input\n",
    "- an array matrix of shape (30, 2), the 2 columns of the data\n",
    "- a vector array of shape (30,) that must be reshaped accordingly to (-1, 1)"
   ]
  },
  {
   "cell_type": "code",
   "execution_count": 58,
   "id": "cc50e8fd",
   "metadata": {
    "ExecuteTime": {
     "end_time": "2024-01-01T23:08:07.224520Z",
     "start_time": "2024-01-01T23:08:07.209300Z"
    }
   },
   "outputs": [
    {
     "name": "stdout",
     "output_type": "stream",
     "text": [
      "shape of array_matrix (30, 2)\n",
      "shape of flatten array (30,)\n"
     ]
    }
   ],
   "source": [
    "array_matrix = data.values\n",
    "print('shape of array_matrix', array_matrix.shape)\n",
    "array_A = data['A'].values\n",
    "print('shape of flatten array', array_A.shape)"
   ]
  },
  {
   "cell_type": "markdown",
   "id": "11c38816",
   "metadata": {},
   "source": [
    "### using default parameters\n",
    "- with *array_matrix*"
   ]
  },
  {
   "cell_type": "code",
   "execution_count": 59,
   "id": "5a7588bd",
   "metadata": {
    "ExecuteTime": {
     "end_time": "2024-01-01T23:08:07.239606Z",
     "start_time": "2024-01-01T23:08:07.225520Z"
    }
   },
   "outputs": [
    {
     "data": {
      "text/plain": [
       "array([[        nan, 18.        ],\n",
       "       [ 0.18341866, 34.        ],\n",
       "       [-1.73940501, 23.        ],\n",
       "       [-0.40714737, 12.        ],\n",
       "       [-0.81347565, 29.        ],\n",
       "       [ 0.6017841 , 25.        ],\n",
       "       [ 0.13045701, 21.        ],\n",
       "       [ 0.31531835,  3.        ],\n",
       "       [ 0.71615739, 29.        ],\n",
       "       [-0.70338173, 24.        ],\n",
       "       [-0.37635435, 32.        ],\n",
       "       [ 0.63898084, 41.        ],\n",
       "       [-1.46973312, 17.        ],\n",
       "       [-1.78855726, 23.        ],\n",
       "       [ 0.09353018, 27.        ],\n",
       "       [-0.9478361 , 30.        ],\n",
       "       [-0.3792133 ,         nan],\n",
       "       [-0.42032595, 25.        ],\n",
       "       [ 0.4403073 , 14.        ],\n",
       "       [-0.28891821, 31.        ],\n",
       "       [-0.60630559, 20.        ],\n",
       "       [ 1.31578068, 27.        ],\n",
       "       [-1.77949007, 29.        ],\n",
       "       [-0.73363492, 11.        ],\n",
       "       [ 0.33852455, 25.        ],\n",
       "       [ 1.58590748, 27.        ],\n",
       "       [        nan, 27.        ],\n",
       "       [        nan, 17.        ],\n",
       "       [        nan,         nan],\n",
       "       [        nan,         nan]])"
      ]
     },
     "execution_count": 59,
     "metadata": {},
     "output_type": "execute_result"
    }
   ],
   "source": [
    "WhiskerOutliers().fit_transform(array_matrix)"
   ]
  },
  {
   "cell_type": "markdown",
   "id": "b690b2d4",
   "metadata": {},
   "source": [
    "- with vector array, it is mandatory to reshape the flatten vector accordingly."
   ]
  },
  {
   "cell_type": "code",
   "execution_count": 60,
   "id": "ff64d532",
   "metadata": {
    "ExecuteTime": {
     "end_time": "2024-01-01T23:08:07.255333Z",
     "start_time": "2024-01-01T23:08:07.240611Z"
    }
   },
   "outputs": [
    {
     "data": {
      "text/plain": [
       "array([[        nan],\n",
       "       [ 0.18341866],\n",
       "       [-1.73940501],\n",
       "       [-0.40714737],\n",
       "       [-0.81347565],\n",
       "       [ 0.6017841 ],\n",
       "       [ 0.13045701],\n",
       "       [ 0.31531835],\n",
       "       [ 0.71615739],\n",
       "       [-0.70338173],\n",
       "       [-0.37635435],\n",
       "       [ 0.63898084],\n",
       "       [-1.46973312],\n",
       "       [-1.78855726],\n",
       "       [ 0.09353018],\n",
       "       [-0.9478361 ],\n",
       "       [-0.3792133 ],\n",
       "       [-0.42032595],\n",
       "       [ 0.4403073 ],\n",
       "       [-0.28891821],\n",
       "       [-0.60630559],\n",
       "       [ 1.31578068],\n",
       "       [-1.77949007],\n",
       "       [-0.73363492],\n",
       "       [ 0.33852455],\n",
       "       [ 1.58590748],\n",
       "       [        nan],\n",
       "       [        nan],\n",
       "       [        nan],\n",
       "       [        nan]])"
      ]
     },
     "execution_count": 60,
     "metadata": {},
     "output_type": "execute_result"
    }
   ],
   "source": [
    "WhiskerOutliers().fit_transform(array_A.reshape(-1, 1))"
   ]
  },
  {
   "cell_type": "markdown",
   "id": "9effe313",
   "metadata": {},
   "source": [
    "### requesting to add indicator\n",
    "- with *array_matrix*"
   ]
  },
  {
   "cell_type": "code",
   "execution_count": 61,
   "id": "ca121d48",
   "metadata": {
    "ExecuteTime": {
     "end_time": "2024-01-01T23:08:07.270330Z",
     "start_time": "2024-01-01T23:08:07.256591Z"
    }
   },
   "outputs": [
    {
     "data": {
      "text/plain": [
       "array([[        nan, 18.        , -1.        ,  0.        ],\n",
       "       [ 0.18341866, 34.        ,  0.        ,  0.        ],\n",
       "       [-1.73940501, 23.        ,  0.        ,  0.        ],\n",
       "       [-0.40714737, 12.        ,  0.        ,  0.        ],\n",
       "       [-0.81347565, 29.        ,  0.        ,  0.        ],\n",
       "       [ 0.6017841 , 25.        ,  0.        ,  0.        ],\n",
       "       [ 0.13045701, 21.        ,  0.        ,  0.        ],\n",
       "       [ 0.31531835,  3.        ,  0.        ,  0.        ],\n",
       "       [ 0.71615739, 29.        ,  0.        ,  0.        ],\n",
       "       [-0.70338173, 24.        ,  0.        ,  0.        ],\n",
       "       [-0.37635435, 32.        ,  0.        ,  0.        ],\n",
       "       [ 0.63898084, 41.        ,  0.        ,  0.        ],\n",
       "       [-1.46973312, 17.        ,  0.        ,  0.        ],\n",
       "       [-1.78855726, 23.        ,  0.        ,  0.        ],\n",
       "       [ 0.09353018, 27.        ,  0.        ,  0.        ],\n",
       "       [-0.9478361 , 30.        ,  0.        ,  0.        ],\n",
       "       [-0.3792133 ,         nan,  0.        ,  1.        ],\n",
       "       [-0.42032595, 25.        ,  0.        ,  0.        ],\n",
       "       [ 0.4403073 , 14.        ,  0.        ,  0.        ],\n",
       "       [-0.28891821, 31.        ,  0.        ,  0.        ],\n",
       "       [-0.60630559, 20.        ,  0.        ,  0.        ],\n",
       "       [ 1.31578068, 27.        ,  0.        ,  0.        ],\n",
       "       [-1.77949007, 29.        ,  0.        ,  0.        ],\n",
       "       [-0.73363492, 11.        ,  0.        ,  0.        ],\n",
       "       [ 0.33852455, 25.        ,  0.        ,  0.        ],\n",
       "       [ 1.58590748, 27.        ,  0.        ,  0.        ],\n",
       "       [        nan, 27.        ,  1.        ,  0.        ],\n",
       "       [        nan, 17.        ,  1.        ,  0.        ],\n",
       "       [        nan,         nan,  1.        ,  1.        ],\n",
       "       [        nan,         nan, -1.        , -1.        ]])"
      ]
     },
     "execution_count": 61,
     "metadata": {},
     "output_type": "execute_result"
    }
   ],
   "source": [
    "WhiskerOutliers(add_indicator=True).fit_transform(array_matrix)"
   ]
  },
  {
   "cell_type": "markdown",
   "id": "d8d8581c",
   "metadata": {},
   "source": [
    "- with flatten vector array"
   ]
  },
  {
   "cell_type": "code",
   "execution_count": 62,
   "id": "2985fccd",
   "metadata": {
    "ExecuteTime": {
     "end_time": "2024-01-01T23:08:07.286515Z",
     "start_time": "2024-01-01T23:08:07.272328Z"
    }
   },
   "outputs": [
    {
     "data": {
      "text/plain": [
       "array([[        nan, -1.        ],\n",
       "       [ 0.18341866,  0.        ],\n",
       "       [-1.73940501,  0.        ],\n",
       "       [-0.40714737,  0.        ],\n",
       "       [-0.81347565,  0.        ],\n",
       "       [ 0.6017841 ,  0.        ],\n",
       "       [ 0.13045701,  0.        ],\n",
       "       [ 0.31531835,  0.        ],\n",
       "       [ 0.71615739,  0.        ],\n",
       "       [-0.70338173,  0.        ],\n",
       "       [-0.37635435,  0.        ],\n",
       "       [ 0.63898084,  0.        ],\n",
       "       [-1.46973312,  0.        ],\n",
       "       [-1.78855726,  0.        ],\n",
       "       [ 0.09353018,  0.        ],\n",
       "       [-0.9478361 ,  0.        ],\n",
       "       [-0.3792133 ,  0.        ],\n",
       "       [-0.42032595,  0.        ],\n",
       "       [ 0.4403073 ,  0.        ],\n",
       "       [-0.28891821,  0.        ],\n",
       "       [-0.60630559,  0.        ],\n",
       "       [ 1.31578068,  0.        ],\n",
       "       [-1.77949007,  0.        ],\n",
       "       [-0.73363492,  0.        ],\n",
       "       [ 0.33852455,  0.        ],\n",
       "       [ 1.58590748,  0.        ],\n",
       "       [        nan,  1.        ],\n",
       "       [        nan,  1.        ],\n",
       "       [        nan,  1.        ],\n",
       "       [        nan, -1.        ]])"
      ]
     },
     "execution_count": 62,
     "metadata": {},
     "output_type": "execute_result"
    }
   ],
   "source": [
    "WhiskerOutliers(add_indicator=True).fit_transform(array_A.reshape(-1, 1))"
   ]
  },
  {
   "cell_type": "markdown",
   "id": "13f60e71",
   "metadata": {},
   "source": [
    "## used inside a Pipeline"
   ]
  },
  {
   "cell_type": "code",
   "execution_count": 63,
   "id": "91401b54",
   "metadata": {
    "ExecuteTime": {
     "end_time": "2024-01-01T23:08:07.381459Z",
     "start_time": "2024-01-01T23:08:07.288511Z"
    }
   },
   "outputs": [],
   "source": [
    "from sklearn.impute import KNNImputer\n",
    "from sklearn.preprocessing import StandardScaler\n",
    "from sklearn.linear_model import LinearRegression\n",
    "from sklearn.pipeline import Pipeline"
   ]
  },
  {
   "cell_type": "markdown",
   "id": "6b30edfb",
   "metadata": {},
   "source": [
    "removing the outliers, but not marking them with a new attribute:"
   ]
  },
  {
   "cell_type": "code",
   "execution_count": 64,
   "id": "62e37d87",
   "metadata": {
    "ExecuteTime": {
     "end_time": "2024-01-01T23:08:07.397470Z",
     "start_time": "2024-01-01T23:08:07.382457Z"
    }
   },
   "outputs": [],
   "source": [
    "pipe = Pipeline(\n",
    "    steps=[(\"outliers\", WhiskerOutliers()),\n",
    "           (\"imputer\", KNNImputer()),\n",
    "           (\"scaler\", StandardScaler()), \n",
    "           (\"model\", LinearRegression())]\n",
    ")"
   ]
  },
  {
   "cell_type": "code",
   "execution_count": 65,
   "id": "c6edefdd",
   "metadata": {
    "ExecuteTime": {
     "end_time": "2024-01-01T23:08:07.428173Z",
     "start_time": "2024-01-01T23:08:07.398468Z"
    }
   },
   "outputs": [
    {
     "data": {
      "text/html": [
       "<style>#sk-container-id-7 {color: black;background-color: white;}#sk-container-id-7 pre{padding: 0;}#sk-container-id-7 div.sk-toggleable {background-color: white;}#sk-container-id-7 label.sk-toggleable__label {cursor: pointer;display: block;width: 100%;margin-bottom: 0;padding: 0.3em;box-sizing: border-box;text-align: center;}#sk-container-id-7 label.sk-toggleable__label-arrow:before {content: \"▸\";float: left;margin-right: 0.25em;color: #696969;}#sk-container-id-7 label.sk-toggleable__label-arrow:hover:before {color: black;}#sk-container-id-7 div.sk-estimator:hover label.sk-toggleable__label-arrow:before {color: black;}#sk-container-id-7 div.sk-toggleable__content {max-height: 0;max-width: 0;overflow: hidden;text-align: left;background-color: #f0f8ff;}#sk-container-id-7 div.sk-toggleable__content pre {margin: 0.2em;color: black;border-radius: 0.25em;background-color: #f0f8ff;}#sk-container-id-7 input.sk-toggleable__control:checked~div.sk-toggleable__content {max-height: 200px;max-width: 100%;overflow: auto;}#sk-container-id-7 input.sk-toggleable__control:checked~label.sk-toggleable__label-arrow:before {content: \"▾\";}#sk-container-id-7 div.sk-estimator input.sk-toggleable__control:checked~label.sk-toggleable__label {background-color: #d4ebff;}#sk-container-id-7 div.sk-label input.sk-toggleable__control:checked~label.sk-toggleable__label {background-color: #d4ebff;}#sk-container-id-7 input.sk-hidden--visually {border: 0;clip: rect(1px 1px 1px 1px);clip: rect(1px, 1px, 1px, 1px);height: 1px;margin: -1px;overflow: hidden;padding: 0;position: absolute;width: 1px;}#sk-container-id-7 div.sk-estimator {font-family: monospace;background-color: #f0f8ff;border: 1px dotted black;border-radius: 0.25em;box-sizing: border-box;margin-bottom: 0.5em;}#sk-container-id-7 div.sk-estimator:hover {background-color: #d4ebff;}#sk-container-id-7 div.sk-parallel-item::after {content: \"\";width: 100%;border-bottom: 1px solid gray;flex-grow: 1;}#sk-container-id-7 div.sk-label:hover label.sk-toggleable__label {background-color: #d4ebff;}#sk-container-id-7 div.sk-serial::before {content: \"\";position: absolute;border-left: 1px solid gray;box-sizing: border-box;top: 0;bottom: 0;left: 50%;z-index: 0;}#sk-container-id-7 div.sk-serial {display: flex;flex-direction: column;align-items: center;background-color: white;padding-right: 0.2em;padding-left: 0.2em;position: relative;}#sk-container-id-7 div.sk-item {position: relative;z-index: 1;}#sk-container-id-7 div.sk-parallel {display: flex;align-items: stretch;justify-content: center;background-color: white;position: relative;}#sk-container-id-7 div.sk-item::before, #sk-container-id-7 div.sk-parallel-item::before {content: \"\";position: absolute;border-left: 1px solid gray;box-sizing: border-box;top: 0;bottom: 0;left: 50%;z-index: -1;}#sk-container-id-7 div.sk-parallel-item {display: flex;flex-direction: column;z-index: 1;position: relative;background-color: white;}#sk-container-id-7 div.sk-parallel-item:first-child::after {align-self: flex-end;width: 50%;}#sk-container-id-7 div.sk-parallel-item:last-child::after {align-self: flex-start;width: 50%;}#sk-container-id-7 div.sk-parallel-item:only-child::after {width: 0;}#sk-container-id-7 div.sk-dashed-wrapped {border: 1px dashed gray;margin: 0 0.4em 0.5em 0.4em;box-sizing: border-box;padding-bottom: 0.4em;background-color: white;}#sk-container-id-7 div.sk-label label {font-family: monospace;font-weight: bold;display: inline-block;line-height: 1.2em;}#sk-container-id-7 div.sk-label-container {text-align: center;}#sk-container-id-7 div.sk-container {/* jupyter's `normalize.less` sets `[hidden] { display: none; }` but bootstrap.min.css set `[hidden] { display: none !important; }` so we also need the `!important` here to be able to override the default hidden behavior on the sphinx rendered scikit-learn.org. See: https://github.com/scikit-learn/scikit-learn/issues/21755 */display: inline-block !important;position: relative;}#sk-container-id-7 div.sk-text-repr-fallback {display: none;}</style><div id=\"sk-container-id-7\" class=\"sk-top-container\"><div class=\"sk-text-repr-fallback\"><pre>Pipeline(steps=[(&#x27;outliers&#x27;, WhiskerOutliers()), (&#x27;imputer&#x27;, KNNImputer()),\n",
       "                (&#x27;scaler&#x27;, StandardScaler()), (&#x27;model&#x27;, LinearRegression())])</pre><b>In a Jupyter environment, please rerun this cell to show the HTML representation or trust the notebook. <br />On GitHub, the HTML representation is unable to render, please try loading this page with nbviewer.org.</b></div><div class=\"sk-container\" hidden><div class=\"sk-item sk-dashed-wrapped\"><div class=\"sk-label-container\"><div class=\"sk-label sk-toggleable\"><input class=\"sk-toggleable__control sk-hidden--visually\" id=\"sk-estimator-id-7\" type=\"checkbox\" ><label for=\"sk-estimator-id-7\" class=\"sk-toggleable__label sk-toggleable__label-arrow\">Pipeline</label><div class=\"sk-toggleable__content\"><pre>Pipeline(steps=[(&#x27;outliers&#x27;, WhiskerOutliers()), (&#x27;imputer&#x27;, KNNImputer()),\n",
       "                (&#x27;scaler&#x27;, StandardScaler()), (&#x27;model&#x27;, LinearRegression())])</pre></div></div></div><div class=\"sk-serial\"><div class=\"sk-item\"><div class=\"sk-estimator sk-toggleable\"><input class=\"sk-toggleable__control sk-hidden--visually\" id=\"sk-estimator-id-8\" type=\"checkbox\" ><label for=\"sk-estimator-id-8\" class=\"sk-toggleable__label sk-toggleable__label-arrow\">WhiskerOutliers</label><div class=\"sk-toggleable__content\"><pre>WhiskerOutliers()</pre></div></div></div><div class=\"sk-item\"><div class=\"sk-estimator sk-toggleable\"><input class=\"sk-toggleable__control sk-hidden--visually\" id=\"sk-estimator-id-9\" type=\"checkbox\" ><label for=\"sk-estimator-id-9\" class=\"sk-toggleable__label sk-toggleable__label-arrow\">KNNImputer</label><div class=\"sk-toggleable__content\"><pre>KNNImputer()</pre></div></div></div><div class=\"sk-item\"><div class=\"sk-estimator sk-toggleable\"><input class=\"sk-toggleable__control sk-hidden--visually\" id=\"sk-estimator-id-10\" type=\"checkbox\" ><label for=\"sk-estimator-id-10\" class=\"sk-toggleable__label sk-toggleable__label-arrow\">StandardScaler</label><div class=\"sk-toggleable__content\"><pre>StandardScaler()</pre></div></div></div><div class=\"sk-item\"><div class=\"sk-estimator sk-toggleable\"><input class=\"sk-toggleable__control sk-hidden--visually\" id=\"sk-estimator-id-11\" type=\"checkbox\" ><label for=\"sk-estimator-id-11\" class=\"sk-toggleable__label sk-toggleable__label-arrow\">LinearRegression</label><div class=\"sk-toggleable__content\"><pre>LinearRegression()</pre></div></div></div></div></div></div></div>"
      ],
      "text/plain": [
       "Pipeline(steps=[('outliers', WhiskerOutliers()), ('imputer', KNNImputer()),\n",
       "                ('scaler', StandardScaler()), ('model', LinearRegression())])"
      ]
     },
     "execution_count": 65,
     "metadata": {},
     "output_type": "execute_result"
    }
   ],
   "source": [
    "pipe.fit(X=data[['A']], y=data.B)"
   ]
  },
  {
   "cell_type": "code",
   "execution_count": 66,
   "id": "728634f7",
   "metadata": {
    "ExecuteTime": {
     "end_time": "2024-01-01T23:08:07.443170Z",
     "start_time": "2024-01-01T23:08:07.430169Z"
    }
   },
   "outputs": [
    {
     "data": {
      "text/plain": [
       "array([25.7       , 26.08403891, 24.35533381, 25.55309344, 25.18778602,\n",
       "       26.46016828, 26.036424  , 26.20262267, 26.56299502, 25.28676541,\n",
       "       25.58077776, 26.49360983, 24.59778099, 24.31114373, 26.00322512,\n",
       "       25.06698992, 25.57820743, 25.54124531, 26.31499337, 25.65938679,\n",
       "       25.37404123, 27.10208337, 24.31929554, 25.25956643, 26.22348609,\n",
       "       27.34493953, 25.7       , 25.7       , 25.7       , 25.7       ])"
      ]
     },
     "execution_count": 66,
     "metadata": {},
     "output_type": "execute_result"
    }
   ],
   "source": [
    "pipe.predict(X=data[['A']])"
   ]
  },
  {
   "cell_type": "code",
   "execution_count": 67,
   "id": "1af375cc",
   "metadata": {
    "ExecuteTime": {
     "end_time": "2024-01-01T23:08:07.458745Z",
     "start_time": "2024-01-01T23:08:07.444176Z"
    }
   },
   "outputs": [],
   "source": [
    "data['predicted'] = pipe.predict(X=data[['A']])"
   ]
  },
  {
   "cell_type": "markdown",
   "id": "955624d5",
   "metadata": {},
   "source": [
    "removing the outliers and marking them with a new attribute:"
   ]
  },
  {
   "cell_type": "code",
   "execution_count": 68,
   "id": "44863684",
   "metadata": {
    "ExecuteTime": {
     "end_time": "2024-01-01T23:08:07.474230Z",
     "start_time": "2024-01-01T23:08:07.460753Z"
    }
   },
   "outputs": [],
   "source": [
    "pipe = Pipeline(\n",
    "    steps=[(\"outliers\", WhiskerOutliers(add_indicator=True)),\n",
    "           (\"imputer\", KNNImputer()),\n",
    "           (\"scaler\", StandardScaler()), \n",
    "           (\"model\", LinearRegression())]\n",
    ")"
   ]
  },
  {
   "cell_type": "code",
   "execution_count": 69,
   "id": "11405788",
   "metadata": {
    "ExecuteTime": {
     "end_time": "2024-01-01T23:08:07.505662Z",
     "start_time": "2024-01-01T23:08:07.475230Z"
    }
   },
   "outputs": [
    {
     "data": {
      "text/html": [
       "<style>#sk-container-id-8 {color: black;background-color: white;}#sk-container-id-8 pre{padding: 0;}#sk-container-id-8 div.sk-toggleable {background-color: white;}#sk-container-id-8 label.sk-toggleable__label {cursor: pointer;display: block;width: 100%;margin-bottom: 0;padding: 0.3em;box-sizing: border-box;text-align: center;}#sk-container-id-8 label.sk-toggleable__label-arrow:before {content: \"▸\";float: left;margin-right: 0.25em;color: #696969;}#sk-container-id-8 label.sk-toggleable__label-arrow:hover:before {color: black;}#sk-container-id-8 div.sk-estimator:hover label.sk-toggleable__label-arrow:before {color: black;}#sk-container-id-8 div.sk-toggleable__content {max-height: 0;max-width: 0;overflow: hidden;text-align: left;background-color: #f0f8ff;}#sk-container-id-8 div.sk-toggleable__content pre {margin: 0.2em;color: black;border-radius: 0.25em;background-color: #f0f8ff;}#sk-container-id-8 input.sk-toggleable__control:checked~div.sk-toggleable__content {max-height: 200px;max-width: 100%;overflow: auto;}#sk-container-id-8 input.sk-toggleable__control:checked~label.sk-toggleable__label-arrow:before {content: \"▾\";}#sk-container-id-8 div.sk-estimator input.sk-toggleable__control:checked~label.sk-toggleable__label {background-color: #d4ebff;}#sk-container-id-8 div.sk-label input.sk-toggleable__control:checked~label.sk-toggleable__label {background-color: #d4ebff;}#sk-container-id-8 input.sk-hidden--visually {border: 0;clip: rect(1px 1px 1px 1px);clip: rect(1px, 1px, 1px, 1px);height: 1px;margin: -1px;overflow: hidden;padding: 0;position: absolute;width: 1px;}#sk-container-id-8 div.sk-estimator {font-family: monospace;background-color: #f0f8ff;border: 1px dotted black;border-radius: 0.25em;box-sizing: border-box;margin-bottom: 0.5em;}#sk-container-id-8 div.sk-estimator:hover {background-color: #d4ebff;}#sk-container-id-8 div.sk-parallel-item::after {content: \"\";width: 100%;border-bottom: 1px solid gray;flex-grow: 1;}#sk-container-id-8 div.sk-label:hover label.sk-toggleable__label {background-color: #d4ebff;}#sk-container-id-8 div.sk-serial::before {content: \"\";position: absolute;border-left: 1px solid gray;box-sizing: border-box;top: 0;bottom: 0;left: 50%;z-index: 0;}#sk-container-id-8 div.sk-serial {display: flex;flex-direction: column;align-items: center;background-color: white;padding-right: 0.2em;padding-left: 0.2em;position: relative;}#sk-container-id-8 div.sk-item {position: relative;z-index: 1;}#sk-container-id-8 div.sk-parallel {display: flex;align-items: stretch;justify-content: center;background-color: white;position: relative;}#sk-container-id-8 div.sk-item::before, #sk-container-id-8 div.sk-parallel-item::before {content: \"\";position: absolute;border-left: 1px solid gray;box-sizing: border-box;top: 0;bottom: 0;left: 50%;z-index: -1;}#sk-container-id-8 div.sk-parallel-item {display: flex;flex-direction: column;z-index: 1;position: relative;background-color: white;}#sk-container-id-8 div.sk-parallel-item:first-child::after {align-self: flex-end;width: 50%;}#sk-container-id-8 div.sk-parallel-item:last-child::after {align-self: flex-start;width: 50%;}#sk-container-id-8 div.sk-parallel-item:only-child::after {width: 0;}#sk-container-id-8 div.sk-dashed-wrapped {border: 1px dashed gray;margin: 0 0.4em 0.5em 0.4em;box-sizing: border-box;padding-bottom: 0.4em;background-color: white;}#sk-container-id-8 div.sk-label label {font-family: monospace;font-weight: bold;display: inline-block;line-height: 1.2em;}#sk-container-id-8 div.sk-label-container {text-align: center;}#sk-container-id-8 div.sk-container {/* jupyter's `normalize.less` sets `[hidden] { display: none; }` but bootstrap.min.css set `[hidden] { display: none !important; }` so we also need the `!important` here to be able to override the default hidden behavior on the sphinx rendered scikit-learn.org. See: https://github.com/scikit-learn/scikit-learn/issues/21755 */display: inline-block !important;position: relative;}#sk-container-id-8 div.sk-text-repr-fallback {display: none;}</style><div id=\"sk-container-id-8\" class=\"sk-top-container\"><div class=\"sk-text-repr-fallback\"><pre>Pipeline(steps=[(&#x27;outliers&#x27;, WhiskerOutliers(add_indicator=True)),\n",
       "                (&#x27;imputer&#x27;, KNNImputer()), (&#x27;scaler&#x27;, StandardScaler()),\n",
       "                (&#x27;model&#x27;, LinearRegression())])</pre><b>In a Jupyter environment, please rerun this cell to show the HTML representation or trust the notebook. <br />On GitHub, the HTML representation is unable to render, please try loading this page with nbviewer.org.</b></div><div class=\"sk-container\" hidden><div class=\"sk-item sk-dashed-wrapped\"><div class=\"sk-label-container\"><div class=\"sk-label sk-toggleable\"><input class=\"sk-toggleable__control sk-hidden--visually\" id=\"sk-estimator-id-12\" type=\"checkbox\" ><label for=\"sk-estimator-id-12\" class=\"sk-toggleable__label sk-toggleable__label-arrow\">Pipeline</label><div class=\"sk-toggleable__content\"><pre>Pipeline(steps=[(&#x27;outliers&#x27;, WhiskerOutliers(add_indicator=True)),\n",
       "                (&#x27;imputer&#x27;, KNNImputer()), (&#x27;scaler&#x27;, StandardScaler()),\n",
       "                (&#x27;model&#x27;, LinearRegression())])</pre></div></div></div><div class=\"sk-serial\"><div class=\"sk-item\"><div class=\"sk-estimator sk-toggleable\"><input class=\"sk-toggleable__control sk-hidden--visually\" id=\"sk-estimator-id-13\" type=\"checkbox\" ><label for=\"sk-estimator-id-13\" class=\"sk-toggleable__label sk-toggleable__label-arrow\">WhiskerOutliers</label><div class=\"sk-toggleable__content\"><pre>WhiskerOutliers(add_indicator=True)</pre></div></div></div><div class=\"sk-item\"><div class=\"sk-estimator sk-toggleable\"><input class=\"sk-toggleable__control sk-hidden--visually\" id=\"sk-estimator-id-14\" type=\"checkbox\" ><label for=\"sk-estimator-id-14\" class=\"sk-toggleable__label sk-toggleable__label-arrow\">KNNImputer</label><div class=\"sk-toggleable__content\"><pre>KNNImputer()</pre></div></div></div><div class=\"sk-item\"><div class=\"sk-estimator sk-toggleable\"><input class=\"sk-toggleable__control sk-hidden--visually\" id=\"sk-estimator-id-15\" type=\"checkbox\" ><label for=\"sk-estimator-id-15\" class=\"sk-toggleable__label sk-toggleable__label-arrow\">StandardScaler</label><div class=\"sk-toggleable__content\"><pre>StandardScaler()</pre></div></div></div><div class=\"sk-item\"><div class=\"sk-estimator sk-toggleable\"><input class=\"sk-toggleable__control sk-hidden--visually\" id=\"sk-estimator-id-16\" type=\"checkbox\" ><label for=\"sk-estimator-id-16\" class=\"sk-toggleable__label sk-toggleable__label-arrow\">LinearRegression</label><div class=\"sk-toggleable__content\"><pre>LinearRegression()</pre></div></div></div></div></div></div></div>"
      ],
      "text/plain": [
       "Pipeline(steps=[('outliers', WhiskerOutliers(add_indicator=True)),\n",
       "                ('imputer', KNNImputer()), ('scaler', StandardScaler()),\n",
       "                ('model', LinearRegression())])"
      ]
     },
     "execution_count": 69,
     "metadata": {},
     "output_type": "execute_result"
    }
   ],
   "source": [
    "pipe.fit(X=data[['A']], y=data.B)"
   ]
  },
  {
   "cell_type": "code",
   "execution_count": 70,
   "id": "4d3bb86d",
   "metadata": {
    "ExecuteTime": {
     "end_time": "2024-01-01T23:08:07.521005Z",
     "start_time": "2024-01-01T23:08:07.506873Z"
    }
   },
   "outputs": [],
   "source": [
    "data['with_indicator'] = pipe.predict(X=data[['A']])"
   ]
  },
  {
   "cell_type": "code",
   "execution_count": 71,
   "id": "33d3735c",
   "metadata": {
    "ExecuteTime": {
     "end_time": "2024-01-01T23:08:07.676090Z",
     "start_time": "2024-01-01T23:08:07.523000Z"
    }
   },
   "outputs": [
    {
     "data": {
      "image/png": "[encoded data removed]",
      "text/plain": [
       "<Figure size 640x480 with 1 Axes>"
      ]
     },
     "metadata": {},
     "output_type": "display_data"
    }
   ],
   "source": [
    "sns.scatterplot(data.set_index(\"A\"))\n",
    "plt.show()"
   ]
  }
 ],
 "metadata": {
  "hide_input": false,
  "kernelspec": {
   "display_name": "Python 3 (ipykernel)",
   "language": "python",
   "name": "python3"
  },
  "language_info": {
   "codemirror_mode": {
    "name": "ipython",
    "version": 3
   },
   "file_extension": ".py",
   "mimetype": "text/x-python",
   "name": "python",
   "nbconvert_exporter": "python",
   "pygments_lexer": "ipython3",
   "version": "3.10.8"
  },
  "toc": {
   "base_numbering": 1,
   "nav_menu": {},
   "number_sections": true,
   "sideBar": true,
   "skip_h1_title": false,
   "title_cell": "Table of Contents",
   "title_sidebar": "Contents",
   "toc_cell": false,
   "toc_position": {},
   "toc_section_display": true,
   "toc_window_display": false
  },
  "varInspector": {
   "cols": {
    "lenName": 16,
    "lenType": 16,
    "lenVar": 40
   },
   "kernels_config": {
    "python": {
     "delete_cmd_postfix": "",
     "delete_cmd_prefix": "del ",
     "library": "var_list.py",
     "varRefreshCmd": "print(var_dic_list())"
    },
    "r": {
     "delete_cmd_postfix": ") ",
     "delete_cmd_prefix": "rm(",
     "library": "var_list.r",
     "varRefreshCmd": "cat(var_dic_list()) "
    }
   },
   "types_to_exclude": [
    "module",
    "function",
    "builtin_function_or_method",
    "instance",
    "_Feature"
   ],
   "window_display": false
  }
 },
 "nbformat": 4,
 "nbformat_minor": 5
}
