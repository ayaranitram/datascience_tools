{
 "cells": [
  {
   "cell_type": "markdown",
   "id": "6a8fdff6",
   "metadata": {},
   "source": [
    "# import"
   ]
  },
  {
   "cell_type": "code",
   "execution_count": 1,
   "id": "40423f75",
   "metadata": {
    "ExecuteTime": {
     "end_time": "2023-10-29T23:28:13.135227Z",
     "start_time": "2023-10-29T23:28:11.952351Z"
    }
   },
   "outputs": [],
   "source": [
    "from datascience_tools import WhiskerOutliers"
   ]
  },
  {
   "cell_type": "code",
   "execution_count": 2,
   "id": "d3d8eae5",
   "metadata": {
    "ExecuteTime": {
     "end_time": "2023-10-29T23:28:13.150382Z",
     "start_time": "2023-10-29T23:28:13.136227Z"
    }
   },
   "outputs": [],
   "source": [
    "import pandas as pd\n",
    "import numpy as np\n",
    "import seaborn as sns\n",
    "import matplotlib.pyplot as plt"
   ]
  },
  {
   "cell_type": "markdown",
   "id": "3fadde05",
   "metadata": {},
   "source": [
    "# reading synthetic data"
   ]
  },
  {
   "cell_type": "code",
   "execution_count": 3,
   "id": "16bf834d",
   "metadata": {
    "ExecuteTime": {
     "end_time": "2023-10-29T23:28:13.165634Z",
     "start_time": "2023-10-29T23:28:13.152377Z"
    }
   },
   "outputs": [],
   "source": [
    "data = pd.read_csv('./test/data/synthetic_data.csv')"
   ]
  },
  {
   "cell_type": "markdown",
   "id": "fd1f7189",
   "metadata": {},
   "source": [
    "## exploring the demo data\n",
    "The data used in this demo has been generated randomly following a gaussian distribution and then a few outlier values has been manually added."
   ]
  },
  {
   "cell_type": "code",
   "execution_count": 4,
   "id": "4eaf6deb",
   "metadata": {
    "ExecuteTime": {
     "end_time": "2023-10-29T23:28:13.196689Z",
     "start_time": "2023-10-29T23:28:13.172570Z"
    }
   },
   "outputs": [
    {
     "data": {
      "text/html": [
       "<div>\n",
       "<style scoped>\n",
       "    .dataframe tbody tr th:only-of-type {\n",
       "        vertical-align: middle;\n",
       "    }\n",
       "\n",
       "    .dataframe tbody tr th {\n",
       "        vertical-align: top;\n",
       "    }\n",
       "\n",
       "    .dataframe thead th {\n",
       "        text-align: right;\n",
       "    }\n",
       "</style>\n",
       "<table border=\"1\" class=\"dataframe\">\n",
       "  <thead>\n",
       "    <tr style=\"text-align: right;\">\n",
       "      <th></th>\n",
       "      <th>A</th>\n",
       "      <th>B</th>\n",
       "    </tr>\n",
       "  </thead>\n",
       "  <tbody>\n",
       "    <tr>\n",
       "      <th>count</th>\n",
       "      <td>30.000000</td>\n",
       "      <td>30.000000</td>\n",
       "    </tr>\n",
       "    <tr>\n",
       "      <th>mean</th>\n",
       "      <td>0.169563</td>\n",
       "      <td>25.700000</td>\n",
       "    </tr>\n",
       "    <tr>\n",
       "      <th>std</th>\n",
       "      <td>3.392163</td>\n",
       "      <td>19.145811</td>\n",
       "    </tr>\n",
       "    <tr>\n",
       "      <th>min</th>\n",
       "      <td>-8.178300</td>\n",
       "      <td>-25.000000</td>\n",
       "    </tr>\n",
       "    <tr>\n",
       "      <th>25%</th>\n",
       "      <td>-0.793515</td>\n",
       "      <td>18.500000</td>\n",
       "    </tr>\n",
       "    <tr>\n",
       "      <th>50%</th>\n",
       "      <td>-0.332636</td>\n",
       "      <td>25.000000</td>\n",
       "    </tr>\n",
       "    <tr>\n",
       "      <th>75%</th>\n",
       "      <td>0.561415</td>\n",
       "      <td>29.000000</td>\n",
       "    </tr>\n",
       "    <tr>\n",
       "      <th>max</th>\n",
       "      <td>9.579174</td>\n",
       "      <td>99.000000</td>\n",
       "    </tr>\n",
       "  </tbody>\n",
       "</table>\n",
       "</div>"
      ],
      "text/plain": [
       "               A          B\n",
       "count  30.000000  30.000000\n",
       "mean    0.169563  25.700000\n",
       "std     3.392163  19.145811\n",
       "min    -8.178300 -25.000000\n",
       "25%    -0.793515  18.500000\n",
       "50%    -0.332636  25.000000\n",
       "75%     0.561415  29.000000\n",
       "max     9.579174  99.000000"
      ]
     },
     "execution_count": 4,
     "metadata": {},
     "output_type": "execute_result"
    }
   ],
   "source": [
    "data.describe()"
   ]
  },
  {
   "cell_type": "code",
   "execution_count": 5,
   "id": "729cec2b",
   "metadata": {
    "ExecuteTime": {
     "end_time": "2023-10-29T23:28:13.211666Z",
     "start_time": "2023-10-29T23:28:13.197712Z"
    },
    "scrolled": true
   },
   "outputs": [
    {
     "data": {
      "text/html": [
       "<div>\n",
       "<style scoped>\n",
       "    .dataframe tbody tr th:only-of-type {\n",
       "        vertical-align: middle;\n",
       "    }\n",
       "\n",
       "    .dataframe tbody tr th {\n",
       "        vertical-align: top;\n",
       "    }\n",
       "\n",
       "    .dataframe thead th {\n",
       "        text-align: right;\n",
       "    }\n",
       "</style>\n",
       "<table border=\"1\" class=\"dataframe\">\n",
       "  <thead>\n",
       "    <tr style=\"text-align: right;\">\n",
       "      <th></th>\n",
       "      <th>A</th>\n",
       "      <th>B</th>\n",
       "    </tr>\n",
       "  </thead>\n",
       "  <tbody>\n",
       "    <tr>\n",
       "      <th>0</th>\n",
       "      <td>-5.751340</td>\n",
       "      <td>18</td>\n",
       "    </tr>\n",
       "    <tr>\n",
       "      <th>1</th>\n",
       "      <td>0.183419</td>\n",
       "      <td>34</td>\n",
       "    </tr>\n",
       "    <tr>\n",
       "      <th>2</th>\n",
       "      <td>-1.739405</td>\n",
       "      <td>23</td>\n",
       "    </tr>\n",
       "    <tr>\n",
       "      <th>3</th>\n",
       "      <td>-0.407147</td>\n",
       "      <td>12</td>\n",
       "    </tr>\n",
       "    <tr>\n",
       "      <th>4</th>\n",
       "      <td>-0.813476</td>\n",
       "      <td>29</td>\n",
       "    </tr>\n",
       "    <tr>\n",
       "      <th>5</th>\n",
       "      <td>0.601784</td>\n",
       "      <td>25</td>\n",
       "    </tr>\n",
       "    <tr>\n",
       "      <th>6</th>\n",
       "      <td>0.130457</td>\n",
       "      <td>21</td>\n",
       "    </tr>\n",
       "    <tr>\n",
       "      <th>7</th>\n",
       "      <td>0.315318</td>\n",
       "      <td>3</td>\n",
       "    </tr>\n",
       "    <tr>\n",
       "      <th>8</th>\n",
       "      <td>0.716157</td>\n",
       "      <td>29</td>\n",
       "    </tr>\n",
       "    <tr>\n",
       "      <th>9</th>\n",
       "      <td>-0.703382</td>\n",
       "      <td>24</td>\n",
       "    </tr>\n",
       "    <tr>\n",
       "      <th>10</th>\n",
       "      <td>-0.376354</td>\n",
       "      <td>32</td>\n",
       "    </tr>\n",
       "    <tr>\n",
       "      <th>11</th>\n",
       "      <td>0.638981</td>\n",
       "      <td>41</td>\n",
       "    </tr>\n",
       "    <tr>\n",
       "      <th>12</th>\n",
       "      <td>-1.469733</td>\n",
       "      <td>17</td>\n",
       "    </tr>\n",
       "    <tr>\n",
       "      <th>13</th>\n",
       "      <td>-1.788557</td>\n",
       "      <td>23</td>\n",
       "    </tr>\n",
       "    <tr>\n",
       "      <th>14</th>\n",
       "      <td>0.093530</td>\n",
       "      <td>27</td>\n",
       "    </tr>\n",
       "    <tr>\n",
       "      <th>15</th>\n",
       "      <td>-0.947836</td>\n",
       "      <td>30</td>\n",
       "    </tr>\n",
       "    <tr>\n",
       "      <th>16</th>\n",
       "      <td>-0.379213</td>\n",
       "      <td>56</td>\n",
       "    </tr>\n",
       "    <tr>\n",
       "      <th>17</th>\n",
       "      <td>-0.420326</td>\n",
       "      <td>25</td>\n",
       "    </tr>\n",
       "    <tr>\n",
       "      <th>18</th>\n",
       "      <td>0.440307</td>\n",
       "      <td>14</td>\n",
       "    </tr>\n",
       "    <tr>\n",
       "      <th>19</th>\n",
       "      <td>-0.288918</td>\n",
       "      <td>31</td>\n",
       "    </tr>\n",
       "    <tr>\n",
       "      <th>20</th>\n",
       "      <td>-0.606306</td>\n",
       "      <td>20</td>\n",
       "    </tr>\n",
       "    <tr>\n",
       "      <th>21</th>\n",
       "      <td>1.315781</td>\n",
       "      <td>27</td>\n",
       "    </tr>\n",
       "    <tr>\n",
       "      <th>22</th>\n",
       "      <td>-1.779490</td>\n",
       "      <td>29</td>\n",
       "    </tr>\n",
       "    <tr>\n",
       "      <th>23</th>\n",
       "      <td>-0.733635</td>\n",
       "      <td>11</td>\n",
       "    </tr>\n",
       "    <tr>\n",
       "      <th>24</th>\n",
       "      <td>0.338525</td>\n",
       "      <td>25</td>\n",
       "    </tr>\n",
       "    <tr>\n",
       "      <th>25</th>\n",
       "      <td>1.585907</td>\n",
       "      <td>27</td>\n",
       "    </tr>\n",
       "    <tr>\n",
       "      <th>26</th>\n",
       "      <td>9.579174</td>\n",
       "      <td>27</td>\n",
       "    </tr>\n",
       "    <tr>\n",
       "      <th>27</th>\n",
       "      <td>8.476100</td>\n",
       "      <td>17</td>\n",
       "    </tr>\n",
       "    <tr>\n",
       "      <th>28</th>\n",
       "      <td>7.054872</td>\n",
       "      <td>99</td>\n",
       "    </tr>\n",
       "    <tr>\n",
       "      <th>29</th>\n",
       "      <td>-8.178300</td>\n",
       "      <td>-25</td>\n",
       "    </tr>\n",
       "  </tbody>\n",
       "</table>\n",
       "</div>"
      ],
      "text/plain": [
       "           A   B\n",
       "0  -5.751340  18\n",
       "1   0.183419  34\n",
       "2  -1.739405  23\n",
       "3  -0.407147  12\n",
       "4  -0.813476  29\n",
       "5   0.601784  25\n",
       "6   0.130457  21\n",
       "7   0.315318   3\n",
       "8   0.716157  29\n",
       "9  -0.703382  24\n",
       "10 -0.376354  32\n",
       "11  0.638981  41\n",
       "12 -1.469733  17\n",
       "13 -1.788557  23\n",
       "14  0.093530  27\n",
       "15 -0.947836  30\n",
       "16 -0.379213  56\n",
       "17 -0.420326  25\n",
       "18  0.440307  14\n",
       "19 -0.288918  31\n",
       "20 -0.606306  20\n",
       "21  1.315781  27\n",
       "22 -1.779490  29\n",
       "23 -0.733635  11\n",
       "24  0.338525  25\n",
       "25  1.585907  27\n",
       "26  9.579174  27\n",
       "27  8.476100  17\n",
       "28  7.054872  99\n",
       "29 -8.178300 -25"
      ]
     },
     "execution_count": 5,
     "metadata": {},
     "output_type": "execute_result"
    }
   ],
   "source": [
    "data"
   ]
  },
  {
   "cell_type": "markdown",
   "id": "b89b80df",
   "metadata": {},
   "source": [
    "## Visualizing the data\n",
    "The boxplots below illustrate the oultier values that is intended to be eliminated from the data:"
   ]
  },
  {
   "cell_type": "code",
   "execution_count": 6,
   "id": "947ac226",
   "metadata": {
    "ExecuteTime": {
     "end_time": "2023-10-29T23:28:13.320987Z",
     "start_time": "2023-10-29T23:28:13.212665Z"
    }
   },
   "outputs": [
    {
     "data": {
      "image/png": "[encoded data removed]",
      "text/plain": [
       "<Figure size 1000x100 with 1 Axes>"
      ]
     },
     "metadata": {},
     "output_type": "display_data"
    }
   ],
   "source": [
    "data.boxplot('A', figsize=(10, 1), vert=False)\n",
    "plt.show()"
   ]
  },
  {
   "cell_type": "code",
   "execution_count": 7,
   "id": "7277e8fd",
   "metadata": {
    "ExecuteTime": {
     "end_time": "2023-10-29T23:28:13.397441Z",
     "start_time": "2023-10-29T23:28:13.322953Z"
    }
   },
   "outputs": [
    {
     "data": {
      "image/png": "[encoded data removed]",
      "text/plain": [
       "<Figure size 1000x100 with 1 Axes>"
      ]
     },
     "metadata": {},
     "output_type": "display_data"
    }
   ],
   "source": [
    "data.boxplot('B', figsize=(10, 1), vert=False)\n",
    "plt.show()"
   ]
  },
  {
   "cell_type": "markdown",
   "id": "58aa5ec0",
   "metadata": {},
   "source": [
    "# WhiskerOutliers instance\n",
    "## Parameters:\n",
    "Only two parameters for these instances:\n",
    "### threshold\n",
    "- `float` or `int`\n",
    "- default=`3.0`\n",
    "- indicate the lenght of the whisker, values below or above the whisker will be considered outliers.\n",
    "### add_indicator\n",
    "- `bool`\n",
    "- default=`False`\n",
    "- if set to `True` new column(s) will be append indicating:\n",
    "    - **-1** for outliers < the minimum whisker, \n",
    "    - **1** for outliers > the maximum whisker,\n",
    "    - **0** for not outliers"
   ]
  },
  {
   "cell_type": "markdown",
   "id": "0446e5f2",
   "metadata": {},
   "source": [
    "## Attribuites\n",
    "- **threshold**: the threshold, in terms of _inter-quantile range_, used to identifity the outliers.\n",
    "- **indicator**: `True` or `False` as requested by the used to return or not new column(s) indicating the outlier values.\n",
    "- **min_**: The minimum value that is not considered outlier.\n",
    "- **max_**: The maximum value that is not considered outlier."
   ]
  },
  {
   "cell_type": "code",
   "execution_count": 8,
   "id": "63afcbe0",
   "metadata": {
    "ExecuteTime": {
     "end_time": "2023-10-29T23:28:13.412632Z",
     "start_time": "2023-10-29T23:28:13.398460Z"
    }
   },
   "outputs": [],
   "source": [
    "wo = WhiskerOutliers()"
   ]
  },
  {
   "cell_type": "markdown",
   "id": "c8d5d500",
   "metadata": {},
   "source": [
    "## Methods\n",
    "### fit(X, [y])\n",
    "Fit the instance on `X`\n",
    "- `X`: pandas Series, DataFrame or array-like (like numpy array).\n",
    "- `y`: ignored, accepted for convention and compatibility.\n",
    "  \n",
    "To calculate and retain in the instance the minimum and maximum values, according the _iqr_ and input `threshold`, that identify the outliers.  \n",
    "\n",
    "How are the _iqr_, _minimum_ and _maximum_ calculated?\n",
    "- The _iqr_ is calculated as the absolute difference between the 3rd quartile and the 1st quartile of the input data `X`.\n",
    "- The _minimum_ is the 1st quartile (quantile 0.25) minus `threshold` times the _iqr_\n",
    "- The _maximum_ is the 3rd quartile (quantile 0.75) plus `threshold` times the _iqr_"
   ]
  },
  {
   "cell_type": "code",
   "execution_count": 9,
   "id": "104863c6",
   "metadata": {
    "ExecuteTime": {
     "end_time": "2023-10-29T23:28:13.444590Z",
     "start_time": "2023-10-29T23:28:13.421604Z"
    }
   },
   "outputs": [
    {
     "data": {
      "text/html": [
       "<style>#sk-container-id-1 {color: black;background-color: white;}#sk-container-id-1 pre{padding: 0;}#sk-container-id-1 div.sk-toggleable {background-color: white;}#sk-container-id-1 label.sk-toggleable__label {cursor: pointer;display: block;width: 100%;margin-bottom: 0;padding: 0.3em;box-sizing: border-box;text-align: center;}#sk-container-id-1 label.sk-toggleable__label-arrow:before {content: \"▸\";float: left;margin-right: 0.25em;color: #696969;}#sk-container-id-1 label.sk-toggleable__label-arrow:hover:before {color: black;}#sk-container-id-1 div.sk-estimator:hover label.sk-toggleable__label-arrow:before {color: black;}#sk-container-id-1 div.sk-toggleable__content {max-height: 0;max-width: 0;overflow: hidden;text-align: left;background-color: #f0f8ff;}#sk-container-id-1 div.sk-toggleable__content pre {margin: 0.2em;color: black;border-radius: 0.25em;background-color: #f0f8ff;}#sk-container-id-1 input.sk-toggleable__control:checked~div.sk-toggleable__content {max-height: 200px;max-width: 100%;overflow: auto;}#sk-container-id-1 input.sk-toggleable__control:checked~label.sk-toggleable__label-arrow:before {content: \"▾\";}#sk-container-id-1 div.sk-estimator input.sk-toggleable__control:checked~label.sk-toggleable__label {background-color: #d4ebff;}#sk-container-id-1 div.sk-label input.sk-toggleable__control:checked~label.sk-toggleable__label {background-color: #d4ebff;}#sk-container-id-1 input.sk-hidden--visually {border: 0;clip: rect(1px 1px 1px 1px);clip: rect(1px, 1px, 1px, 1px);height: 1px;margin: -1px;overflow: hidden;padding: 0;position: absolute;width: 1px;}#sk-container-id-1 div.sk-estimator {font-family: monospace;background-color: #f0f8ff;border: 1px dotted black;border-radius: 0.25em;box-sizing: border-box;margin-bottom: 0.5em;}#sk-container-id-1 div.sk-estimator:hover {background-color: #d4ebff;}#sk-container-id-1 div.sk-parallel-item::after {content: \"\";width: 100%;border-bottom: 1px solid gray;flex-grow: 1;}#sk-container-id-1 div.sk-label:hover label.sk-toggleable__label {background-color: #d4ebff;}#sk-container-id-1 div.sk-serial::before {content: \"\";position: absolute;border-left: 1px solid gray;box-sizing: border-box;top: 0;bottom: 0;left: 50%;z-index: 0;}#sk-container-id-1 div.sk-serial {display: flex;flex-direction: column;align-items: center;background-color: white;padding-right: 0.2em;padding-left: 0.2em;position: relative;}#sk-container-id-1 div.sk-item {position: relative;z-index: 1;}#sk-container-id-1 div.sk-parallel {display: flex;align-items: stretch;justify-content: center;background-color: white;position: relative;}#sk-container-id-1 div.sk-item::before, #sk-container-id-1 div.sk-parallel-item::before {content: \"\";position: absolute;border-left: 1px solid gray;box-sizing: border-box;top: 0;bottom: 0;left: 50%;z-index: -1;}#sk-container-id-1 div.sk-parallel-item {display: flex;flex-direction: column;z-index: 1;position: relative;background-color: white;}#sk-container-id-1 div.sk-parallel-item:first-child::after {align-self: flex-end;width: 50%;}#sk-container-id-1 div.sk-parallel-item:last-child::after {align-self: flex-start;width: 50%;}#sk-container-id-1 div.sk-parallel-item:only-child::after {width: 0;}#sk-container-id-1 div.sk-dashed-wrapped {border: 1px dashed gray;margin: 0 0.4em 0.5em 0.4em;box-sizing: border-box;padding-bottom: 0.4em;background-color: white;}#sk-container-id-1 div.sk-label label {font-family: monospace;font-weight: bold;display: inline-block;line-height: 1.2em;}#sk-container-id-1 div.sk-label-container {text-align: center;}#sk-container-id-1 div.sk-container {/* jupyter's `normalize.less` sets `[hidden] { display: none; }` but bootstrap.min.css set `[hidden] { display: none !important; }` so we also need the `!important` here to be able to override the default hidden behavior on the sphinx rendered scikit-learn.org. See: https://github.com/scikit-learn/scikit-learn/issues/21755 */display: inline-block !important;position: relative;}#sk-container-id-1 div.sk-text-repr-fallback {display: none;}</style><div id=\"sk-container-id-1\" class=\"sk-top-container\"><div class=\"sk-text-repr-fallback\"><pre>WhiskerOutliers()</pre><b>In a Jupyter environment, please rerun this cell to show the HTML representation or trust the notebook. <br />On GitHub, the HTML representation is unable to render, please try loading this page with nbviewer.org.</b></div><div class=\"sk-container\" hidden><div class=\"sk-item\"><div class=\"sk-estimator sk-toggleable\"><input class=\"sk-toggleable__control sk-hidden--visually\" id=\"sk-estimator-id-1\" type=\"checkbox\" checked><label for=\"sk-estimator-id-1\" class=\"sk-toggleable__label sk-toggleable__label-arrow\">WhiskerOutliers</label><div class=\"sk-toggleable__content\"><pre>WhiskerOutliers()</pre></div></div></div></div></div>"
      ],
      "text/plain": [
       "WhiskerOutliers()"
      ]
     },
     "execution_count": 9,
     "metadata": {},
     "output_type": "execute_result"
    }
   ],
   "source": [
    "wo.fit(data)"
   ]
  },
  {
   "cell_type": "markdown",
   "id": "f161a12a",
   "metadata": {},
   "source": [
    "### transform(X, [y])\n",
    "Transform the dataset `X`, replacing by `nunpy.nan` the outlier values, according to the limits defined by the `.fit` method."
   ]
  },
  {
   "cell_type": "code",
   "execution_count": 10,
   "id": "970ffbcb",
   "metadata": {
    "ExecuteTime": {
     "end_time": "2023-10-29T23:28:13.459603Z",
     "start_time": "2023-10-29T23:28:13.450535Z"
    }
   },
   "outputs": [],
   "source": [
    "transformed = wo.transform(data)"
   ]
  },
  {
   "cell_type": "code",
   "execution_count": 11,
   "id": "6c3d057f",
   "metadata": {
    "ExecuteTime": {
     "end_time": "2023-10-29T23:28:13.537394Z",
     "start_time": "2023-10-29T23:28:13.461571Z"
    }
   },
   "outputs": [
    {
     "data": {
      "image/png": "[encoded data removed]",
      "text/plain": [
       "<Figure size 1000x100 with 1 Axes>"
      ]
     },
     "metadata": {},
     "output_type": "display_data"
    }
   ],
   "source": [
    "transformed.boxplot('A', figsize=(10, 1), vert=False)\n",
    "plt.show()"
   ]
  },
  {
   "cell_type": "code",
   "execution_count": 12,
   "id": "d9f3c019",
   "metadata": {
    "ExecuteTime": {
     "end_time": "2023-10-29T23:28:13.615764Z",
     "start_time": "2023-10-29T23:28:13.538395Z"
    },
    "scrolled": true
   },
   "outputs": [
    {
     "data": {
      "image/png": "[encoded data removed]",
      "text/plain": [
       "<Figure size 1000x100 with 1 Axes>"
      ]
     },
     "metadata": {},
     "output_type": "display_data"
    }
   ],
   "source": [
    "transformed.boxplot('B', figsize=(10, 1), vert=False)\n",
    "plt.show()"
   ]
  },
  {
   "cell_type": "markdown",
   "id": "6b775695",
   "metadata": {},
   "source": [
    "## `fit` and `transform` with non-default parameters\n",
    "In this example the `threshold`and `add_indicator` parameters has been changed from their default values:"
   ]
  },
  {
   "cell_type": "code",
   "execution_count": 13,
   "id": "ffc3d14e",
   "metadata": {
    "ExecuteTime": {
     "end_time": "2023-10-29T23:28:13.631395Z",
     "start_time": "2023-10-29T23:28:13.616810Z"
    }
   },
   "outputs": [],
   "source": [
    "wo = WhiskerOutliers(threshold=1.5, add_indicator=True)"
   ]
  },
  {
   "cell_type": "code",
   "execution_count": 14,
   "id": "31e7c82d",
   "metadata": {
    "ExecuteTime": {
     "end_time": "2023-10-29T23:28:13.662057Z",
     "start_time": "2023-10-29T23:28:13.639339Z"
    }
   },
   "outputs": [
    {
     "data": {
      "text/html": [
       "<style>#sk-container-id-2 {color: black;background-color: white;}#sk-container-id-2 pre{padding: 0;}#sk-container-id-2 div.sk-toggleable {background-color: white;}#sk-container-id-2 label.sk-toggleable__label {cursor: pointer;display: block;width: 100%;margin-bottom: 0;padding: 0.3em;box-sizing: border-box;text-align: center;}#sk-container-id-2 label.sk-toggleable__label-arrow:before {content: \"▸\";float: left;margin-right: 0.25em;color: #696969;}#sk-container-id-2 label.sk-toggleable__label-arrow:hover:before {color: black;}#sk-container-id-2 div.sk-estimator:hover label.sk-toggleable__label-arrow:before {color: black;}#sk-container-id-2 div.sk-toggleable__content {max-height: 0;max-width: 0;overflow: hidden;text-align: left;background-color: #f0f8ff;}#sk-container-id-2 div.sk-toggleable__content pre {margin: 0.2em;color: black;border-radius: 0.25em;background-color: #f0f8ff;}#sk-container-id-2 input.sk-toggleable__control:checked~div.sk-toggleable__content {max-height: 200px;max-width: 100%;overflow: auto;}#sk-container-id-2 input.sk-toggleable__control:checked~label.sk-toggleable__label-arrow:before {content: \"▾\";}#sk-container-id-2 div.sk-estimator input.sk-toggleable__control:checked~label.sk-toggleable__label {background-color: #d4ebff;}#sk-container-id-2 div.sk-label input.sk-toggleable__control:checked~label.sk-toggleable__label {background-color: #d4ebff;}#sk-container-id-2 input.sk-hidden--visually {border: 0;clip: rect(1px 1px 1px 1px);clip: rect(1px, 1px, 1px, 1px);height: 1px;margin: -1px;overflow: hidden;padding: 0;position: absolute;width: 1px;}#sk-container-id-2 div.sk-estimator {font-family: monospace;background-color: #f0f8ff;border: 1px dotted black;border-radius: 0.25em;box-sizing: border-box;margin-bottom: 0.5em;}#sk-container-id-2 div.sk-estimator:hover {background-color: #d4ebff;}#sk-container-id-2 div.sk-parallel-item::after {content: \"\";width: 100%;border-bottom: 1px solid gray;flex-grow: 1;}#sk-container-id-2 div.sk-label:hover label.sk-toggleable__label {background-color: #d4ebff;}#sk-container-id-2 div.sk-serial::before {content: \"\";position: absolute;border-left: 1px solid gray;box-sizing: border-box;top: 0;bottom: 0;left: 50%;z-index: 0;}#sk-container-id-2 div.sk-serial {display: flex;flex-direction: column;align-items: center;background-color: white;padding-right: 0.2em;padding-left: 0.2em;position: relative;}#sk-container-id-2 div.sk-item {position: relative;z-index: 1;}#sk-container-id-2 div.sk-parallel {display: flex;align-items: stretch;justify-content: center;background-color: white;position: relative;}#sk-container-id-2 div.sk-item::before, #sk-container-id-2 div.sk-parallel-item::before {content: \"\";position: absolute;border-left: 1px solid gray;box-sizing: border-box;top: 0;bottom: 0;left: 50%;z-index: -1;}#sk-container-id-2 div.sk-parallel-item {display: flex;flex-direction: column;z-index: 1;position: relative;background-color: white;}#sk-container-id-2 div.sk-parallel-item:first-child::after {align-self: flex-end;width: 50%;}#sk-container-id-2 div.sk-parallel-item:last-child::after {align-self: flex-start;width: 50%;}#sk-container-id-2 div.sk-parallel-item:only-child::after {width: 0;}#sk-container-id-2 div.sk-dashed-wrapped {border: 1px dashed gray;margin: 0 0.4em 0.5em 0.4em;box-sizing: border-box;padding-bottom: 0.4em;background-color: white;}#sk-container-id-2 div.sk-label label {font-family: monospace;font-weight: bold;display: inline-block;line-height: 1.2em;}#sk-container-id-2 div.sk-label-container {text-align: center;}#sk-container-id-2 div.sk-container {/* jupyter's `normalize.less` sets `[hidden] { display: none; }` but bootstrap.min.css set `[hidden] { display: none !important; }` so we also need the `!important` here to be able to override the default hidden behavior on the sphinx rendered scikit-learn.org. See: https://github.com/scikit-learn/scikit-learn/issues/21755 */display: inline-block !important;position: relative;}#sk-container-id-2 div.sk-text-repr-fallback {display: none;}</style><div id=\"sk-container-id-2\" class=\"sk-top-container\"><div class=\"sk-text-repr-fallback\"><pre>WhiskerOutliers(add_indicator=True, threshold=1.5)</pre><b>In a Jupyter environment, please rerun this cell to show the HTML representation or trust the notebook. <br />On GitHub, the HTML representation is unable to render, please try loading this page with nbviewer.org.</b></div><div class=\"sk-container\" hidden><div class=\"sk-item\"><div class=\"sk-estimator sk-toggleable\"><input class=\"sk-toggleable__control sk-hidden--visually\" id=\"sk-estimator-id-2\" type=\"checkbox\" checked><label for=\"sk-estimator-id-2\" class=\"sk-toggleable__label sk-toggleable__label-arrow\">WhiskerOutliers</label><div class=\"sk-toggleable__content\"><pre>WhiskerOutliers(add_indicator=True, threshold=1.5)</pre></div></div></div></div></div>"
      ],
      "text/plain": [
       "WhiskerOutliers(add_indicator=True, threshold=1.5)"
      ]
     },
     "execution_count": 14,
     "metadata": {},
     "output_type": "execute_result"
    }
   ],
   "source": [
    "wo.fit(data)"
   ]
  },
  {
   "cell_type": "code",
   "execution_count": 15,
   "id": "7b11c2ce",
   "metadata": {
    "ExecuteTime": {
     "end_time": "2023-10-29T23:28:13.693819Z",
     "start_time": "2023-10-29T23:28:13.667011Z"
    }
   },
   "outputs": [],
   "source": [
    "transformed = wo.transform(data)"
   ]
  },
  {
   "cell_type": "code",
   "execution_count": 16,
   "id": "2f193266",
   "metadata": {
    "ExecuteTime": {
     "end_time": "2023-10-29T23:28:13.770392Z",
     "start_time": "2023-10-29T23:28:13.694860Z"
    }
   },
   "outputs": [
    {
     "data": {
      "image/png": "[encoded data removed]",
      "text/plain": [
       "<Figure size 1000x100 with 1 Axes>"
      ]
     },
     "metadata": {},
     "output_type": "display_data"
    }
   ],
   "source": [
    "transformed.boxplot('A', figsize=(10, 1), vert=False)\n",
    "plt.show()"
   ]
  },
  {
   "cell_type": "code",
   "execution_count": 17,
   "id": "ebdae10a",
   "metadata": {
    "ExecuteTime": {
     "end_time": "2023-10-29T23:28:13.847830Z",
     "start_time": "2023-10-29T23:28:13.770975Z"
    },
    "scrolled": true
   },
   "outputs": [
    {
     "data": {
      "image/png": "[encoded data removed]",
      "text/plain": [
       "<Figure size 1000x100 with 1 Axes>"
      ]
     },
     "metadata": {},
     "output_type": "display_data"
    }
   ],
   "source": [
    "transformed.boxplot('B', figsize=(10, 1), vert=False)\n",
    "plt.show()"
   ]
  },
  {
   "cell_type": "markdown",
   "id": "f63ad6ce",
   "metadata": {},
   "source": [
    "With the paramenter **`add_indicator`=True** new column(s) with the suffix *_outlier* is(are) appended to the transformed dataset:"
   ]
  },
  {
   "cell_type": "code",
   "execution_count": 18,
   "id": "1f196435",
   "metadata": {
    "ExecuteTime": {
     "end_time": "2023-10-29T23:28:13.863326Z",
     "start_time": "2023-10-29T23:28:13.848800Z"
    }
   },
   "outputs": [
    {
     "data": {
      "text/html": [
       "<div>\n",
       "<style scoped>\n",
       "    .dataframe tbody tr th:only-of-type {\n",
       "        vertical-align: middle;\n",
       "    }\n",
       "\n",
       "    .dataframe tbody tr th {\n",
       "        vertical-align: top;\n",
       "    }\n",
       "\n",
       "    .dataframe thead th {\n",
       "        text-align: right;\n",
       "    }\n",
       "</style>\n",
       "<table border=\"1\" class=\"dataframe\">\n",
       "  <thead>\n",
       "    <tr style=\"text-align: right;\">\n",
       "      <th></th>\n",
       "      <th>A</th>\n",
       "      <th>B</th>\n",
       "      <th>A_outlier</th>\n",
       "      <th>B_outlier</th>\n",
       "    </tr>\n",
       "  </thead>\n",
       "  <tbody>\n",
       "    <tr>\n",
       "      <th>0</th>\n",
       "      <td>NaN</td>\n",
       "      <td>18.0</td>\n",
       "      <td>-1</td>\n",
       "      <td>0</td>\n",
       "    </tr>\n",
       "    <tr>\n",
       "      <th>1</th>\n",
       "      <td>0.183419</td>\n",
       "      <td>34.0</td>\n",
       "      <td>0</td>\n",
       "      <td>0</td>\n",
       "    </tr>\n",
       "    <tr>\n",
       "      <th>2</th>\n",
       "      <td>-1.739405</td>\n",
       "      <td>23.0</td>\n",
       "      <td>0</td>\n",
       "      <td>0</td>\n",
       "    </tr>\n",
       "    <tr>\n",
       "      <th>3</th>\n",
       "      <td>-0.407147</td>\n",
       "      <td>12.0</td>\n",
       "      <td>0</td>\n",
       "      <td>0</td>\n",
       "    </tr>\n",
       "    <tr>\n",
       "      <th>4</th>\n",
       "      <td>-0.813476</td>\n",
       "      <td>29.0</td>\n",
       "      <td>0</td>\n",
       "      <td>0</td>\n",
       "    </tr>\n",
       "    <tr>\n",
       "      <th>5</th>\n",
       "      <td>0.601784</td>\n",
       "      <td>25.0</td>\n",
       "      <td>0</td>\n",
       "      <td>0</td>\n",
       "    </tr>\n",
       "    <tr>\n",
       "      <th>6</th>\n",
       "      <td>0.130457</td>\n",
       "      <td>21.0</td>\n",
       "      <td>0</td>\n",
       "      <td>0</td>\n",
       "    </tr>\n",
       "    <tr>\n",
       "      <th>7</th>\n",
       "      <td>0.315318</td>\n",
       "      <td>3.0</td>\n",
       "      <td>0</td>\n",
       "      <td>0</td>\n",
       "    </tr>\n",
       "    <tr>\n",
       "      <th>8</th>\n",
       "      <td>0.716157</td>\n",
       "      <td>29.0</td>\n",
       "      <td>0</td>\n",
       "      <td>0</td>\n",
       "    </tr>\n",
       "    <tr>\n",
       "      <th>9</th>\n",
       "      <td>-0.703382</td>\n",
       "      <td>24.0</td>\n",
       "      <td>0</td>\n",
       "      <td>0</td>\n",
       "    </tr>\n",
       "    <tr>\n",
       "      <th>10</th>\n",
       "      <td>-0.376354</td>\n",
       "      <td>32.0</td>\n",
       "      <td>0</td>\n",
       "      <td>0</td>\n",
       "    </tr>\n",
       "    <tr>\n",
       "      <th>11</th>\n",
       "      <td>0.638981</td>\n",
       "      <td>41.0</td>\n",
       "      <td>0</td>\n",
       "      <td>0</td>\n",
       "    </tr>\n",
       "    <tr>\n",
       "      <th>12</th>\n",
       "      <td>-1.469733</td>\n",
       "      <td>17.0</td>\n",
       "      <td>0</td>\n",
       "      <td>0</td>\n",
       "    </tr>\n",
       "    <tr>\n",
       "      <th>13</th>\n",
       "      <td>-1.788557</td>\n",
       "      <td>23.0</td>\n",
       "      <td>0</td>\n",
       "      <td>0</td>\n",
       "    </tr>\n",
       "    <tr>\n",
       "      <th>14</th>\n",
       "      <td>0.093530</td>\n",
       "      <td>27.0</td>\n",
       "      <td>0</td>\n",
       "      <td>0</td>\n",
       "    </tr>\n",
       "    <tr>\n",
       "      <th>15</th>\n",
       "      <td>-0.947836</td>\n",
       "      <td>30.0</td>\n",
       "      <td>0</td>\n",
       "      <td>0</td>\n",
       "    </tr>\n",
       "    <tr>\n",
       "      <th>16</th>\n",
       "      <td>-0.379213</td>\n",
       "      <td>NaN</td>\n",
       "      <td>0</td>\n",
       "      <td>1</td>\n",
       "    </tr>\n",
       "    <tr>\n",
       "      <th>17</th>\n",
       "      <td>-0.420326</td>\n",
       "      <td>25.0</td>\n",
       "      <td>0</td>\n",
       "      <td>0</td>\n",
       "    </tr>\n",
       "    <tr>\n",
       "      <th>18</th>\n",
       "      <td>0.440307</td>\n",
       "      <td>14.0</td>\n",
       "      <td>0</td>\n",
       "      <td>0</td>\n",
       "    </tr>\n",
       "    <tr>\n",
       "      <th>19</th>\n",
       "      <td>-0.288918</td>\n",
       "      <td>31.0</td>\n",
       "      <td>0</td>\n",
       "      <td>0</td>\n",
       "    </tr>\n",
       "    <tr>\n",
       "      <th>20</th>\n",
       "      <td>-0.606306</td>\n",
       "      <td>20.0</td>\n",
       "      <td>0</td>\n",
       "      <td>0</td>\n",
       "    </tr>\n",
       "    <tr>\n",
       "      <th>21</th>\n",
       "      <td>1.315781</td>\n",
       "      <td>27.0</td>\n",
       "      <td>0</td>\n",
       "      <td>0</td>\n",
       "    </tr>\n",
       "    <tr>\n",
       "      <th>22</th>\n",
       "      <td>-1.779490</td>\n",
       "      <td>29.0</td>\n",
       "      <td>0</td>\n",
       "      <td>0</td>\n",
       "    </tr>\n",
       "    <tr>\n",
       "      <th>23</th>\n",
       "      <td>-0.733635</td>\n",
       "      <td>11.0</td>\n",
       "      <td>0</td>\n",
       "      <td>0</td>\n",
       "    </tr>\n",
       "    <tr>\n",
       "      <th>24</th>\n",
       "      <td>0.338525</td>\n",
       "      <td>25.0</td>\n",
       "      <td>0</td>\n",
       "      <td>0</td>\n",
       "    </tr>\n",
       "    <tr>\n",
       "      <th>25</th>\n",
       "      <td>1.585907</td>\n",
       "      <td>27.0</td>\n",
       "      <td>0</td>\n",
       "      <td>0</td>\n",
       "    </tr>\n",
       "    <tr>\n",
       "      <th>26</th>\n",
       "      <td>NaN</td>\n",
       "      <td>27.0</td>\n",
       "      <td>1</td>\n",
       "      <td>0</td>\n",
       "    </tr>\n",
       "    <tr>\n",
       "      <th>27</th>\n",
       "      <td>NaN</td>\n",
       "      <td>17.0</td>\n",
       "      <td>1</td>\n",
       "      <td>0</td>\n",
       "    </tr>\n",
       "    <tr>\n",
       "      <th>28</th>\n",
       "      <td>NaN</td>\n",
       "      <td>NaN</td>\n",
       "      <td>1</td>\n",
       "      <td>1</td>\n",
       "    </tr>\n",
       "    <tr>\n",
       "      <th>29</th>\n",
       "      <td>NaN</td>\n",
       "      <td>NaN</td>\n",
       "      <td>-1</td>\n",
       "      <td>-1</td>\n",
       "    </tr>\n",
       "  </tbody>\n",
       "</table>\n",
       "</div>"
      ],
      "text/plain": [
       "           A     B  A_outlier  B_outlier\n",
       "0        NaN  18.0         -1          0\n",
       "1   0.183419  34.0          0          0\n",
       "2  -1.739405  23.0          0          0\n",
       "3  -0.407147  12.0          0          0\n",
       "4  -0.813476  29.0          0          0\n",
       "5   0.601784  25.0          0          0\n",
       "6   0.130457  21.0          0          0\n",
       "7   0.315318   3.0          0          0\n",
       "8   0.716157  29.0          0          0\n",
       "9  -0.703382  24.0          0          0\n",
       "10 -0.376354  32.0          0          0\n",
       "11  0.638981  41.0          0          0\n",
       "12 -1.469733  17.0          0          0\n",
       "13 -1.788557  23.0          0          0\n",
       "14  0.093530  27.0          0          0\n",
       "15 -0.947836  30.0          0          0\n",
       "16 -0.379213   NaN          0          1\n",
       "17 -0.420326  25.0          0          0\n",
       "18  0.440307  14.0          0          0\n",
       "19 -0.288918  31.0          0          0\n",
       "20 -0.606306  20.0          0          0\n",
       "21  1.315781  27.0          0          0\n",
       "22 -1.779490  29.0          0          0\n",
       "23 -0.733635  11.0          0          0\n",
       "24  0.338525  25.0          0          0\n",
       "25  1.585907  27.0          0          0\n",
       "26       NaN  27.0          1          0\n",
       "27       NaN  17.0          1          0\n",
       "28       NaN   NaN          1          1\n",
       "29       NaN   NaN         -1         -1"
      ]
     },
     "execution_count": 18,
     "metadata": {},
     "output_type": "execute_result"
    }
   ],
   "source": [
    "transformed"
   ]
  },
  {
   "cell_type": "markdown",
   "id": "523b5025",
   "metadata": {},
   "source": [
    "These new indicator columns can be used to retain information about the removed values on machine learning pipelines or to identify the outlier values for plotting or other analysis:"
   ]
  },
  {
   "cell_type": "code",
   "execution_count": 19,
   "id": "521e64c2",
   "metadata": {
    "ExecuteTime": {
     "end_time": "2023-10-29T23:28:14.017810Z",
     "start_time": "2023-10-29T23:28:13.865293Z"
    }
   },
   "outputs": [
    {
     "data": {
      "image/png": "[encoded data removed]",
      "text/plain": [
       "<Figure size 1000x100 with 1 Axes>"
      ]
     },
     "metadata": {},
     "output_type": "display_data"
    }
   ],
   "source": [
    "plt.figure(figsize=(10, 1))\n",
    "ax = sns.stripplot(data, x=\"A\", size=4, hue=transformed.A_outlier, palette=sns.color_palette(n_colors=3))\n",
    "sns.move_legend(ax, \"upper left\", bbox_to_anchor=(1, 1.15))\n",
    "plt.show()"
   ]
  },
  {
   "cell_type": "markdown",
   "id": "7b89a66c",
   "metadata": {},
   "source": [
    "# Testing and demostrations\n",
    "The previous examples were run using a pandas.DataFrame as input data, the following lines are intented to test the functionalities using padas.Series and numpy.array:\n",
    "  \n",
    "## using pandas.Series as input\n",
    "### with `add_indicator=False` as per default"
   ]
  },
  {
   "cell_type": "code",
   "execution_count": 20,
   "id": "bb6bc0ad",
   "metadata": {
    "ExecuteTime": {
     "end_time": "2023-10-29T23:28:14.033862Z",
     "start_time": "2023-10-29T23:28:14.019782Z"
    }
   },
   "outputs": [],
   "source": [
    "column_A = data['A']"
   ]
  },
  {
   "cell_type": "code",
   "execution_count": 21,
   "id": "a8df6f56",
   "metadata": {
    "ExecuteTime": {
     "end_time": "2023-10-29T23:28:14.048996Z",
     "start_time": "2023-10-29T23:28:14.034835Z"
    }
   },
   "outputs": [
    {
     "data": {
      "text/plain": [
       "0          NaN\n",
       "1     0.183419\n",
       "2    -1.739405\n",
       "3    -0.407147\n",
       "4    -0.813476\n",
       "5     0.601784\n",
       "6     0.130457\n",
       "7     0.315318\n",
       "8     0.716157\n",
       "9    -0.703382\n",
       "10   -0.376354\n",
       "11    0.638981\n",
       "12   -1.469733\n",
       "13   -1.788557\n",
       "14    0.093530\n",
       "15   -0.947836\n",
       "16   -0.379213\n",
       "17   -0.420326\n",
       "18    0.440307\n",
       "19   -0.288918\n",
       "20   -0.606306\n",
       "21    1.315781\n",
       "22   -1.779490\n",
       "23   -0.733635\n",
       "24    0.338525\n",
       "25    1.585907\n",
       "26         NaN\n",
       "27         NaN\n",
       "28         NaN\n",
       "29         NaN\n",
       "Name: A, dtype: float64"
      ]
     },
     "execution_count": 21,
     "metadata": {},
     "output_type": "execute_result"
    }
   ],
   "source": [
    "WhiskerOutliers().fit_transform(column_A)"
   ]
  },
  {
   "cell_type": "markdown",
   "id": "b890db95",
   "metadata": {},
   "source": [
    "### with `add_indicator=True`"
   ]
  },
  {
   "cell_type": "code",
   "execution_count": 22,
   "id": "6247ac81",
   "metadata": {
    "ExecuteTime": {
     "end_time": "2023-10-29T23:28:14.064506Z",
     "start_time": "2023-10-29T23:28:14.049993Z"
    }
   },
   "outputs": [
    {
     "data": {
      "text/html": [
       "<div>\n",
       "<style scoped>\n",
       "    .dataframe tbody tr th:only-of-type {\n",
       "        vertical-align: middle;\n",
       "    }\n",
       "\n",
       "    .dataframe tbody tr th {\n",
       "        vertical-align: top;\n",
       "    }\n",
       "\n",
       "    .dataframe thead th {\n",
       "        text-align: right;\n",
       "    }\n",
       "</style>\n",
       "<table border=\"1\" class=\"dataframe\">\n",
       "  <thead>\n",
       "    <tr style=\"text-align: right;\">\n",
       "      <th></th>\n",
       "      <th>A</th>\n",
       "      <th>A_outlier</th>\n",
       "    </tr>\n",
       "  </thead>\n",
       "  <tbody>\n",
       "    <tr>\n",
       "      <th>0</th>\n",
       "      <td>NaN</td>\n",
       "      <td>-1</td>\n",
       "    </tr>\n",
       "    <tr>\n",
       "      <th>1</th>\n",
       "      <td>0.183419</td>\n",
       "      <td>0</td>\n",
       "    </tr>\n",
       "    <tr>\n",
       "      <th>2</th>\n",
       "      <td>-1.739405</td>\n",
       "      <td>0</td>\n",
       "    </tr>\n",
       "    <tr>\n",
       "      <th>3</th>\n",
       "      <td>-0.407147</td>\n",
       "      <td>0</td>\n",
       "    </tr>\n",
       "    <tr>\n",
       "      <th>4</th>\n",
       "      <td>-0.813476</td>\n",
       "      <td>0</td>\n",
       "    </tr>\n",
       "    <tr>\n",
       "      <th>5</th>\n",
       "      <td>0.601784</td>\n",
       "      <td>0</td>\n",
       "    </tr>\n",
       "    <tr>\n",
       "      <th>6</th>\n",
       "      <td>0.130457</td>\n",
       "      <td>0</td>\n",
       "    </tr>\n",
       "    <tr>\n",
       "      <th>7</th>\n",
       "      <td>0.315318</td>\n",
       "      <td>0</td>\n",
       "    </tr>\n",
       "    <tr>\n",
       "      <th>8</th>\n",
       "      <td>0.716157</td>\n",
       "      <td>0</td>\n",
       "    </tr>\n",
       "    <tr>\n",
       "      <th>9</th>\n",
       "      <td>-0.703382</td>\n",
       "      <td>0</td>\n",
       "    </tr>\n",
       "    <tr>\n",
       "      <th>10</th>\n",
       "      <td>-0.376354</td>\n",
       "      <td>0</td>\n",
       "    </tr>\n",
       "    <tr>\n",
       "      <th>11</th>\n",
       "      <td>0.638981</td>\n",
       "      <td>0</td>\n",
       "    </tr>\n",
       "    <tr>\n",
       "      <th>12</th>\n",
       "      <td>-1.469733</td>\n",
       "      <td>0</td>\n",
       "    </tr>\n",
       "    <tr>\n",
       "      <th>13</th>\n",
       "      <td>-1.788557</td>\n",
       "      <td>0</td>\n",
       "    </tr>\n",
       "    <tr>\n",
       "      <th>14</th>\n",
       "      <td>0.093530</td>\n",
       "      <td>0</td>\n",
       "    </tr>\n",
       "    <tr>\n",
       "      <th>15</th>\n",
       "      <td>-0.947836</td>\n",
       "      <td>0</td>\n",
       "    </tr>\n",
       "    <tr>\n",
       "      <th>16</th>\n",
       "      <td>-0.379213</td>\n",
       "      <td>0</td>\n",
       "    </tr>\n",
       "    <tr>\n",
       "      <th>17</th>\n",
       "      <td>-0.420326</td>\n",
       "      <td>0</td>\n",
       "    </tr>\n",
       "    <tr>\n",
       "      <th>18</th>\n",
       "      <td>0.440307</td>\n",
       "      <td>0</td>\n",
       "    </tr>\n",
       "    <tr>\n",
       "      <th>19</th>\n",
       "      <td>-0.288918</td>\n",
       "      <td>0</td>\n",
       "    </tr>\n",
       "    <tr>\n",
       "      <th>20</th>\n",
       "      <td>-0.606306</td>\n",
       "      <td>0</td>\n",
       "    </tr>\n",
       "    <tr>\n",
       "      <th>21</th>\n",
       "      <td>1.315781</td>\n",
       "      <td>0</td>\n",
       "    </tr>\n",
       "    <tr>\n",
       "      <th>22</th>\n",
       "      <td>-1.779490</td>\n",
       "      <td>0</td>\n",
       "    </tr>\n",
       "    <tr>\n",
       "      <th>23</th>\n",
       "      <td>-0.733635</td>\n",
       "      <td>0</td>\n",
       "    </tr>\n",
       "    <tr>\n",
       "      <th>24</th>\n",
       "      <td>0.338525</td>\n",
       "      <td>0</td>\n",
       "    </tr>\n",
       "    <tr>\n",
       "      <th>25</th>\n",
       "      <td>1.585907</td>\n",
       "      <td>0</td>\n",
       "    </tr>\n",
       "    <tr>\n",
       "      <th>26</th>\n",
       "      <td>NaN</td>\n",
       "      <td>1</td>\n",
       "    </tr>\n",
       "    <tr>\n",
       "      <th>27</th>\n",
       "      <td>NaN</td>\n",
       "      <td>1</td>\n",
       "    </tr>\n",
       "    <tr>\n",
       "      <th>28</th>\n",
       "      <td>NaN</td>\n",
       "      <td>1</td>\n",
       "    </tr>\n",
       "    <tr>\n",
       "      <th>29</th>\n",
       "      <td>NaN</td>\n",
       "      <td>-1</td>\n",
       "    </tr>\n",
       "  </tbody>\n",
       "</table>\n",
       "</div>"
      ],
      "text/plain": [
       "           A  A_outlier\n",
       "0        NaN         -1\n",
       "1   0.183419          0\n",
       "2  -1.739405          0\n",
       "3  -0.407147          0\n",
       "4  -0.813476          0\n",
       "5   0.601784          0\n",
       "6   0.130457          0\n",
       "7   0.315318          0\n",
       "8   0.716157          0\n",
       "9  -0.703382          0\n",
       "10 -0.376354          0\n",
       "11  0.638981          0\n",
       "12 -1.469733          0\n",
       "13 -1.788557          0\n",
       "14  0.093530          0\n",
       "15 -0.947836          0\n",
       "16 -0.379213          0\n",
       "17 -0.420326          0\n",
       "18  0.440307          0\n",
       "19 -0.288918          0\n",
       "20 -0.606306          0\n",
       "21  1.315781          0\n",
       "22 -1.779490          0\n",
       "23 -0.733635          0\n",
       "24  0.338525          0\n",
       "25  1.585907          0\n",
       "26       NaN          1\n",
       "27       NaN          1\n",
       "28       NaN          1\n",
       "29       NaN         -1"
      ]
     },
     "execution_count": 22,
     "metadata": {},
     "output_type": "execute_result"
    }
   ],
   "source": [
    "WhiskerOutliers(add_indicator=True).fit_transform(column_A)"
   ]
  },
  {
   "cell_type": "markdown",
   "id": "1b1719c7",
   "metadata": {},
   "source": [
    "## using numpy.array as input\n",
    "- an array matrix of shape (30, 2), the 2 columns of the data\n",
    "- a flatten vector array of shape (30,)"
   ]
  },
  {
   "cell_type": "code",
   "execution_count": 23,
   "id": "cc50e8fd",
   "metadata": {
    "ExecuteTime": {
     "end_time": "2023-10-29T23:28:14.079484Z",
     "start_time": "2023-10-29T23:28:14.066501Z"
    }
   },
   "outputs": [
    {
     "name": "stdout",
     "output_type": "stream",
     "text": [
      "shape of array_matrix (30, 2)\n",
      "shape of flatten array (30,)\n"
     ]
    }
   ],
   "source": [
    "array_matrix = data.values\n",
    "print('shape of array_matrix', array_matrix.shape)\n",
    "array_A = data['A'].values.flatten()\n",
    "print('shape of flatten array', array_A.shape)"
   ]
  },
  {
   "cell_type": "markdown",
   "id": "11c38816",
   "metadata": {},
   "source": [
    "### using default parameters\n",
    "- with *array_matrix*"
   ]
  },
  {
   "cell_type": "code",
   "execution_count": 24,
   "id": "5a7588bd",
   "metadata": {
    "ExecuteTime": {
     "end_time": "2023-10-29T23:28:14.094649Z",
     "start_time": "2023-10-29T23:28:14.080507Z"
    }
   },
   "outputs": [
    {
     "data": {
      "text/plain": [
       "array([[        nan, 18.        ],\n",
       "       [ 0.18341866, 34.        ],\n",
       "       [-1.73940501, 23.        ],\n",
       "       [-0.40714737, 12.        ],\n",
       "       [-0.81347565, 29.        ],\n",
       "       [ 0.6017841 , 25.        ],\n",
       "       [ 0.13045701, 21.        ],\n",
       "       [ 0.31531835,  3.        ],\n",
       "       [ 0.71615739, 29.        ],\n",
       "       [-0.70338173, 24.        ],\n",
       "       [-0.37635435, 32.        ],\n",
       "       [ 0.63898084, 41.        ],\n",
       "       [-1.46973312, 17.        ],\n",
       "       [-1.78855726, 23.        ],\n",
       "       [ 0.09353018, 27.        ],\n",
       "       [-0.9478361 , 30.        ],\n",
       "       [-0.3792133 , 56.        ],\n",
       "       [-0.42032595, 25.        ],\n",
       "       [ 0.4403073 , 14.        ],\n",
       "       [-0.28891821, 31.        ],\n",
       "       [-0.60630559, 20.        ],\n",
       "       [ 1.31578068, 27.        ],\n",
       "       [-1.77949007, 29.        ],\n",
       "       [-0.73363492, 11.        ],\n",
       "       [ 0.33852455, 25.        ],\n",
       "       [ 1.58590748, 27.        ],\n",
       "       [        nan, 27.        ],\n",
       "       [        nan, 17.        ],\n",
       "       [        nan,         nan],\n",
       "       [        nan,         nan]])"
      ]
     },
     "execution_count": 24,
     "metadata": {},
     "output_type": "execute_result"
    }
   ],
   "source": [
    "WhiskerOutliers().fit_transform(array_matrix)"
   ]
  },
  {
   "cell_type": "markdown",
   "id": "b690b2d4",
   "metadata": {},
   "source": [
    "- with flatten vector array"
   ]
  },
  {
   "cell_type": "code",
   "execution_count": 25,
   "id": "ff64d532",
   "metadata": {
    "ExecuteTime": {
     "end_time": "2023-10-29T23:28:14.109710Z",
     "start_time": "2023-10-29T23:28:14.096594Z"
    }
   },
   "outputs": [
    {
     "data": {
      "text/plain": [
       "array([        nan,  0.18341866, -1.73940501, -0.40714737, -0.81347565,\n",
       "        0.6017841 ,  0.13045701,  0.31531835,  0.71615739, -0.70338173,\n",
       "       -0.37635435,  0.63898084, -1.46973312, -1.78855726,  0.09353018,\n",
       "       -0.9478361 , -0.3792133 , -0.42032595,  0.4403073 , -0.28891821,\n",
       "       -0.60630559,  1.31578068, -1.77949007, -0.73363492,  0.33852455,\n",
       "        1.58590748,         nan,         nan,         nan,         nan])"
      ]
     },
     "execution_count": 25,
     "metadata": {},
     "output_type": "execute_result"
    }
   ],
   "source": [
    "WhiskerOutliers().fit_transform(array_A)"
   ]
  },
  {
   "cell_type": "markdown",
   "id": "9effe313",
   "metadata": {},
   "source": [
    "### requesting to add indicator\n",
    "- with *array_matrix*"
   ]
  },
  {
   "cell_type": "code",
   "execution_count": 26,
   "id": "ca121d48",
   "metadata": {
    "ExecuteTime": {
     "end_time": "2023-10-29T23:28:14.125586Z",
     "start_time": "2023-10-29T23:28:14.111624Z"
    }
   },
   "outputs": [
    {
     "data": {
      "text/plain": [
       "array([[        nan, 18.        , -1.        ,  0.        ],\n",
       "       [ 0.18341866, 34.        ,  0.        ,  0.        ],\n",
       "       [-1.73940501, 23.        ,  0.        ,  0.        ],\n",
       "       [-0.40714737, 12.        ,  0.        ,  0.        ],\n",
       "       [-0.81347565, 29.        ,  0.        ,  0.        ],\n",
       "       [ 0.6017841 , 25.        ,  0.        ,  0.        ],\n",
       "       [ 0.13045701, 21.        ,  0.        ,  0.        ],\n",
       "       [ 0.31531835,  3.        ,  0.        ,  0.        ],\n",
       "       [ 0.71615739, 29.        ,  0.        ,  0.        ],\n",
       "       [-0.70338173, 24.        ,  0.        ,  0.        ],\n",
       "       [-0.37635435, 32.        ,  0.        ,  0.        ],\n",
       "       [ 0.63898084, 41.        ,  0.        ,  0.        ],\n",
       "       [-1.46973312, 17.        ,  0.        ,  0.        ],\n",
       "       [-1.78855726, 23.        ,  0.        ,  0.        ],\n",
       "       [ 0.09353018, 27.        ,  0.        ,  0.        ],\n",
       "       [-0.9478361 , 30.        ,  0.        ,  0.        ],\n",
       "       [-0.3792133 , 56.        ,  0.        ,  0.        ],\n",
       "       [-0.42032595, 25.        ,  0.        ,  0.        ],\n",
       "       [ 0.4403073 , 14.        ,  0.        ,  0.        ],\n",
       "       [-0.28891821, 31.        ,  0.        ,  0.        ],\n",
       "       [-0.60630559, 20.        ,  0.        ,  0.        ],\n",
       "       [ 1.31578068, 27.        ,  0.        ,  0.        ],\n",
       "       [-1.77949007, 29.        ,  0.        ,  0.        ],\n",
       "       [-0.73363492, 11.        ,  0.        ,  0.        ],\n",
       "       [ 0.33852455, 25.        ,  0.        ,  0.        ],\n",
       "       [ 1.58590748, 27.        ,  0.        ,  0.        ],\n",
       "       [        nan, 27.        ,  1.        ,  0.        ],\n",
       "       [        nan, 17.        ,  1.        ,  0.        ],\n",
       "       [        nan,         nan,  1.        ,  1.        ],\n",
       "       [        nan,         nan, -1.        , -1.        ]])"
      ]
     },
     "execution_count": 26,
     "metadata": {},
     "output_type": "execute_result"
    }
   ],
   "source": [
    "WhiskerOutliers(add_indicator=True).fit_transform(array_matrix)"
   ]
  },
  {
   "cell_type": "markdown",
   "id": "d8d8581c",
   "metadata": {},
   "source": [
    "- with flatten vector array"
   ]
  },
  {
   "cell_type": "code",
   "execution_count": 27,
   "id": "2985fccd",
   "metadata": {
    "ExecuteTime": {
     "end_time": "2023-10-29T23:28:14.140546Z",
     "start_time": "2023-10-29T23:28:14.127582Z"
    }
   },
   "outputs": [
    {
     "data": {
      "text/plain": [
       "array([[        nan, -1.        ],\n",
       "       [ 0.18341866,  0.        ],\n",
       "       [-1.73940501,  0.        ],\n",
       "       [-0.40714737,  0.        ],\n",
       "       [-0.81347565,  0.        ],\n",
       "       [ 0.6017841 ,  0.        ],\n",
       "       [ 0.13045701,  0.        ],\n",
       "       [ 0.31531835,  0.        ],\n",
       "       [ 0.71615739,  0.        ],\n",
       "       [-0.70338173,  0.        ],\n",
       "       [-0.37635435,  0.        ],\n",
       "       [ 0.63898084,  0.        ],\n",
       "       [-1.46973312,  0.        ],\n",
       "       [-1.78855726,  0.        ],\n",
       "       [ 0.09353018,  0.        ],\n",
       "       [-0.9478361 ,  0.        ],\n",
       "       [-0.3792133 ,  0.        ],\n",
       "       [-0.42032595,  0.        ],\n",
       "       [ 0.4403073 ,  0.        ],\n",
       "       [-0.28891821,  0.        ],\n",
       "       [-0.60630559,  0.        ],\n",
       "       [ 1.31578068,  0.        ],\n",
       "       [-1.77949007,  0.        ],\n",
       "       [-0.73363492,  0.        ],\n",
       "       [ 0.33852455,  0.        ],\n",
       "       [ 1.58590748,  0.        ],\n",
       "       [        nan,  1.        ],\n",
       "       [        nan,  1.        ],\n",
       "       [        nan,  1.        ],\n",
       "       [        nan, -1.        ]])"
      ]
     },
     "execution_count": 27,
     "metadata": {},
     "output_type": "execute_result"
    }
   ],
   "source": [
    "WhiskerOutliers(add_indicator=True).fit_transform(array_A)"
   ]
  },
  {
   "cell_type": "code",
   "execution_count": null,
   "id": "9b4aa558",
   "metadata": {},
   "outputs": [],
   "source": []
  }
 ],
 "metadata": {
  "hide_input": false,
  "kernelspec": {
   "display_name": "Python 3 (ipykernel)",
   "language": "python",
   "name": "python3"
  },
  "language_info": {
   "codemirror_mode": {
    "name": "ipython",
    "version": 3
   },
   "file_extension": ".py",
   "mimetype": "text/x-python",
   "name": "python",
   "nbconvert_exporter": "python",
   "pygments_lexer": "ipython3",
   "version": "3.10.8"
  },
  "toc": {
   "base_numbering": 1,
   "nav_menu": {},
   "number_sections": true,
   "sideBar": true,
   "skip_h1_title": false,
   "title_cell": "Table of Contents",
   "title_sidebar": "Contents",
   "toc_cell": false,
   "toc_position": {},
   "toc_section_display": true,
   "toc_window_display": false
  },
  "varInspector": {
   "cols": {
    "lenName": 16,
    "lenType": 16,
    "lenVar": 40
   },
   "kernels_config": {
    "python": {
     "delete_cmd_postfix": "",
     "delete_cmd_prefix": "del ",
     "library": "var_list.py",
     "varRefreshCmd": "print(var_dic_list())"
    },
    "r": {
     "delete_cmd_postfix": ") ",
     "delete_cmd_prefix": "rm(",
     "library": "var_list.r",
     "varRefreshCmd": "cat(var_dic_list()) "
    }
   },
   "types_to_exclude": [
    "module",
    "function",
    "builtin_function_or_method",
    "instance",
    "_Feature"
   ],
   "window_display": false
  }
 },
 "nbformat": 4,
 "nbformat_minor": 5
}
